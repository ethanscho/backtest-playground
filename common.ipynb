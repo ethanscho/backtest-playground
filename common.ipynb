{
 "cells": [
  {
   "cell_type": "code",
   "execution_count": 2,
   "metadata": {},
   "outputs": [],
   "source": [
    "BLACK_NAMES = ['보험', '화재', '금융', '홀딩스', '신용', '증권', '생명', '스팩']\n",
    "\n",
    "def exclude_holdings_and_finances(df, col):    \n",
    "    def corp_name_has_black(corp_name):\n",
    "        for black_name in BLACK_NAMES:\n",
    "            if black_name in corp_name:\n",
    "                return True\n",
    "        return False\n",
    "        \n",
    "    df['black'] = df.apply(lambda x: corp_name_has_black(x[col]), axis=1)\n",
    "    df = df[df['black'] == False]\n",
    "    return df\n",
    "\n",
    "def exclude_foreign_corps(df, col):\n",
    "    df['foreign'] = df.apply(lambda x: x[col][0] == '9', axis=1)\n",
    "    df = df[df['foreign'] == False]\n",
    "    return df\n",
    "\n",
    "def exclude_minus_income_corps(df, cols):\n",
    "    df['plus'] = True\n",
    "    for col in cols:\n",
    "        df[col] = df[col].fillna(0) # 당기순이익이 없는 경우 플러스로 만들기 위해 0으로 넣어줌\n",
    "        df['plus'] = (df[col] >= 0) * df['plus']\n",
    "    \n",
    "    df = df[df['plus'] == True]\n",
    "    return df"
   ]
  },
  {
   "cell_type": "code",
   "execution_count": null,
   "metadata": {},
   "outputs": [],
   "source": []
  }
 ],
 "metadata": {
  "kernelspec": {
   "display_name": "Python 3",
   "language": "python",
   "name": "python3"
  },
  "language_info": {
   "codemirror_mode": {
    "name": "ipython",
    "version": 3
   },
   "file_extension": ".py",
   "mimetype": "text/x-python",
   "name": "python",
   "nbconvert_exporter": "python",
   "pygments_lexer": "ipython3",
   "version": "3.7.6"
  }
 },
 "nbformat": 4,
 "nbformat_minor": 4
}
