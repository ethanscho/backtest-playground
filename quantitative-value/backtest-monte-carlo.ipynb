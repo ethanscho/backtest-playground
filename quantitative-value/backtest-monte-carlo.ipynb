{
 "cells": [
  {
   "cell_type": "code",
   "execution_count": 1,
   "metadata": {},
   "outputs": [],
   "source": [
    "import os\n",
    "import glob\n",
    "import random\n",
    "import datetime\n",
    "import importlib\n",
    "import statistics\n",
    "import numpy as np\n",
    "import pandas as pd\n",
    "from marcap import marcap_data\n",
    "import FinanceDataReader as fdr\n",
    "import matplotlib.pyplot as plt\n",
    "import matplotlib.ticker as ticker\n",
    "from prettytable import PrettyTable"
   ]
  },
  {
   "cell_type": "code",
   "execution_count": 2,
   "metadata": {},
   "outputs": [
    {
     "data": {
      "text/plain": [
       "<module 'models.qp' from '/Users/seunghun/Documents/Documents - Seunghun’s MacBook Pro/Projects/stock-backtesting/backtest-playground/quantitative-value/models/qp.py'>"
      ]
     },
     "execution_count": 2,
     "metadata": {},
     "output_type": "execute_result"
    }
   ],
   "source": [
    "import models.qp as model # 1/PBR + GP/A\n",
    "#import models.ncav as model # NCAV\n",
    "#import models.super_value as model # PBR + PCR + PER + PSR\n",
    "#import models.super_quality as model\n",
    "#import models.lu_zhang as model\n",
    "\n",
    "importlib.reload(model)"
   ]
  },
  {
   "cell_type": "code",
   "execution_count": 3,
   "metadata": {},
   "outputs": [],
   "source": [
    "MODEL_NAME = 'qp'\n",
    "#DATA_DIR = '../data/quarterly/3-6-9-12' # quarter\n",
    "# DATA_DIR = '../data/half-year/2-8' # half year\n",
    "DATA_DIR = '../data/yearly/8-1'\n",
    "REBALANCE = 1 # 1: yearly, 2: half-yearly 4: quarterly"
   ]
  },
  {
   "cell_type": "code",
   "execution_count": 4,
   "metadata": {},
   "outputs": [],
   "source": [
    "df_account = pd.DataFrame(columns=['start_date', 'end_date', 'filepath', 'mc_filepath'])\n",
    "filepaths = glob.glob(DATA_DIR + \"/*.csv\")\n",
    "filepaths = sorted(filepaths)\n",
    "\n",
    "days = []\n",
    "for i in range(len(filepaths)):\n",
    "    if i < len(filepaths) - 1: # exclude last item\n",
    "        start_date = os.path.basename(filepaths[i])[:-4]\n",
    "        end_date = os.path.basename(filepaths[i + 1])[:-4]\n",
    "        \n",
    "        day = {'start_date':start_date, 'end_date':end_date, 'filepath':filepaths[i]}\n",
    "        days.append(day)\n",
    "\n",
    "df_account = df_account.append(days)"
   ]
  },
  {
   "cell_type": "code",
   "execution_count": 5,
   "metadata": {},
   "outputs": [
    {
     "data": {
      "text/plain": [
       "['../data/yearly/8-1/2002-08-01.csv',\n",
       " '../data/yearly/8-1/2003-08-01.csv',\n",
       " '../data/yearly/8-1/2004-08-02.csv',\n",
       " '../data/yearly/8-1/2005-08-01.csv',\n",
       " '../data/yearly/8-1/2006-08-01.csv',\n",
       " '../data/yearly/8-1/2007-08-01.csv',\n",
       " '../data/yearly/8-1/2008-08-01.csv',\n",
       " '../data/yearly/8-1/2009-08-03.csv',\n",
       " '../data/yearly/8-1/2010-08-02.csv',\n",
       " '../data/yearly/8-1/2011-08-01.csv',\n",
       " '../data/yearly/8-1/2012-08-01.csv',\n",
       " '../data/yearly/8-1/2013-08-01.csv',\n",
       " '../data/yearly/8-1/2014-08-01.csv',\n",
       " '../data/yearly/8-1/2015-08-03.csv',\n",
       " '../data/yearly/8-1/2016-08-01.csv',\n",
       " '../data/yearly/8-1/2017-08-01.csv',\n",
       " '../data/yearly/8-1/2018-08-01.csv',\n",
       " '../data/yearly/8-1/2019-08-01.csv']"
      ]
     },
     "execution_count": 5,
     "metadata": {},
     "output_type": "execute_result"
    }
   ],
   "source": [
    "filepaths"
   ]
  },
  {
   "cell_type": "markdown",
   "metadata": {},
   "source": [
    "### 80% 기업만 샘플링"
   ]
  },
  {
   "cell_type": "code",
   "execution_count": 8,
   "metadata": {},
   "outputs": [],
   "source": [
    "stock_codes = set()\n",
    "i = 0\n",
    "for filepath in filepaths:\n",
    "    df_daily = pd.read_csv(filepath, dtype={\"기업코드\":\"string\", \"종목코드\":\"string\"})\n",
    "    stock_codes.update(df_daily['종목코드'].tolist())\n",
    "    \n",
    "#     i += 1\n",
    "#     if i == 2:\n",
    "#         break"
   ]
  },
  {
   "cell_type": "code",
   "execution_count": 11,
   "metadata": {},
   "outputs": [
    {
     "name": "stdout",
     "output_type": "stream",
     "text": [
      "0 1.38035724290533\n"
     ]
    },
    {
     "name": "stderr",
     "output_type": "stream",
     "text": [
      "/usr/local/lib/python3.7/site-packages/ipykernel_launcher.py:21: SettingWithCopyWarning: \n",
      "A value is trying to be set on a copy of a slice from a DataFrame\n",
      "\n",
      "See the caveats in the documentation: https://pandas.pydata.org/pandas-docs/stable/user_guide/indexing.html#returning-a-view-versus-a-copy\n"
     ]
    },
    {
     "name": "stdout",
     "output_type": "stream",
     "text": [
      "1 1.4094700812569338\n",
      "2 1.4369384076603002\n",
      "3 1.4290831342580879\n",
      "4 1.4229557308563363\n",
      "5 1.4141389380701297\n",
      "6 1.3602019737126765\n",
      "7 1.427249048946543\n",
      "8 1.4450726593404917\n",
      "9 1.365563916285668\n",
      "10 1.4057922688239237\n",
      "11 1.4036415855037438\n",
      "12 1.3815497254960882\n",
      "13 1.4044191461156543\n",
      "14 1.3863190953348652\n",
      "15 1.4500249609773483\n",
      "16 1.4702132548298763\n",
      "17 1.4108600983728483\n",
      "18 1.4144292766892708\n",
      "19 1.4220393832382392\n",
      "20 1.4197983052657703\n",
      "21 1.4207428688583554\n",
      "22 1.435923629727126\n",
      "23 1.4283622826510265\n",
      "24 1.4380884591855096\n",
      "25 1.4473270530788094\n",
      "26 1.4045990772785515\n",
      "27 1.3565741841535082\n",
      "28 1.4248399514708012\n",
      "29 1.4402815212714586\n",
      "30 1.3889531148042307\n",
      "31 1.4417057999218115\n",
      "32 1.3802427639847266\n",
      "33 1.4258916499355683\n",
      "34 1.3998133580293644\n",
      "35 1.397397493597402\n",
      "36 1.4602645631659785\n",
      "37 1.3820272583516098\n",
      "38 1.4329960262304855\n",
      "39 1.4178560888479976\n",
      "40 1.4931951771083545\n",
      "41 1.408770997393518\n",
      "42 1.4316230485901078\n",
      "43 1.4483656701818455\n",
      "44 1.4164962454571077\n",
      "45 1.4193015332576586\n",
      "46 1.41295253740105\n",
      "47 1.4407614138335179\n",
      "48 1.4372763108607005\n",
      "49 1.4540556800235573\n",
      "50 1.3917358973790461\n",
      "51 1.4540842805785457\n",
      "52 1.388844030492285\n",
      "53 1.405640658175915\n",
      "54 1.3801439928244579\n",
      "55 1.4460309236784041\n",
      "56 1.4364131852535569\n",
      "57 1.4605264950814598\n",
      "58 1.4448392334166742\n",
      "59 1.4229487673875496\n",
      "60 1.4090581855616915\n",
      "61 1.4174576347664671\n",
      "62 1.4353645025098747\n",
      "63 1.465509372633144\n",
      "64 1.4359721562175327\n",
      "65 1.4266118172364717\n",
      "66 1.4299594802011697\n",
      "67 1.3912229549267863\n",
      "68 1.4178006594045949\n",
      "69 1.422520339447659\n",
      "70 1.4578409285154519\n",
      "71 1.3763719442509996\n",
      "72 1.387524250058685\n",
      "73 1.4198674986314255\n",
      "74 1.4028144146116945\n",
      "75 1.4351797988552042\n",
      "76 1.418294075824927\n",
      "77 1.4323263319603494\n",
      "78 1.4033404807442202\n",
      "79 1.4414156838476058\n",
      "80 1.4443977539154236\n",
      "81 1.4032250476961388\n",
      "82 1.405554037280395\n",
      "83 1.4555957877073225\n",
      "84 1.4537102526401415\n",
      "85 1.4146067457918392\n",
      "86 1.4469396110378532\n",
      "87 1.4703349363671727\n",
      "88 1.4503724128444404\n",
      "89 1.428311810817275\n",
      "90 1.4457759746366459\n",
      "91 1.3834697380269567\n",
      "92 1.415750028575892\n",
      "93 1.4405101939947158\n",
      "94 1.415510099456913\n",
      "95 1.4284892457617313\n",
      "96 1.375250156890697\n",
      "97 1.4181671778561613\n",
      "98 1.4284991318324907\n",
      "99 1.4207689110519475\n"
     ]
    }
   ],
   "source": [
    "cagrs = []\n",
    "for e in range(100):\n",
    "    # 랜덤 80% 기업 리스트 생성\n",
    "    sampled_stock_codes = random.sample(stock_codes, int(len(stock_codes) * 0.8))\n",
    "    mc_filepaths = []\n",
    "    \n",
    "    # 80%에 포함된 기업으로만 daily file 생성\n",
    "    for i, filepath in enumerate(filepaths):\n",
    "        df_daily = pd.read_csv(filepath, dtype={\"기업코드\":\"string\", \"종목코드\":\"string\"})\n",
    "        df_sampled = df_daily[df_daily['종목코드'].isin(sampled_stock_codes)]\n",
    "        #print(len(df_sampled) / len(df_daily))\n",
    "\n",
    "        filename = os.path.basename(filepath)\n",
    "        file_dir = os.path.dirname(filepath) + '/mc/'\n",
    "        filepath = file_dir + filename\n",
    "\n",
    "        if not os.path.exists(file_dir):\n",
    "            os.makedirs(file_dir)\n",
    "\n",
    "        df_sampled.to_csv(filepath, index=False)\n",
    "        df_account['mc_filepath'][i] = filepath\n",
    "        mc_filepaths.append(filepath)\n",
    "        \n",
    "    # 시뮬레이션 시작\n",
    "    \n",
    "    # 연도별 종목을 구한다.\n",
    "    df_account['stocks'] = df_account.apply(lambda x: model.get_stocks(x.mc_filepath, x.start_date, False), axis=1)\n",
    "    \n",
    "    # 연도별 수익률을 구한다.\n",
    "    df_account['yield'] = 0.0\n",
    "    df_account['yields'] = 0.0\n",
    "    df_account['yields'] = df_account['yields'].astype('object')\n",
    "\n",
    "    for i in range(len(mc_filepaths)):\n",
    "        if i < len(mc_filepaths) - 1: # exclude last item\n",
    "            start_date = df_account.iloc[i].start_date\n",
    "            end_date = df_account.iloc[i].end_date\n",
    "\n",
    "            df_this_year = pd.read_csv(mc_filepaths[i], dtype={\"기업코드\":\"string\", \"종목코드\":\"string\"})[['종목코드', '주가']]\n",
    "            df_next_year = pd.read_csv(mc_filepaths[i + 1], dtype={\"기업코드\":\"string\", \"종목코드\":\"string\"})[['종목코드', '주가']]\n",
    "\n",
    "            stocks = df_account.iloc[i].stocks   \n",
    "            yields = []\n",
    "\n",
    "            # 종목별 수익률, 상장폐지 기업 수를 구한다.\n",
    "            delisted = 0 # 상장폐지 기업 수\n",
    "            delisted_stocks  = []\n",
    "            for stock in stocks:\n",
    "                start_price = df_this_year[df_this_year['종목코드'] == stock]['주가'].iloc[0]\n",
    "                end_price = df_next_year[df_next_year['종목코드'] == stock]['주가']\n",
    "\n",
    "                if len(end_price) == 0:\n",
    "                    end_price = 0\n",
    "                else:                    \n",
    "                    end_price = end_price.fillna(0) \n",
    "                    end_price = end_price.iloc[0]\n",
    "\n",
    "                if end_price == 0: # 가격 정보가 없을 경우 상폐\n",
    "                    delisted += 1\n",
    "                    delisted_stocks.append(stock)\n",
    "\n",
    "                # get yield\n",
    "                yields.append(end_price / start_price)\n",
    "\n",
    "            # stock 수익률들의 avg가 total 수익률이 된다. (동일 비중이기 때문에)\n",
    "            mean_yields = statistics.mean(yields)\n",
    "            df_account.at[i, 'yield'] = mean_yields\n",
    "            df_account.at[i, 'yields'] = yields\n",
    "            #print(start_date, '~', end_date, \":\", mean_yields)\n",
    "    \n",
    "    df_account['total'] = df_account['yield'].cumprod()\n",
    "    cagr = pow(df_account['total'][len(df_account) - 1], 1/(len(df_account)/REBALANCE))\n",
    "    print(e, cagr)\n",
    "    \n",
    "    cagrs.append(cagr)"
   ]
  },
  {
   "cell_type": "code",
   "execution_count": 12,
   "metadata": {},
   "outputs": [
    {
     "data": {
      "text/plain": [
       "1.4214970302124785"
      ]
     },
     "execution_count": 12,
     "metadata": {},
     "output_type": "execute_result"
    }
   ],
   "source": [
    "np.mean(cagrs)"
   ]
  },
  {
   "cell_type": "code",
   "execution_count": 13,
   "metadata": {},
   "outputs": [
    {
     "data": {
      "text/plain": [
       "0.025966703696751015"
      ]
     },
     "execution_count": 13,
     "metadata": {},
     "output_type": "execute_result"
    }
   ],
   "source": [
    "np.std(cagrs)"
   ]
  },
  {
   "cell_type": "code",
   "execution_count": null,
   "metadata": {},
   "outputs": [],
   "source": []
  },
  {
   "cell_type": "code",
   "execution_count": null,
   "metadata": {},
   "outputs": [],
   "source": []
  },
  {
   "cell_type": "code",
   "execution_count": null,
   "metadata": {},
   "outputs": [],
   "source": []
  },
  {
   "cell_type": "code",
   "execution_count": null,
   "metadata": {},
   "outputs": [],
   "source": []
  }
 ],
 "metadata": {
  "kernelspec": {
   "display_name": "Python 3",
   "language": "python",
   "name": "python3"
  },
  "language_info": {
   "codemirror_mode": {
    "name": "ipython",
    "version": 3
   },
   "file_extension": ".py",
   "mimetype": "text/x-python",
   "name": "python",
   "nbconvert_exporter": "python",
   "pygments_lexer": "ipython3",
   "version": "3.7.6"
  }
 },
 "nbformat": 4,
 "nbformat_minor": 4
}
