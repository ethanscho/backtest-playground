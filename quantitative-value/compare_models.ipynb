{
 "cells": [
  {
   "cell_type": "code",
   "execution_count": 4,
   "id": "domestic-laser",
   "metadata": {},
   "outputs": [],
   "source": [
    "import numpy as np"
   ]
  },
  {
   "cell_type": "code",
   "execution_count": 1,
   "id": "coated-frontier",
   "metadata": {},
   "outputs": [],
   "source": [
    "pbr_psr = [0.8362149546958447,\n",
    " 1.169796093893906,\n",
    " 3.363243931151563,\n",
    " 1.4494087244221778,\n",
    " 2.3539679909247706,\n",
    " 1.2105749458959074,\n",
    " 1.1867787623811095,\n",
    " 1.3479118922762068,\n",
    " 6.44049488466938,\n",
    " 1.8833552874983783,\n",
    " 1.135273999800053,\n",
    " 1.2750959139247398,\n",
    " 1.7037286113151053,\n",
    " 1.4083162830674167,\n",
    " 1.0374424751627165,\n",
    " 1.6636053649189335,\n",
    " 1.2841766071561316]"
   ]
  },
  {
   "cell_type": "code",
   "execution_count": 2,
   "id": "dedicated-ghost",
   "metadata": {},
   "outputs": [],
   "source": [
    "pbr_gpa = [0.8800222476661446,\n",
    " 1.046178849695229,\n",
    " 2.853786099662451,\n",
    " 1.2004020671638218,\n",
    " 2.2368028664141812,\n",
    " 0.8694899215130552,\n",
    " 1.1459746697578597,\n",
    " 1.4444868681776335,\n",
    " 2.2063302078359066,\n",
    " 1.4617654555959863,\n",
    " 1.2986769460409477,\n",
    " 1.304503631641778,\n",
    " 2.0560129586739726,\n",
    " 1.578267452323414,\n",
    " 1.0330638832475,\n",
    " 1.8637263534525885,\n",
    " 1.2932781105476583]"
   ]
  },
  {
   "cell_type": "code",
   "execution_count": 5,
   "id": "distinguished-looking",
   "metadata": {},
   "outputs": [
    {
     "data": {
      "text/plain": [
       "array([[1.        , 0.67741997],\n",
       "       [0.67741997, 1.        ]])"
      ]
     },
     "execution_count": 5,
     "metadata": {},
     "output_type": "execute_result"
    }
   ],
   "source": [
    "np.corrcoef(pbr_psr, pbr_gpa)"
   ]
  },
  {
   "cell_type": "code",
   "execution_count": null,
   "id": "adjustable-queue",
   "metadata": {},
   "outputs": [],
   "source": []
  }
 ],
 "metadata": {
  "kernelspec": {
   "display_name": "Python 3",
   "language": "python",
   "name": "python3"
  },
  "language_info": {
   "codemirror_mode": {
    "name": "ipython",
    "version": 3
   },
   "file_extension": ".py",
   "mimetype": "text/x-python",
   "name": "python",
   "nbconvert_exporter": "python",
   "pygments_lexer": "ipython3",
   "version": "3.7.3"
  }
 },
 "nbformat": 4,
 "nbformat_minor": 5
}
