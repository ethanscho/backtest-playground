{
 "cells": [
  {
   "cell_type": "code",
   "execution_count": 1,
   "metadata": {},
   "outputs": [],
   "source": [
    "import os\n",
    "import glob\n",
    "import datetime\n",
    "import importlib\n",
    "import statistics\n",
    "import numpy as np\n",
    "import pandas as pd\n",
    "from marcap import marcap_data\n",
    "import FinanceDataReader as fdr\n",
    "import matplotlib.pyplot as plt\n",
    "import matplotlib.ticker as ticker\n",
    "from prettytable import PrettyTable"
   ]
  },
  {
   "cell_type": "code",
   "execution_count": 2,
   "metadata": {},
   "outputs": [
    {
     "data": {
      "text/plain": [
       "<module 'models.lu_zhang' from '/Users/seunghun/Documents/Projects/stock-backtesting/backtest-playground/quantitative-value/models/lu_zhang.py'>"
      ]
     },
     "execution_count": 2,
     "metadata": {},
     "output_type": "execute_result"
    }
   ],
   "source": [
    "#import models.qp as model # import get_stocks # 1/PBR + GP/A\n",
    "#import models.ncav as model # NCAV\n",
    "#import models.super_value as model # PBR + PCR + PER + PSR\n",
    "#import models.super_quality as model\n",
    "import models.lu_zhang as model\n",
    "\n",
    "importlib.reload(model)"
   ]
  },
  {
   "cell_type": "code",
   "execution_count": 3,
   "metadata": {},
   "outputs": [],
   "source": [
    "MODEL_NAME = 'qp'\n",
    "DATA_DIR = '../data/daily/8-1'"
   ]
  },
  {
   "cell_type": "code",
   "execution_count": 4,
   "metadata": {},
   "outputs": [],
   "source": [
    "df_account = pd.DataFrame(columns=['start_date', 'end_date', 'filepath'])\n",
    "filepaths = glob.glob(DATA_DIR + \"/*.csv\")\n",
    "filepaths = sorted(filepaths)\n",
    "\n",
    "days = []\n",
    "for i in range(len(filepaths)):\n",
    "    if i < len(filepaths) - 1: # exclude last item\n",
    "        start_date =  os.path.basename(filepaths[i])[:-4]\n",
    "        end_date =  os.path.basename(filepaths[i + 1])[:-4]\n",
    "        \n",
    "        day = {'start_date':start_date, 'end_date':end_date, 'filepath':filepaths[i]}\n",
    "        days.append(day)\n",
    "\n",
    "df_account = df_account.append(days)"
   ]
  },
  {
   "cell_type": "code",
   "execution_count": 5,
   "metadata": {},
   "outputs": [
    {
     "data": {
      "text/html": [
       "<div>\n",
       "<style scoped>\n",
       "    .dataframe tbody tr th:only-of-type {\n",
       "        vertical-align: middle;\n",
       "    }\n",
       "\n",
       "    .dataframe tbody tr th {\n",
       "        vertical-align: top;\n",
       "    }\n",
       "\n",
       "    .dataframe thead th {\n",
       "        text-align: right;\n",
       "    }\n",
       "</style>\n",
       "<table border=\"1\" class=\"dataframe\">\n",
       "  <thead>\n",
       "    <tr style=\"text-align: right;\">\n",
       "      <th></th>\n",
       "      <th>start_date</th>\n",
       "      <th>end_date</th>\n",
       "      <th>filepath</th>\n",
       "    </tr>\n",
       "  </thead>\n",
       "  <tbody>\n",
       "    <tr>\n",
       "      <th>0</th>\n",
       "      <td>2000-08-01</td>\n",
       "      <td>2001-08-01</td>\n",
       "      <td>../data/daily/8-1/2000-08-01.csv</td>\n",
       "    </tr>\n",
       "    <tr>\n",
       "      <th>1</th>\n",
       "      <td>2001-08-01</td>\n",
       "      <td>2002-08-01</td>\n",
       "      <td>../data/daily/8-1/2001-08-01.csv</td>\n",
       "    </tr>\n",
       "    <tr>\n",
       "      <th>2</th>\n",
       "      <td>2002-08-01</td>\n",
       "      <td>2003-08-01</td>\n",
       "      <td>../data/daily/8-1/2002-08-01.csv</td>\n",
       "    </tr>\n",
       "    <tr>\n",
       "      <th>3</th>\n",
       "      <td>2003-08-01</td>\n",
       "      <td>2004-08-02</td>\n",
       "      <td>../data/daily/8-1/2003-08-01.csv</td>\n",
       "    </tr>\n",
       "    <tr>\n",
       "      <th>4</th>\n",
       "      <td>2004-08-02</td>\n",
       "      <td>2005-08-01</td>\n",
       "      <td>../data/daily/8-1/2004-08-02.csv</td>\n",
       "    </tr>\n",
       "    <tr>\n",
       "      <th>5</th>\n",
       "      <td>2005-08-01</td>\n",
       "      <td>2006-08-01</td>\n",
       "      <td>../data/daily/8-1/2005-08-01.csv</td>\n",
       "    </tr>\n",
       "    <tr>\n",
       "      <th>6</th>\n",
       "      <td>2006-08-01</td>\n",
       "      <td>2007-08-01</td>\n",
       "      <td>../data/daily/8-1/2006-08-01.csv</td>\n",
       "    </tr>\n",
       "    <tr>\n",
       "      <th>7</th>\n",
       "      <td>2007-08-01</td>\n",
       "      <td>2008-08-01</td>\n",
       "      <td>../data/daily/8-1/2007-08-01.csv</td>\n",
       "    </tr>\n",
       "    <tr>\n",
       "      <th>8</th>\n",
       "      <td>2008-08-01</td>\n",
       "      <td>2009-08-03</td>\n",
       "      <td>../data/daily/8-1/2008-08-01.csv</td>\n",
       "    </tr>\n",
       "    <tr>\n",
       "      <th>9</th>\n",
       "      <td>2009-08-03</td>\n",
       "      <td>2010-08-02</td>\n",
       "      <td>../data/daily/8-1/2009-08-03.csv</td>\n",
       "    </tr>\n",
       "    <tr>\n",
       "      <th>10</th>\n",
       "      <td>2010-08-02</td>\n",
       "      <td>2011-08-01</td>\n",
       "      <td>../data/daily/8-1/2010-08-02.csv</td>\n",
       "    </tr>\n",
       "    <tr>\n",
       "      <th>11</th>\n",
       "      <td>2011-08-01</td>\n",
       "      <td>2012-08-01</td>\n",
       "      <td>../data/daily/8-1/2011-08-01.csv</td>\n",
       "    </tr>\n",
       "    <tr>\n",
       "      <th>12</th>\n",
       "      <td>2012-08-01</td>\n",
       "      <td>2013-08-01</td>\n",
       "      <td>../data/daily/8-1/2012-08-01.csv</td>\n",
       "    </tr>\n",
       "    <tr>\n",
       "      <th>13</th>\n",
       "      <td>2013-08-01</td>\n",
       "      <td>2014-08-01</td>\n",
       "      <td>../data/daily/8-1/2013-08-01.csv</td>\n",
       "    </tr>\n",
       "    <tr>\n",
       "      <th>14</th>\n",
       "      <td>2014-08-01</td>\n",
       "      <td>2015-08-03</td>\n",
       "      <td>../data/daily/8-1/2014-08-01.csv</td>\n",
       "    </tr>\n",
       "    <tr>\n",
       "      <th>15</th>\n",
       "      <td>2015-08-03</td>\n",
       "      <td>2016-08-01</td>\n",
       "      <td>../data/daily/8-1/2015-08-03.csv</td>\n",
       "    </tr>\n",
       "    <tr>\n",
       "      <th>16</th>\n",
       "      <td>2016-08-01</td>\n",
       "      <td>2017-08-01</td>\n",
       "      <td>../data/daily/8-1/2016-08-01.csv</td>\n",
       "    </tr>\n",
       "    <tr>\n",
       "      <th>17</th>\n",
       "      <td>2017-08-01</td>\n",
       "      <td>2018-08-01</td>\n",
       "      <td>../data/daily/8-1/2017-08-01.csv</td>\n",
       "    </tr>\n",
       "    <tr>\n",
       "      <th>18</th>\n",
       "      <td>2018-08-01</td>\n",
       "      <td>2019-08-01</td>\n",
       "      <td>../data/daily/8-1/2018-08-01.csv</td>\n",
       "    </tr>\n",
       "  </tbody>\n",
       "</table>\n",
       "</div>"
      ],
      "text/plain": [
       "    start_date    end_date                          filepath\n",
       "0   2000-08-01  2001-08-01  ../data/daily/8-1/2000-08-01.csv\n",
       "1   2001-08-01  2002-08-01  ../data/daily/8-1/2001-08-01.csv\n",
       "2   2002-08-01  2003-08-01  ../data/daily/8-1/2002-08-01.csv\n",
       "3   2003-08-01  2004-08-02  ../data/daily/8-1/2003-08-01.csv\n",
       "4   2004-08-02  2005-08-01  ../data/daily/8-1/2004-08-02.csv\n",
       "5   2005-08-01  2006-08-01  ../data/daily/8-1/2005-08-01.csv\n",
       "6   2006-08-01  2007-08-01  ../data/daily/8-1/2006-08-01.csv\n",
       "7   2007-08-01  2008-08-01  ../data/daily/8-1/2007-08-01.csv\n",
       "8   2008-08-01  2009-08-03  ../data/daily/8-1/2008-08-01.csv\n",
       "9   2009-08-03  2010-08-02  ../data/daily/8-1/2009-08-03.csv\n",
       "10  2010-08-02  2011-08-01  ../data/daily/8-1/2010-08-02.csv\n",
       "11  2011-08-01  2012-08-01  ../data/daily/8-1/2011-08-01.csv\n",
       "12  2012-08-01  2013-08-01  ../data/daily/8-1/2012-08-01.csv\n",
       "13  2013-08-01  2014-08-01  ../data/daily/8-1/2013-08-01.csv\n",
       "14  2014-08-01  2015-08-03  ../data/daily/8-1/2014-08-01.csv\n",
       "15  2015-08-03  2016-08-01  ../data/daily/8-1/2015-08-03.csv\n",
       "16  2016-08-01  2017-08-01  ../data/daily/8-1/2016-08-01.csv\n",
       "17  2017-08-01  2018-08-01  ../data/daily/8-1/2017-08-01.csv\n",
       "18  2018-08-01  2019-08-01  ../data/daily/8-1/2018-08-01.csv"
      ]
     },
     "execution_count": 5,
     "metadata": {},
     "output_type": "execute_result"
    }
   ],
   "source": [
    "df_account"
   ]
  },
  {
   "cell_type": "code",
   "execution_count": 6,
   "metadata": {},
   "outputs": [
    {
     "name": "stdout",
     "output_type": "stream",
     "text": [
      "2000-08-01 선정 기업 수 30\n",
      "2001-08-01 선정 기업 수 30\n",
      "2002-08-01 선정 기업 수 30\n",
      "2003-08-01 선정 기업 수 30\n",
      "2004-08-02 선정 기업 수 30\n",
      "2005-08-01 선정 기업 수 30\n",
      "2006-08-01 선정 기업 수 30\n",
      "2007-08-01 선정 기업 수 30\n",
      "2008-08-01 선정 기업 수 30\n",
      "2009-08-03 선정 기업 수 30\n",
      "2010-08-02 선정 기업 수 30\n",
      "2011-08-01 선정 기업 수 30\n",
      "2012-08-01 선정 기업 수 30\n",
      "2013-08-01 선정 기업 수 30\n",
      "2014-08-01 선정 기업 수 30\n",
      "2015-08-03 선정 기업 수 30\n",
      "2016-08-01 선정 기업 수 30\n",
      "2017-08-01 선정 기업 수 30\n",
      "2018-08-01 선정 기업 수 30\n"
     ]
    }
   ],
   "source": [
    "# 연도별 종목을 구한다.\n",
    "df_account['stocks'] = df_account.apply(lambda x: model.get_stocks(x.filepath, x.start_date, False), axis=1)"
   ]
  },
  {
   "cell_type": "code",
   "execution_count": 7,
   "metadata": {},
   "outputs": [],
   "source": [
    "# 백테스트 기간의 가격 정보를 가져온다.\n",
    "df_price = marcap_data(df_account.iloc[0].start_date, df_account.iloc[len(df_account) - 1].end_date)"
   ]
  },
  {
   "cell_type": "code",
   "execution_count": 15,
   "metadata": {},
   "outputs": [
    {
     "name": "stdout",
     "output_type": "stream",
     "text": [
      "2000-08-01 2001-08-01 1.615354416187291\n",
      "2001-08-01 2002-08-01 0.7643813439033601\n",
      "2002-08-01 2003-08-01 0.832999348271389\n",
      "2003-08-01 2004-08-02 0.8072871851200839\n",
      "2004-08-02 2005-08-01 2.353758126726201\n",
      "2005-08-01 2006-08-01 1.5135188704140536\n",
      "2006-08-01 2007-08-01 1.9423791713357825\n",
      "2007-08-01 2008-08-01 0.862023055331015\n"
     ]
    },
    {
     "name": "stderr",
     "output_type": "stream",
     "text": [
      "/usr/local/lib/python3.7/site-packages/ipykernel_launcher.py:51: RuntimeWarning: divide by zero encountered in double_scalars\n"
     ]
    },
    {
     "name": "stdout",
     "output_type": "stream",
     "text": [
      "2008-08-01 2009-08-03 0.9952421990125938\n",
      "2009-08-03 2010-08-02 1.4785608804146726\n",
      "2010-08-02 2011-08-01 1.115230627669744\n",
      "2011-08-01 2012-08-01 1.1884915964018405\n",
      "2012-08-01 2013-08-01 1.3761619431379617\n",
      "2013-08-01 2014-08-01 1.0421942199757597\n",
      "2014-08-01 2015-08-03 1.4806650896013234\n",
      "2015-08-03 2016-08-01 1.2125211988478946\n",
      "2016-08-01 2017-08-01 1.0292130447171828\n",
      "2017-08-01 2018-08-01 1.039676935935646\n",
      "2018-08-01 2019-08-01 0.9864297141586704\n"
     ]
    }
   ],
   "source": [
    "# 연도별 / 월별 수익률을 구한다.\n",
    "df_account['monthly_yield'] = 0.0\n",
    "df_account['monthly_yield'] = df_account['monthly_yield'].astype('object')\n",
    "df_account['yearly_yield'] = 0.0\n",
    "df_account['delisted_stocks'] = 0.0\n",
    "df_account['delisted_stocks'] = df_account['delisted_stocks'].astype('object')\n",
    "df_account['year_month'] = 0.0\n",
    "df_account['year_month'] = df_account['year_month'].astype('object')\n",
    "\n",
    "for i in range(len(filepaths)):\n",
    "    if i < len(filepaths) - 1: # exclude last item\n",
    "        start_date = df_account.iloc[i].start_date\n",
    "        end_date = df_account.iloc[i].end_date\n",
    "        \n",
    "        stocks = df_account.iloc[i].stocks\n",
    "\n",
    "        # 한 해의 가격 정보\n",
    "        df_yearly_price = df_price[(df_price.index >= start_date) & (df_price.index < end_date)]\n",
    "        \n",
    "        # 연도-월\n",
    "        df_year_month = df_yearly_price.groupby(df_yearly_price.index).agg({'Open': 'max'}).reset_index()\n",
    "        df_year_month['year_month'] = df_year_month.apply(lambda x: str(x.Date)[:7], axis=1)\n",
    "        df_year_month = df_year_month.groupby(\"year_month\").agg({'Open': 'first'})\n",
    "\n",
    "        # 종목별 월별 수익률 저장\n",
    "        df_monthly_yield = pd.DataFrame()\n",
    "\n",
    "        # 상폐 종목\n",
    "        delisted_stocks = []\n",
    "        \n",
    "        # 종목별 월별 수익률 구하기\n",
    "        for stock in stocks:\n",
    "            df_yearly_stock_price = df_yearly_price[df_yearly_price.Code == stock].reset_index()\n",
    "            if len(df_yearly_stock_price) == 0:\n",
    "                df_monthly_yield[stock] = [0] * 12\n",
    "                continue\n",
    "                \n",
    "            # 월별 수익률\n",
    "            df_monthly_stock = pd.DataFrame(index=df_year_month.index)\n",
    "            df_monthly_stock['yield'] = 1.0 # 1년 내에 가격 정보가 없는 기간은 거래 정지 기간이라고 보고 수익률을 1.0으로 처리\n",
    "            \n",
    "            # 월별로 groupby\n",
    "            df_yearly_stock_price['year_month'] = df_yearly_stock_price.apply(lambda x: str(x.Date)[:7], axis=1)\n",
    "            df_monthly_stock_yield = df_yearly_stock_price.groupby(\"year_month\").agg({'Open': 'first', 'Close': 'last'})\n",
    "\n",
    "            # 월별 수익률 기록하기\n",
    "            for idx, row in enumerate(df_monthly_stock_yield.iterrows()):\n",
    "                if idx == len(df_monthly_stock_yield) - 1: # 마지막 월\n",
    "                    df_monthly_stock.at[row[0], 'yield'] = row[1]['Close'] / row[1]['Open']\n",
    "                else:\n",
    "                    df_monthly_stock.at[row[0], 'yield'] = df_monthly_stock_yield.iloc[idx + 1]['Open'] / row[1]['Open']\n",
    "            \n",
    "            if df_monthly_stock.index[-1] != df_monthly_stock_yield.index[-1]: # 마지막 월이 서로 다를 때 => 상폐 처리\n",
    "                # 상폐된 row index 구하기\n",
    "                row_index = len(df_monthly_stock_yield)\n",
    "                \n",
    "                # 상폐된 시점에서부터 수익률을 0.0으로 처리\n",
    "                for idx, row in enumerate(df_monthly_stock.iterrows()):\n",
    "                    if idx < row_index:\n",
    "                        continue\n",
    "                    df_monthly_stock.at[row[0], 'yield'] = 0.0\n",
    "                \n",
    "                # 상폐 종목에 추가\n",
    "                delisted_stocks.append(stock)\n",
    "            \n",
    "            monthly_yield = df_monthly_stock['yield'].cumprod().tolist()\n",
    "            df_monthly_yield[stock] = monthly_yield\n",
    "            \n",
    "        df_monthly_yield['total'] = df_monthly_yield.mean(axis=1) \n",
    "        df_monthly_yield['prev_total'] = df_monthly_yield['total'].shift(1)\n",
    "        df_monthly_yield['prev_total'] = df_monthly_yield['prev_total'].fillna(1.0)\n",
    "        df_monthly_yield['monthly_yield'] = df_monthly_yield['total'] / df_monthly_yield['prev_total'] - 1.0\n",
    "        \n",
    "        # 연도-월\n",
    "        df_account.at[i, 'year_month'] = df_year_month.index.tolist()\n",
    "        # 월별 수익률\n",
    "        df_account.at[i, 'monthly_yield'] = df_monthly_yield['monthly_yield'].tolist()\n",
    "        # 연도별 수익률\n",
    "        yearly_yield = df_monthly_yield.iloc[len(df_monthly_yield) - 1]['total']\n",
    "        df_account.at[i, 'yearly_yield'] = yearly_yield\n",
    "        # 상폐 종목\n",
    "        df_account.at[i, 'delisted_stocks'] = delisted_stocks\n",
    "\n",
    "        print(start_date, end_date, yearly_yield)"
   ]
  },
  {
   "cell_type": "code",
   "execution_count": 16,
   "metadata": {},
   "outputs": [],
   "source": [
    "# CAGR, 자산변화 구하기\n",
    "df_account['cum_yield'] = df_account['yearly_yield'].cumprod()\n",
    "\n",
    "df_account['cagr'] = 0.0\n",
    "for i, row in enumerate(df_account.iterrows()):\n",
    "    df_account.at[i, 'cagr'] = pow(row[1]['cum_yield'], 1/(i+1))\n",
    "cagr = df_account.iloc[len(df_account) - 1]['cagr']\n",
    "\n",
    "monthly_yields = []\n",
    "for i in range(len(df_account)):\n",
    "    monthly_yields.extend(df_account.iloc[i]['monthly_yield'])\n",
    "cum_monthly_yield = np.cumprod(np.array(monthly_yields) + 1)\n",
    "\n",
    "cagr_history = []\n",
    "for i, val in enumerate(cum_monthly_yield.tolist()):\n",
    "    year = (i + 1) / 12\n",
    "    cagr_history.append(pow(val, 1 / year))\n",
    "\n",
    "# 수익률 표준편차 구하기\n",
    "filetered_monthly_yield = monthly_yields.copy()\n",
    "\n",
    "# outlier 제거\n",
    "filetered_monthly_yield.remove(max(filetered_monthly_yield))\n",
    "filetered_monthly_yield.remove(min(filetered_monthly_yield))\n",
    "\n",
    "std_monthly_yield =  statistics.stdev(filetered_monthly_yield)\n",
    "\n",
    "# 월별 승률\n",
    "monthly_win_rate = (sum([val > 0 for val in monthly_yields]) / len(monthly_yields)) * 100.0\n",
    "\n",
    "# 상폐 종목 수\n",
    "delisted_stocks = []\n",
    "for row in df_account.iterrows():\n",
    "    delisted_stocks.extend(row[1]['delisted_stocks'])\n",
    "    \n",
    "# 연도-월\n",
    "year_months = []\n",
    "for row in df_account.iterrows():\n",
    "    year_months.extend(row[1]['year_month'])"
   ]
  },
  {
   "cell_type": "code",
   "execution_count": 17,
   "metadata": {},
   "outputs": [],
   "source": [
    "# MDD, MDD duration 구하기\n",
    "max_yield = -100.0\n",
    "min_yield = 0.0\n",
    "mdd = 0.0\n",
    "mdd_duration = 0 \n",
    "\n",
    "dd = 0.0\n",
    "dd_duration = 0\n",
    "for val in cum_monthly_yield:\n",
    "    if val > max_yield:\n",
    "        max_yield = val\n",
    "        min_yield = val\n",
    "        dd_duration = 0\n",
    "        continue\n",
    "    \n",
    "    if val < min_yield:\n",
    "        min_yield = val\n",
    "        dd = (1.0 - min_yield / max_yield) * 100.0\n",
    "        dd_duration += 1\n",
    "        \n",
    "        if dd > mdd:\n",
    "            mdd = dd\n",
    "        if dd_duration > mdd_duration:\n",
    "            mdd_duration = dd_duration"
   ]
  },
  {
   "cell_type": "code",
   "execution_count": 18,
   "metadata": {},
   "outputs": [
    {
     "data": {
      "image/png": "[encoded data removed]",
      "text/plain": [
       "<Figure size 432x288 with 1 Axes>"
      ]
     },
     "metadata": {
      "needs_background": "light"
     },
     "output_type": "display_data"
    }
   ],
   "source": [
    "fig, ax = plt.subplots()\n",
    "ax.set_yscale('log')\n",
    "ax.plot(year_months, cum_monthly_yield)\n",
    "\n",
    "loc = ticker.MultipleLocator(base=20.0) # this locator puts ticks at regular intervals\n",
    "ax.xaxis.set_major_locator(loc)\n",
    "plt.xticks(rotation=45)\n",
    "\n",
    "plt.title('Cumulative asset changes')\n",
    "plt.show()"
   ]
  },
  {
   "cell_type": "code",
   "execution_count": 28,
   "metadata": {},
   "outputs": [],
   "source": [
    "rolling_cagrs = []\n",
    "ROLLING = 36\n",
    "for i in range(len(cagr_history)):\n",
    "    if i - ROLLING < 0:\n",
    "        rolling_cagr = np.mean(cagr_history[0:i])\n",
    "    else:\n",
    "        rolling_cagr = np.mean(cagr_history[i - ROLLING:i])\n",
    "    rolling_cagrs.append(rolling_cagr)"
   ]
  },
  {
   "cell_type": "code",
   "execution_count": 29,
   "metadata": {},
   "outputs": [
    {
     "data": {
      "image/png": "[encoded data removed]",
      "text/plain": [
       "<Figure size 432x288 with 1 Axes>"
      ]
     },
     "metadata": {
      "needs_background": "light"
     },
     "output_type": "display_data"
    }
   ],
   "source": [
    "fig, ax = plt.subplots()\n",
    "#ax.set_yscale('log')\n",
    "ax.plot(year_months, rolling_cagrs, marker='', linestyle='-')\n",
    "\n",
    "loc = ticker.MultipleLocator(base=20.0) # this locator puts ticks at regular intervals\n",
    "ax.xaxis.set_major_locator(loc)\n",
    "plt.xticks(rotation=45)\n",
    "\n",
    "plt.title('Cumulative CAGR changes')\n",
    "plt.show()"
   ]
  },
  {
   "cell_type": "code",
   "execution_count": 20,
   "metadata": {},
   "outputs": [
    {
     "data": {
      "image/png": "[encoded data removed]",
      "text/plain": [
       "<Figure size 432x288 with 1 Axes>"
      ]
     },
     "metadata": {
      "needs_background": "light"
     },
     "output_type": "display_data"
    }
   ],
   "source": [
    "fig, ax = plt.subplots()\n",
    "plt.bar(year_months, monthly_yields)\n",
    "loc = ticker.MultipleLocator(base=20.0) # this locator puts ticks at regular intervals\n",
    "ax.xaxis.set_major_locator(loc)\n",
    "plt.xticks(rotation=45)\n",
    "plt.title(\"Monthly yields\")\n",
    "plt.show()"
   ]
  },
  {
   "cell_type": "code",
   "execution_count": 21,
   "metadata": {},
   "outputs": [
    {
     "name": "stdout",
     "output_type": "stream",
     "text": [
      "+-----------+--------+--------+--------------+--------+----------+----------+------+\n",
      "| Rebalance |  CAGR  |  MDD   | MDD duration |  STD   | Delisted | Win rate | Note |\n",
      "+-----------+--------+--------+--------------+--------+----------+----------+------+\n",
      "|    8-1    | 18.77% | 65.51% |      14      | 0.0900 |    9     |  57.89%  |      |\n",
      "+-----------+--------+--------+--------------+--------+----------+----------+------+\n"
     ]
    }
   ],
   "source": [
    "t = PrettyTable(['Rebalance', 'CAGR', 'MDD', 'MDD duration', 'STD', 'Delisted', 'Win rate', 'Note'])\n",
    "t.add_row([os.path.basename(DATA_DIR),\n",
    "           \"%.2f%%\" % ((cagr - 1.0) * 100.0),\n",
    "           \"%.2f%%\" % (mdd),\n",
    "           mdd_duration,\n",
    "           \"%.4f\" % std_monthly_yield,\n",
    "           len(delisted_stocks),\n",
    "           \"%.2f%%\" % monthly_win_rate,\n",
    "           \"\"\n",
    "          ])\n",
    "print(t)"
   ]
  },
  {
   "cell_type": "code",
   "execution_count": null,
   "metadata": {},
   "outputs": [],
   "source": []
  },
  {
   "cell_type": "code",
   "execution_count": null,
   "metadata": {},
   "outputs": [],
   "source": []
  }
 ],
 "metadata": {
  "kernelspec": {
   "display_name": "Python 3",
   "language": "python",
   "name": "python3"
  },
  "language_info": {
   "codemirror_mode": {
    "name": "ipython",
    "version": 3
   },
   "file_extension": ".py",
   "mimetype": "text/x-python",
   "name": "python",
   "nbconvert_exporter": "python",
   "pygments_lexer": "ipython3",
   "version": "3.7.6"
  }
 },
 "nbformat": 4,
 "nbformat_minor": 4
}
