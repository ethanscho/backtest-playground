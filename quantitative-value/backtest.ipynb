{
 "cells": [
  {
   "cell_type": "code",
   "execution_count": 907,
   "metadata": {},
   "outputs": [],
   "source": [
    "import os\n",
    "import glob\n",
    "import datetime\n",
    "import importlib\n",
    "import statistics\n",
    "import numpy as np\n",
    "import pandas as pd\n",
    "from marcap import marcap_data\n",
    "import FinanceDataReader as fdr\n",
    "import matplotlib.pyplot as plt\n",
    "import matplotlib.ticker as ticker\n",
    "from prettytable import PrettyTable"
   ]
  },
  {
   "cell_type": "code",
   "execution_count": 1110,
   "metadata": {},
   "outputs": [
    {
     "data": {
      "text/plain": [
       "<module 'models.pbr_oa' from '/home/pi/Documents/stock-backtesting/backtest-playground/quantitative-value/models/pbr_oa.py'>"
      ]
     },
     "execution_count": 1110,
     "metadata": {},
     "output_type": "execute_result"
    }
   ],
   "source": [
    "#import models.pbr_gpa as model # PBR + GP/A\n",
    "# import models.gpa as model\n",
    "#import models.ncav as model # NCAV\n",
    "#import models.pbr_psr_per_pcr as model # PBR + PCR + PER + PSR\n",
    "#import models.super_quality as model\n",
    "#import models.lu_zhang as model\n",
    "#import models.pbr as model\n",
    "#import models.pcr as model\n",
    "#import models.per as model\n",
    "#import models.psr as model\n",
    "#import models.pbr_psr as model\n",
    "#import models.psr_sales_growth as model\n",
    "# import models.pbr_ob as model\n",
    "import models.pbr_oa as model\n",
    "\n",
    "importlib.reload(model)"
   ]
  },
  {
   "cell_type": "code",
   "execution_count": 1165,
   "metadata": {},
   "outputs": [],
   "source": [
    "#DATA_DIR = '../data/quarterly/2-5-8-11' # quarter\n",
    "# DATA_DIR = '../data/half-year/2-8' # half year\n",
    "DATA_DIR = '../data/yearly/11-1'\n",
    "REBALANCE = 1 # 1: yearly, 2: half-yearly 4: quarterly"
   ]
  },
  {
   "cell_type": "code",
   "execution_count": 1166,
   "metadata": {},
   "outputs": [],
   "source": [
    "df_account = pd.DataFrame(columns=['start_date', 'end_date', 'filepath'])\n",
    "filepaths = glob.glob(DATA_DIR + \"/*.csv\")\n",
    "filepaths = sorted(filepaths)"
   ]
  },
  {
   "cell_type": "code",
   "execution_count": 1167,
   "metadata": {},
   "outputs": [
    {
     "data": {
      "text/plain": [
       "['../data/yearly/11-1/2002-11-01.csv',\n",
       " '../data/yearly/11-1/2003-11-03.csv',\n",
       " '../data/yearly/11-1/2004-11-01.csv',\n",
       " '../data/yearly/11-1/2005-11-01.csv',\n",
       " '../data/yearly/11-1/2006-11-01.csv',\n",
       " '../data/yearly/11-1/2007-11-01.csv',\n",
       " '../data/yearly/11-1/2008-11-03.csv',\n",
       " '../data/yearly/11-1/2009-11-02.csv',\n",
       " '../data/yearly/11-1/2010-11-01.csv',\n",
       " '../data/yearly/11-1/2011-11-01.csv',\n",
       " '../data/yearly/11-1/2012-11-01.csv',\n",
       " '../data/yearly/11-1/2013-11-01.csv',\n",
       " '../data/yearly/11-1/2014-11-03.csv',\n",
       " '../data/yearly/11-1/2015-11-02.csv',\n",
       " '../data/yearly/11-1/2016-11-01.csv',\n",
       " '../data/yearly/11-1/2017-11-01.csv',\n",
       " '../data/yearly/11-1/2018-11-01.csv',\n",
       " '../data/yearly/11-1/2019-11-01.csv']"
      ]
     },
     "execution_count": 1167,
     "metadata": {},
     "output_type": "execute_result"
    }
   ],
   "source": [
    "filepaths"
   ]
  },
  {
   "cell_type": "code",
   "execution_count": 1168,
   "metadata": {},
   "outputs": [],
   "source": [
    "days = []\n",
    "for i in range(len(filepaths)):\n",
    "    if i < len(filepaths) - 1: # exclude last item\n",
    "        start_date =  os.path.basename(filepaths[i])[:-4]\n",
    "        end_date =  os.path.basename(filepaths[i + 1])[:-4]\n",
    "        \n",
    "        day = {'start_date':start_date, 'end_date':end_date, 'filepath':filepaths[i]}\n",
    "        days.append(day)\n",
    "\n",
    "df_account = df_account.append(days)"
   ]
  },
  {
   "cell_type": "code",
   "execution_count": 1169,
   "metadata": {},
   "outputs": [
    {
     "data": {
      "text/html": [
       "<div>\n",
       "<style scoped>\n",
       "    .dataframe tbody tr th:only-of-type {\n",
       "        vertical-align: middle;\n",
       "    }\n",
       "\n",
       "    .dataframe tbody tr th {\n",
       "        vertical-align: top;\n",
       "    }\n",
       "\n",
       "    .dataframe thead th {\n",
       "        text-align: right;\n",
       "    }\n",
       "</style>\n",
       "<table border=\"1\" class=\"dataframe\">\n",
       "  <thead>\n",
       "    <tr style=\"text-align: right;\">\n",
       "      <th></th>\n",
       "      <th>start_date</th>\n",
       "      <th>end_date</th>\n",
       "      <th>filepath</th>\n",
       "    </tr>\n",
       "  </thead>\n",
       "  <tbody>\n",
       "    <tr>\n",
       "      <th>0</th>\n",
       "      <td>2002-11-01</td>\n",
       "      <td>2003-11-03</td>\n",
       "      <td>../data/yearly/11-1/2002-11-01.csv</td>\n",
       "    </tr>\n",
       "    <tr>\n",
       "      <th>1</th>\n",
       "      <td>2003-11-03</td>\n",
       "      <td>2004-11-01</td>\n",
       "      <td>../data/yearly/11-1/2003-11-03.csv</td>\n",
       "    </tr>\n",
       "    <tr>\n",
       "      <th>2</th>\n",
       "      <td>2004-11-01</td>\n",
       "      <td>2005-11-01</td>\n",
       "      <td>../data/yearly/11-1/2004-11-01.csv</td>\n",
       "    </tr>\n",
       "    <tr>\n",
       "      <th>3</th>\n",
       "      <td>2005-11-01</td>\n",
       "      <td>2006-11-01</td>\n",
       "      <td>../data/yearly/11-1/2005-11-01.csv</td>\n",
       "    </tr>\n",
       "    <tr>\n",
       "      <th>4</th>\n",
       "      <td>2006-11-01</td>\n",
       "      <td>2007-11-01</td>\n",
       "      <td>../data/yearly/11-1/2006-11-01.csv</td>\n",
       "    </tr>\n",
       "    <tr>\n",
       "      <th>5</th>\n",
       "      <td>2007-11-01</td>\n",
       "      <td>2008-11-03</td>\n",
       "      <td>../data/yearly/11-1/2007-11-01.csv</td>\n",
       "    </tr>\n",
       "    <tr>\n",
       "      <th>6</th>\n",
       "      <td>2008-11-03</td>\n",
       "      <td>2009-11-02</td>\n",
       "      <td>../data/yearly/11-1/2008-11-03.csv</td>\n",
       "    </tr>\n",
       "    <tr>\n",
       "      <th>7</th>\n",
       "      <td>2009-11-02</td>\n",
       "      <td>2010-11-01</td>\n",
       "      <td>../data/yearly/11-1/2009-11-02.csv</td>\n",
       "    </tr>\n",
       "    <tr>\n",
       "      <th>8</th>\n",
       "      <td>2010-11-01</td>\n",
       "      <td>2011-11-01</td>\n",
       "      <td>../data/yearly/11-1/2010-11-01.csv</td>\n",
       "    </tr>\n",
       "    <tr>\n",
       "      <th>9</th>\n",
       "      <td>2011-11-01</td>\n",
       "      <td>2012-11-01</td>\n",
       "      <td>../data/yearly/11-1/2011-11-01.csv</td>\n",
       "    </tr>\n",
       "    <tr>\n",
       "      <th>10</th>\n",
       "      <td>2012-11-01</td>\n",
       "      <td>2013-11-01</td>\n",
       "      <td>../data/yearly/11-1/2012-11-01.csv</td>\n",
       "    </tr>\n",
       "    <tr>\n",
       "      <th>11</th>\n",
       "      <td>2013-11-01</td>\n",
       "      <td>2014-11-03</td>\n",
       "      <td>../data/yearly/11-1/2013-11-01.csv</td>\n",
       "    </tr>\n",
       "    <tr>\n",
       "      <th>12</th>\n",
       "      <td>2014-11-03</td>\n",
       "      <td>2015-11-02</td>\n",
       "      <td>../data/yearly/11-1/2014-11-03.csv</td>\n",
       "    </tr>\n",
       "    <tr>\n",
       "      <th>13</th>\n",
       "      <td>2015-11-02</td>\n",
       "      <td>2016-11-01</td>\n",
       "      <td>../data/yearly/11-1/2015-11-02.csv</td>\n",
       "    </tr>\n",
       "    <tr>\n",
       "      <th>14</th>\n",
       "      <td>2016-11-01</td>\n",
       "      <td>2017-11-01</td>\n",
       "      <td>../data/yearly/11-1/2016-11-01.csv</td>\n",
       "    </tr>\n",
       "    <tr>\n",
       "      <th>15</th>\n",
       "      <td>2017-11-01</td>\n",
       "      <td>2018-11-01</td>\n",
       "      <td>../data/yearly/11-1/2017-11-01.csv</td>\n",
       "    </tr>\n",
       "    <tr>\n",
       "      <th>16</th>\n",
       "      <td>2018-11-01</td>\n",
       "      <td>2019-11-01</td>\n",
       "      <td>../data/yearly/11-1/2018-11-01.csv</td>\n",
       "    </tr>\n",
       "  </tbody>\n",
       "</table>\n",
       "</div>"
      ],
      "text/plain": [
       "    start_date    end_date                            filepath\n",
       "0   2002-11-01  2003-11-03  ../data/yearly/11-1/2002-11-01.csv\n",
       "1   2003-11-03  2004-11-01  ../data/yearly/11-1/2003-11-03.csv\n",
       "2   2004-11-01  2005-11-01  ../data/yearly/11-1/2004-11-01.csv\n",
       "3   2005-11-01  2006-11-01  ../data/yearly/11-1/2005-11-01.csv\n",
       "4   2006-11-01  2007-11-01  ../data/yearly/11-1/2006-11-01.csv\n",
       "5   2007-11-01  2008-11-03  ../data/yearly/11-1/2007-11-01.csv\n",
       "6   2008-11-03  2009-11-02  ../data/yearly/11-1/2008-11-03.csv\n",
       "7   2009-11-02  2010-11-01  ../data/yearly/11-1/2009-11-02.csv\n",
       "8   2010-11-01  2011-11-01  ../data/yearly/11-1/2010-11-01.csv\n",
       "9   2011-11-01  2012-11-01  ../data/yearly/11-1/2011-11-01.csv\n",
       "10  2012-11-01  2013-11-01  ../data/yearly/11-1/2012-11-01.csv\n",
       "11  2013-11-01  2014-11-03  ../data/yearly/11-1/2013-11-01.csv\n",
       "12  2014-11-03  2015-11-02  ../data/yearly/11-1/2014-11-03.csv\n",
       "13  2015-11-02  2016-11-01  ../data/yearly/11-1/2015-11-02.csv\n",
       "14  2016-11-01  2017-11-01  ../data/yearly/11-1/2016-11-01.csv\n",
       "15  2017-11-01  2018-11-01  ../data/yearly/11-1/2017-11-01.csv\n",
       "16  2018-11-01  2019-11-01  ../data/yearly/11-1/2018-11-01.csv"
      ]
     },
     "execution_count": 1169,
     "metadata": {},
     "output_type": "execute_result"
    }
   ],
   "source": [
    "df_account"
   ]
  },
  {
   "cell_type": "code",
   "execution_count": 1170,
   "metadata": {},
   "outputs": [
    {
     "name": "stdout",
     "output_type": "stream",
     "text": [
      "------------------------------\n",
      "2002-11-01 ../data/yearly/11-1/2002-11-01.csv\n",
      "전체 1402\n",
      "지주사, 금융사 제외 1342\n",
      "국외주식 제외 1342\n",
      "가격정보 없는 기업 제외 964\n",
      "2002-11-01 선정 기업 수 30\n",
      "------------------------------\n",
      "2003-11-03 ../data/yearly/11-1/2003-11-03.csv\n",
      "전체 1491\n",
      "지주사, 금융사 제외 1430\n",
      "국외주식 제외 1430\n",
      "가격정보 없는 기업 제외 1021\n",
      "2003-11-03 선정 기업 수 30\n",
      "------------------------------\n",
      "2004-11-01 ../data/yearly/11-1/2004-11-01.csv\n",
      "전체 1540\n",
      "지주사, 금융사 제외 1477\n",
      "국외주식 제외 1477\n",
      "가격정보 없는 기업 제외 1071\n",
      "2004-11-01 선정 기업 수 30\n",
      "------------------------------\n",
      "2005-11-01 ../data/yearly/11-1/2005-11-01.csv\n",
      "전체 1630\n",
      "지주사, 금융사 제외 1566\n",
      "국외주식 제외 1565\n",
      "가격정보 없는 기업 제외 1138\n",
      "2005-11-01 선정 기업 수 30\n",
      "------------------------------\n",
      "2006-11-01 ../data/yearly/11-1/2006-11-01.csv\n",
      "전체 1682\n",
      "지주사, 금융사 제외 1616\n",
      "국외주식 제외 1615\n",
      "가격정보 없는 기업 제외 1193\n",
      "2006-11-01 선정 기업 수 30\n",
      "------------------------------\n",
      "2007-11-01 ../data/yearly/11-1/2007-11-01.csv\n",
      "전체 1765\n",
      "지주사, 금융사 제외 1696\n",
      "국외주식 제외 1691\n",
      "가격정보 없는 기업 제외 1273\n",
      "2007-11-01 선정 기업 수 30\n",
      "------------------------------\n",
      "2008-11-03 ../data/yearly/11-1/2008-11-03.csv\n",
      "전체 1850\n",
      "지주사, 금융사 제외 1776\n",
      "국외주식 제외 1767\n",
      "가격정보 없는 기업 제외 1331\n",
      "2008-11-03 선정 기업 수 30\n",
      "------------------------------\n",
      "2009-11-02 ../data/yearly/11-1/2009-11-02.csv\n",
      "전체 1894\n",
      "지주사, 금융사 제외 1817\n",
      "국외주식 제외 1802\n",
      "가격정보 없는 기업 제외 1381\n",
      "2009-11-02 선정 기업 수 30\n",
      "------------------------------\n",
      "2010-11-01 ../data/yearly/11-1/2010-11-01.csv\n",
      "전체 1948\n",
      "지주사, 금융사 제외 1868\n",
      "국외주식 제외 1853\n",
      "가격정보 없는 기업 제외 1450\n",
      "2010-11-01 선정 기업 수 30\n",
      "------------------------------\n",
      "2011-11-01 ../data/yearly/11-1/2011-11-01.csv\n",
      "전체 2016\n",
      "지주사, 금융사 제외 1935\n",
      "국외주식 제외 1918\n",
      "가격정보 없는 기업 제외 1528\n",
      "2011-11-01 선정 기업 수 30\n",
      "------------------------------\n",
      "2012-11-01 ../data/yearly/11-1/2012-11-01.csv\n",
      "전체 2079\n",
      "지주사, 금융사 제외 1998\n",
      "국외주식 제외 1981\n",
      "가격정보 없는 기업 제외 1553\n",
      "2012-11-01 선정 기업 수 30\n",
      "------------------------------\n",
      "2013-11-01 ../data/yearly/11-1/2013-11-01.csv\n",
      "전체 2128\n",
      "지주사, 금융사 제외 2045\n",
      "국외주식 제외 2028\n",
      "가격정보 없는 기업 제외 1575\n",
      "2013-11-01 선정 기업 수 30\n",
      "------------------------------\n",
      "2014-11-03 ../data/yearly/11-1/2014-11-03.csv\n",
      "전체 2155\n",
      "지주사, 금융사 제외 2071\n",
      "국외주식 제외 2055\n",
      "가격정보 없는 기업 제외 1620\n",
      "2014-11-03 선정 기업 수 30\n",
      "------------------------------\n",
      "2015-11-02 ../data/yearly/11-1/2015-11-02.csv\n",
      "전체 2231\n",
      "지주사, 금융사 제외 2146\n",
      "국외주식 제외 2128\n",
      "가격정보 없는 기업 제외 1724\n",
      "2015-11-02 선정 기업 수 30\n",
      "------------------------------\n",
      "2016-11-01 ../data/yearly/11-1/2016-11-01.csv\n",
      "전체 2291\n",
      "지주사, 금융사 제외 2201\n",
      "국외주식 제외 2180\n",
      "가격정보 없는 기업 제외 1841\n",
      "2016-11-01 선정 기업 수 30\n",
      "------------------------------\n",
      "2017-11-01 ../data/yearly/11-1/2017-11-01.csv\n",
      "전체 2306\n",
      "지주사, 금융사 제외 2216\n",
      "국외주식 제외 2194\n",
      "가격정보 없는 기업 제외 1915\n",
      "2017-11-01 선정 기업 수 30\n",
      "------------------------------\n",
      "2018-11-01 ../data/yearly/11-1/2018-11-01.csv\n",
      "전체 2322\n",
      "지주사, 금융사 제외 2233\n",
      "국외주식 제외 2210\n",
      "가격정보 없는 기업 제외 1965\n",
      "2018-11-01 선정 기업 수 30\n"
     ]
    }
   ],
   "source": [
    "# 연도별 종목을 구한다.\n",
    "df_account['stocks'] = df_account.apply(lambda x: \n",
    "                                        model.get_stocks(x.filepath, x.start_date,\n",
    "                                                         min_market_cap=0.0, max_market_cap=0.2,\n",
    "                                                         min_fund_rank=0.0, max_fund_rank=0.2, \n",
    "                                                         num_stocks=30, verbose=True), axis=1)"
   ]
  },
  {
   "cell_type": "code",
   "execution_count": 1171,
   "metadata": {},
   "outputs": [
    {
     "name": "stdout",
     "output_type": "stream",
     "text": [
      "2002-11-01 ~ 2003-11-03 : 0.9360182180650951\n",
      "2003-11-03 ~ 2004-11-01 : 1.103173953667643\n",
      "2004-11-01 ~ 2005-11-01 : 2.475528989573341\n",
      "2005-11-01 ~ 2006-11-01 : 1.2202502819982004\n",
      "2006-11-01 ~ 2007-11-01 : 2.946554040579504\n",
      "2007-11-01 ~ 2008-11-03 : 0.5067058815943457\n",
      "2008-11-03 ~ 2009-11-02 : 2.133540544859198\n",
      "2009-11-02 ~ 2010-11-01 : 1.340550374630338\n",
      "2010-11-01 ~ 2011-11-01 : 0.903107271650686\n",
      "2011-11-01 ~ 2012-11-01 : 1.4109589719183822\n",
      "2012-11-01 ~ 2013-11-01 : 1.1024391652220373\n",
      "2013-11-01 ~ 2014-11-03 : 1.3190428541195647\n",
      "2014-11-03 ~ 2015-11-02 : 1.4842005908628568\n",
      "2015-11-02 ~ 2016-11-01 : 1.1558896790590651\n",
      "2016-11-01 ~ 2017-11-01 : 1.2918405880295063\n",
      "2017-11-01 ~ 2018-11-01 : 1.0620781960056322\n",
      "2018-11-01 ~ 2019-11-01 : 1.4828852438062565\n"
     ]
    }
   ],
   "source": [
    "# 연도별 수익률을 구한다.\n",
    "df_account['yield'] = 0.0\n",
    "df_account['yields'] = 0.0\n",
    "df_account['yields'] = df_account['yields'].astype('object')\n",
    "df_account['delisted'] = 0\n",
    "df_account['delisted_stocks'] = df_account['yields'].astype('object')\n",
    "\n",
    "for i in range(len(filepaths)):\n",
    "    if i < len(filepaths) - 1: # exclude last item\n",
    "        start_date = df_account.iloc[i].start_date\n",
    "        end_date = df_account.iloc[i].end_date\n",
    "        \n",
    "        df_this_year = pd.read_csv(filepaths[i], dtype={\"기업코드\":\"string\", \"종목코드\":\"string\"})[['종목코드', '주가']]\n",
    "        df_next_year = pd.read_csv(filepaths[i + 1], dtype={\"기업코드\":\"string\", \"종목코드\":\"string\"})[['종목코드', '주가']]\n",
    "        \n",
    "        stocks = df_account.iloc[i].stocks   \n",
    "        yields = []\n",
    "        \n",
    "        # 종목별 수익률, 상장폐지 기업 수를 구한다.\n",
    "        delisted = 0 # 상장폐지 기업 수\n",
    "        delisted_stocks  = []\n",
    "        for stock in stocks:\n",
    "            start_price = df_this_year[df_this_year['종목코드'] == stock]['주가'].iloc[0]\n",
    "            end_price = df_next_year[df_next_year['종목코드'] == stock]['주가']\n",
    "            \n",
    "            if len(end_price) == 0:\n",
    "                end_price = 0\n",
    "            else:                    \n",
    "                end_price = end_price.fillna(0) \n",
    "                end_price = end_price.iloc[0]\n",
    "                \n",
    "            if end_price == 0: # 가격 정보가 없을 경우 상폐\n",
    "                delisted += 1\n",
    "                delisted_stocks.append(stock)\n",
    "            \n",
    "            # get yield\n",
    "            yields.append(end_price / start_price)\n",
    "\n",
    "        # stock 수익률들의 avg가 total 수익률이 된다. (동일 비중이기 때문에)\n",
    "        mean_yields = statistics.mean(yields)\n",
    "        df_account.at[i, 'yield'] = mean_yields\n",
    "        df_account.at[i, 'yields'] = yields\n",
    "        df_account.at[i, 'delisted'] = delisted\n",
    "        df_account.at[i, 'delisted_stocks'] = delisted_stocks\n",
    "        \n",
    "        print(start_date, '~', end_date, \":\", mean_yields)\n",
    "        \n",
    "        #break"
   ]
  },
  {
   "cell_type": "code",
   "execution_count": 1172,
   "metadata": {},
   "outputs": [],
   "source": [
    "df_account['total'] = df_account['yield'].cumprod()"
   ]
  },
  {
   "cell_type": "code",
   "execution_count": 1173,
   "metadata": {},
   "outputs": [],
   "source": [
    "df_account['cagr'] = 0.0\n",
    "for i, row in enumerate(df_account.iterrows()):\n",
    "    df_account.at[i, 'cagr'] = pow(row[1]['total'], 1/((i+1)/REBALANCE))"
   ]
  },
  {
   "cell_type": "code",
   "execution_count": 1174,
   "metadata": {},
   "outputs": [],
   "source": [
    "def get_win_rate(yield_rates):\n",
    "    return sum([yield_rate > 1.0 for yield_rate in yield_rates]) / len(yield_rates)\n",
    "\n",
    "df_account['win_rate'] = df_account.apply(lambda x: get_win_rate(x['yields']), axis=1)"
   ]
  },
  {
   "cell_type": "code",
   "execution_count": 1175,
   "metadata": {},
   "outputs": [],
   "source": [
    "df_account['best_corp'] = df_account.apply(lambda x: max(x['yields']), axis=1)\n",
    "df_account['worst_corp'] = df_account.apply(lambda x: min(x['yields']), axis=1)"
   ]
  },
  {
   "cell_type": "code",
   "execution_count": 1176,
   "metadata": {},
   "outputs": [],
   "source": [
    "df_account['best_stock_code'] = df_account.apply(lambda x: x['stocks'][np.argmax(x['yields'])], axis=1)\n",
    "df_account['worst_stock_code'] = df_account.apply(lambda x: x['stocks'][np.argmin(x['yields'])], axis=1)"
   ]
  },
  {
   "cell_type": "code",
   "execution_count": 1177,
   "metadata": {},
   "outputs": [
    {
     "name": "stderr",
     "output_type": "stream",
     "text": [
      "/usr/lib/python3/dist-packages/matplotlib/cbook/__init__.py:1377: FutureWarning: Support for multi-dimensional indexing (e.g. `obj[:, None]`) is deprecated and will be removed in a future version.  Convert to a numpy array before indexing instead.\n",
      "  x[:, None]\n",
      "/usr/lib/python3/dist-packages/matplotlib/axes/_base.py:237: FutureWarning: Support for multi-dimensional indexing (e.g. `obj[:, None]`) is deprecated and will be removed in a future version.  Convert to a numpy array before indexing instead.\n",
      "  x = x[:, np.newaxis]\n",
      "/usr/lib/python3/dist-packages/matplotlib/axes/_base.py:239: FutureWarning: Support for multi-dimensional indexing (e.g. `obj[:, None]`) is deprecated and will be removed in a future version.  Convert to a numpy array before indexing instead.\n",
      "  y = y[:, np.newaxis]\n"
     ]
    },
    {
     "data": {
      "image/png": "[encoded data removed]",
      "text/plain": [
       "<Figure size 432x288 with 1 Axes>"
      ]
     },
     "metadata": {
      "needs_background": "light"
     },
     "output_type": "display_data"
    }
   ],
   "source": [
    "fig, ax = plt.subplots()\n",
    "ax.plot_date(df_account['start_date'], df_account['total'], marker='', linestyle='-')\n",
    "fig.autofmt_xdate()\n",
    "plt.show()"
   ]
  },
  {
   "cell_type": "code",
   "execution_count": 1178,
   "metadata": {},
   "outputs": [],
   "source": [
    "cagrs = df_account['cagr']\n",
    "rolling_cagrs = []\n",
    "ROLLING = 3\n",
    "for i in range(len(cagrs)):\n",
    "    if i - 3 < 0:\n",
    "        rolling_cagr = np.mean(cagrs[0:i])\n",
    "    else:\n",
    "        rolling_cagr = np.mean(cagrs[i - 3:i])\n",
    "    rolling_cagrs.append(rolling_cagr)"
   ]
  },
  {
   "cell_type": "code",
   "execution_count": 1179,
   "metadata": {},
   "outputs": [
    {
     "data": {
      "image/png": "[encoded data removed]",
      "text/plain": [
       "<Figure size 432x288 with 1 Axes>"
      ]
     },
     "metadata": {
      "needs_background": "light"
     },
     "output_type": "display_data"
    }
   ],
   "source": [
    "fig, ax = plt.subplots()\n",
    "ax.plot_date(df_account['start_date'], rolling_cagrs, marker='', linestyle='-')\n",
    "fig.autofmt_xdate()\n",
    "plt.show()"
   ]
  },
  {
   "cell_type": "code",
   "execution_count": 1180,
   "metadata": {},
   "outputs": [
    {
     "data": {
      "image/png": "[encoded data removed]",
      "text/plain": [
       "<Figure size 432x288 with 1 Axes>"
      ]
     },
     "metadata": {
      "needs_background": "light"
     },
     "output_type": "display_data"
    }
   ],
   "source": [
    "# fig, ax = plt.subplots()\n",
    "# ax.plot_date(df_account['start_date'], df_account['yield'])\n",
    "# fig.autofmt_xdate()\n",
    "\n",
    "plt.bar(df_account['start_date'], df_account['yield'], color='green')\n",
    "\n",
    "h_line = np.array([1.0 for i in range(len(df_account['start_date']))])\n",
    "plt.plot(df_account['start_date'], h_line, 'r--') \n",
    "\n",
    "plt.show()"
   ]
  },
  {
   "cell_type": "code",
   "execution_count": 1181,
   "metadata": {},
   "outputs": [],
   "source": [
    "# 가격 정보가 없는 경우 상폐로 처리했음. 실제로 상폐까지는 아니고 거래정지인 경우가 있음\n",
    "delisted_stocks = sum(df_account['delisted'])"
   ]
  },
  {
   "cell_type": "code",
   "execution_count": 1182,
   "metadata": {},
   "outputs": [],
   "source": [
    "cagr = pow(df_account['total'][len(df_account) - 1], 1/(len(df_account)/REBALANCE))"
   ]
  },
  {
   "cell_type": "code",
   "execution_count": 1183,
   "metadata": {},
   "outputs": [],
   "source": [
    "# MDD, MDD duration 구하기\n",
    "max_yield = -100.0\n",
    "min_yield = 0.0\n",
    "mdd = 0.0\n",
    "mdd_duration = 0 \n",
    "\n",
    "dd = 0.0\n",
    "dd_duration = 0\n",
    "for val in df_account['total']:\n",
    "    if val > max_yield:\n",
    "        max_yield = val\n",
    "        min_yield = val\n",
    "        dd_duration = 0\n",
    "        continue\n",
    "    \n",
    "    if val < min_yield:\n",
    "        min_yield = val\n",
    "        dd = (1.0 - min_yield / max_yield) * 100.0\n",
    "        dd_duration += 1\n",
    "        \n",
    "        if dd > mdd:\n",
    "            mdd = dd\n",
    "        if dd_duration > mdd_duration:\n",
    "            mdd_duration = dd_duration\n",
    "            \n",
    "if REBALANCE == 2:\n",
    "    mdd_duration *= 6\n",
    "elif REBALANCE == 4:\n",
    "    mdd_duration *= 3"
   ]
  },
  {
   "cell_type": "code",
   "execution_count": 1184,
   "metadata": {},
   "outputs": [],
   "source": [
    "# 수익률 표준편차 구하기\n",
    "filetered_yield = list(df_account['yield']).copy()\n",
    "\n",
    "# outlier 제거\n",
    "filetered_yield.remove(max(filetered_yield))\n",
    "filetered_yield.remove(min(filetered_yield))\n",
    "\n",
    "std_yield = statistics.stdev(filetered_yield)"
   ]
  },
  {
   "cell_type": "code",
   "execution_count": 1185,
   "metadata": {},
   "outputs": [],
   "source": [
    "# 평균 승률 \n",
    "yields = []\n",
    "for i in range(len(df_account)):\n",
    "    yields.extend(df_account.iloc[i]['yields'])\n",
    "    \n",
    "win_rate = (sum([val > 1.0 for val in yields]) / len(yields)) * 100.0"
   ]
  },
  {
   "cell_type": "code",
   "execution_count": 1186,
   "metadata": {},
   "outputs": [
    {
     "name": "stdout",
     "output_type": "stream",
     "text": [
      "+-----------+--------+--------+--------------+--------+----------+----------+------+\n",
      "| Rebalance |  CAGR  |  MDD   | MDD duration |  STD   | Delisted | Win rate | Note |\n",
      "+-----------+--------+--------+--------------+--------+----------+----------+------+\n",
      "|    11-1   | 29.97% | 49.33% |      1       | 0.4271 |    9     |  63.14%  |      |\n",
      "+-----------+--------+--------+--------------+--------+----------+----------+------+\n"
     ]
    }
   ],
   "source": [
    "t = PrettyTable(['Rebalance', 'CAGR', 'MDD', 'MDD duration', 'STD', 'Delisted', 'Win rate', 'Note'])\n",
    "t.add_row([os.path.basename(DATA_DIR),\n",
    "           \"%.2f%%\" % ((cagr - 1.0) * 100.0),\n",
    "           \"%.2f%%\" % (mdd),\n",
    "           mdd_duration,\n",
    "           \"%.4f\" % std_yield,\n",
    "           delisted_stocks,\n",
    "           \"%.2f%%\" % win_rate,\n",
    "           \"\"\n",
    "          ])\n",
    "print(t)"
   ]
  },
  {
   "cell_type": "code",
   "execution_count": 1187,
   "metadata": {},
   "outputs": [
    {
     "data": {
      "text/plain": [
       "1.28668832907317"
      ]
     },
     "execution_count": 1187,
     "metadata": {},
     "output_type": "execute_result"
    }
   ],
   "source": [
    "# 수수료 고려\n",
    "df_account['fee_yield'] = df_account['yield'] * 0.99\n",
    "df_account['fee_total'] = df_account['fee_yield'].cumprod()\n",
    "pow(df_account['fee_total'][len(df_account) - 1], 1/(len(df_account)/REBALANCE))"
   ]
  },
  {
   "cell_type": "code",
   "execution_count": null,
   "metadata": {},
   "outputs": [],
   "source": []
  },
  {
   "cell_type": "code",
   "execution_count": 1188,
   "metadata": {},
   "outputs": [],
   "source": [
    "yearly_yields = df_account['yield'].tolist()"
   ]
  },
  {
   "cell_type": "code",
   "execution_count": 1189,
   "metadata": {},
   "outputs": [
    {
     "data": {
      "text/plain": [
       "[0.9360182180650951,\n",
       " 1.103173953667643,\n",
       " 2.475528989573341,\n",
       " 1.2202502819982004,\n",
       " 2.946554040579504,\n",
       " 0.5067058815943457,\n",
       " 2.133540544859198,\n",
       " 1.340550374630338,\n",
       " 0.903107271650686,\n",
       " 1.4109589719183822,\n",
       " 1.1024391652220373,\n",
       " 1.3190428541195647,\n",
       " 1.4842005908628568,\n",
       " 1.1558896790590651,\n",
       " 1.2918405880295063,\n",
       " 1.0620781960056322,\n",
       " 1.4828852438062565]"
      ]
     },
     "execution_count": 1189,
     "metadata": {},
     "output_type": "execute_result"
    }
   ],
   "source": [
    "yearly_yields"
   ]
  },
  {
   "cell_type": "code",
   "execution_count": 1190,
   "metadata": {},
   "outputs": [
    {
     "data": {
      "text/plain": [
       "17"
      ]
     },
     "execution_count": 1190,
     "metadata": {},
     "output_type": "execute_result"
    }
   ],
   "source": [
    "len(yearly_yields)"
   ]
  },
  {
   "cell_type": "code",
   "execution_count": 1191,
   "metadata": {},
   "outputs": [
    {
     "name": "stdout",
     "output_type": "stream",
     "text": [
      "0.35\n",
      "0.31\n",
      "0.33\n",
      "0.36\n",
      "0.31\n",
      "0.17\n",
      "0.27\n",
      "0.30\n",
      "0.22\n",
      "0.12\n",
      "0.14\n",
      "0.33\n",
      "0.20\n",
      "0.00\n",
      "0.00\n",
      "0.00\n"
     ]
    }
   ],
   "source": [
    "# N년 후 연평균 수익률 (CAGR)이 40%를 넘을 확률\n",
    "cagr_threshold = 1.35\n",
    "\n",
    "for duration in range(1, 17):\n",
    "    cagrs = []\n",
    "    for i, yearly_yield in enumerate(yearly_yields[:len(yearly_yields)-duration+1]):\n",
    "        total_yield = np.prod(np.array(yearly_yields[i: i+duration]))\n",
    "        cagr = pow(total_yield, 1/duration)\n",
    "        cagrs.append(cagr)\n",
    "        \n",
    "    # N년 후 CAGR이 40%를 넘는 확률\n",
    "    prob = sum(np.array(cagrs) > cagr_threshold) / len(cagrs)\n",
    "    \n",
    "    print(\"{:.2f}\".format(prob))"
   ]
  },
  {
   "cell_type": "code",
   "execution_count": null,
   "metadata": {},
   "outputs": [],
   "source": []
  },
  {
   "cell_type": "code",
   "execution_count": null,
   "metadata": {},
   "outputs": [],
   "source": []
  },
  {
   "cell_type": "code",
   "execution_count": null,
   "metadata": {},
   "outputs": [],
   "source": []
  },
  {
   "cell_type": "code",
   "execution_count": null,
   "metadata": {},
   "outputs": [],
   "source": []
  },
  {
   "cell_type": "code",
   "execution_count": null,
   "metadata": {},
   "outputs": [],
   "source": []
  },
  {
   "cell_type": "code",
   "execution_count": null,
   "metadata": {},
   "outputs": [],
   "source": []
  }
 ],
 "metadata": {
  "kernelspec": {
   "display_name": "Python 3",
   "language": "python",
   "name": "python3"
  },
  "language_info": {
   "codemirror_mode": {
    "name": "ipython",
    "version": 3
   },
   "file_extension": ".py",
   "mimetype": "text/x-python",
   "name": "python",
   "nbconvert_exporter": "python",
   "pygments_lexer": "ipython3",
   "version": "3.7.3"
  }
 },
 "nbformat": 4,
 "nbformat_minor": 4
}
