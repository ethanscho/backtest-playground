{
 "cells": [
  {
   "cell_type": "code",
   "execution_count": 1,
   "metadata": {},
   "outputs": [],
   "source": [
    "import os\n",
    "import glob\n",
    "import datetime\n",
    "import importlib\n",
    "import statistics\n",
    "import numpy as np\n",
    "import pandas as pd\n",
    "import matplotlib.pyplot as plt\n",
    "import matplotlib.ticker as ticker\n",
    "from prettytable import PrettyTable"
   ]
  },
  {
   "cell_type": "code",
   "execution_count": 2,
   "metadata": {},
   "outputs": [
    {
     "data": {
      "text/plain": [
       "<module 'models.pbr_gpa' from '/Users/seunghun/Documents/Documents - Seunghun’s MacBook Pro/Projects/backtest-playground/quantitative-value/models/pbr_gpa.py'>"
      ]
     },
     "execution_count": 2,
     "metadata": {},
     "output_type": "execute_result"
    }
   ],
   "source": [
    "import models.pbr_gpa as model # PBR + GP/A\n",
    "# import models.gpa as model\n",
    "#import models.ncav as model # NCAV\n",
    "#import models.pbr_psr_per_pcr as model # PBR + PCR + PER + PSR\n",
    "#import models.super_quality as model\n",
    "#import models.lu_zhang as model\n",
    "#import models.pbr as model\n",
    "#import models.pcr as model\n",
    "#import models.per as model\n",
    "#import models.psr as model\n",
    "#import models.pbr_psr as model\n",
    "#import models.psr_sales_growth as model\n",
    "# import models.pbr_ob as model\n",
    "#import models.pbr_oa as model\n",
    "#import models.peg as model\n",
    "# import models.walter_scholoss as model\n",
    "\n",
    "importlib.reload(model)"
   ]
  },
  {
   "cell_type": "code",
   "execution_count": 3,
   "metadata": {},
   "outputs": [],
   "source": [
    "#DATA_DIR = '../data/quarterly/2-5-8-11' # quarter\n",
    "# DATA_DIR = '../data/half-year/2-8' # half year\n",
    "DATA_DIR = '../data/yearly/11-1'\n",
    "REBALANCE = 1 # 1: yearly, 2: half-yearly 4: quarterly"
   ]
  },
  {
   "cell_type": "code",
   "execution_count": 7,
   "metadata": {},
   "outputs": [],
   "source": [
    "df_account = pd.DataFrame(columns=['start_date', 'end_date', 'filepath'])\n",
    "filepaths = glob.glob(DATA_DIR + \"/*.csv\")\n",
    "filepaths = sorted(filepaths)"
   ]
  },
  {
   "cell_type": "code",
   "execution_count": 8,
   "metadata": {},
   "outputs": [
    {
     "data": {
      "text/plain": [
       "['../data/yearly/11-1/2002-11-01.csv',\n",
       " '../data/yearly/11-1/2003-11-03.csv',\n",
       " '../data/yearly/11-1/2004-11-01.csv',\n",
       " '../data/yearly/11-1/2005-11-01.csv',\n",
       " '../data/yearly/11-1/2006-11-01.csv',\n",
       " '../data/yearly/11-1/2007-11-01.csv',\n",
       " '../data/yearly/11-1/2008-11-03.csv',\n",
       " '../data/yearly/11-1/2009-11-02.csv',\n",
       " '../data/yearly/11-1/2010-11-01.csv',\n",
       " '../data/yearly/11-1/2011-11-01.csv',\n",
       " '../data/yearly/11-1/2012-11-01.csv',\n",
       " '../data/yearly/11-1/2013-11-01.csv',\n",
       " '../data/yearly/11-1/2014-11-03.csv',\n",
       " '../data/yearly/11-1/2015-11-02.csv',\n",
       " '../data/yearly/11-1/2016-11-01.csv',\n",
       " '../data/yearly/11-1/2017-11-01.csv',\n",
       " '../data/yearly/11-1/2018-11-01.csv',\n",
       " '../data/yearly/11-1/2019-11-01.csv']"
      ]
     },
     "execution_count": 8,
     "metadata": {},
     "output_type": "execute_result"
    }
   ],
   "source": [
    "filepaths"
   ]
  },
  {
   "cell_type": "code",
   "execution_count": 9,
   "metadata": {},
   "outputs": [],
   "source": [
    "days = []\n",
    "for i in range(len(filepaths)):\n",
    "    if i < len(filepaths) - 1: # exclude last item\n",
    "        start_date =  os.path.basename(filepaths[i])[:-4]\n",
    "        end_date =  os.path.basename(filepaths[i + 1])[:-4]\n",
    "        \n",
    "        day = {'start_date':start_date, 'end_date':end_date, 'filepath':filepaths[i]}\n",
    "        days.append(day)\n",
    "\n",
    "df_account = df_account.append(days)"
   ]
  },
  {
   "cell_type": "code",
   "execution_count": 10,
   "metadata": {},
   "outputs": [
    {
     "data": {
      "text/html": [
       "<div>\n",
       "<style scoped>\n",
       "    .dataframe tbody tr th:only-of-type {\n",
       "        vertical-align: middle;\n",
       "    }\n",
       "\n",
       "    .dataframe tbody tr th {\n",
       "        vertical-align: top;\n",
       "    }\n",
       "\n",
       "    .dataframe thead th {\n",
       "        text-align: right;\n",
       "    }\n",
       "</style>\n",
       "<table border=\"1\" class=\"dataframe\">\n",
       "  <thead>\n",
       "    <tr style=\"text-align: right;\">\n",
       "      <th></th>\n",
       "      <th>start_date</th>\n",
       "      <th>end_date</th>\n",
       "      <th>filepath</th>\n",
       "    </tr>\n",
       "  </thead>\n",
       "  <tbody>\n",
       "    <tr>\n",
       "      <th>0</th>\n",
       "      <td>2002-11-01</td>\n",
       "      <td>2003-11-03</td>\n",
       "      <td>../data/yearly/11-1/2002-11-01.csv</td>\n",
       "    </tr>\n",
       "    <tr>\n",
       "      <th>1</th>\n",
       "      <td>2003-11-03</td>\n",
       "      <td>2004-11-01</td>\n",
       "      <td>../data/yearly/11-1/2003-11-03.csv</td>\n",
       "    </tr>\n",
       "    <tr>\n",
       "      <th>2</th>\n",
       "      <td>2004-11-01</td>\n",
       "      <td>2005-11-01</td>\n",
       "      <td>../data/yearly/11-1/2004-11-01.csv</td>\n",
       "    </tr>\n",
       "    <tr>\n",
       "      <th>3</th>\n",
       "      <td>2005-11-01</td>\n",
       "      <td>2006-11-01</td>\n",
       "      <td>../data/yearly/11-1/2005-11-01.csv</td>\n",
       "    </tr>\n",
       "    <tr>\n",
       "      <th>4</th>\n",
       "      <td>2006-11-01</td>\n",
       "      <td>2007-11-01</td>\n",
       "      <td>../data/yearly/11-1/2006-11-01.csv</td>\n",
       "    </tr>\n",
       "    <tr>\n",
       "      <th>5</th>\n",
       "      <td>2007-11-01</td>\n",
       "      <td>2008-11-03</td>\n",
       "      <td>../data/yearly/11-1/2007-11-01.csv</td>\n",
       "    </tr>\n",
       "    <tr>\n",
       "      <th>6</th>\n",
       "      <td>2008-11-03</td>\n",
       "      <td>2009-11-02</td>\n",
       "      <td>../data/yearly/11-1/2008-11-03.csv</td>\n",
       "    </tr>\n",
       "    <tr>\n",
       "      <th>7</th>\n",
       "      <td>2009-11-02</td>\n",
       "      <td>2010-11-01</td>\n",
       "      <td>../data/yearly/11-1/2009-11-02.csv</td>\n",
       "    </tr>\n",
       "    <tr>\n",
       "      <th>8</th>\n",
       "      <td>2010-11-01</td>\n",
       "      <td>2011-11-01</td>\n",
       "      <td>../data/yearly/11-1/2010-11-01.csv</td>\n",
       "    </tr>\n",
       "    <tr>\n",
       "      <th>9</th>\n",
       "      <td>2011-11-01</td>\n",
       "      <td>2012-11-01</td>\n",
       "      <td>../data/yearly/11-1/2011-11-01.csv</td>\n",
       "    </tr>\n",
       "    <tr>\n",
       "      <th>10</th>\n",
       "      <td>2012-11-01</td>\n",
       "      <td>2013-11-01</td>\n",
       "      <td>../data/yearly/11-1/2012-11-01.csv</td>\n",
       "    </tr>\n",
       "    <tr>\n",
       "      <th>11</th>\n",
       "      <td>2013-11-01</td>\n",
       "      <td>2014-11-03</td>\n",
       "      <td>../data/yearly/11-1/2013-11-01.csv</td>\n",
       "    </tr>\n",
       "    <tr>\n",
       "      <th>12</th>\n",
       "      <td>2014-11-03</td>\n",
       "      <td>2015-11-02</td>\n",
       "      <td>../data/yearly/11-1/2014-11-03.csv</td>\n",
       "    </tr>\n",
       "    <tr>\n",
       "      <th>13</th>\n",
       "      <td>2015-11-02</td>\n",
       "      <td>2016-11-01</td>\n",
       "      <td>../data/yearly/11-1/2015-11-02.csv</td>\n",
       "    </tr>\n",
       "    <tr>\n",
       "      <th>14</th>\n",
       "      <td>2016-11-01</td>\n",
       "      <td>2017-11-01</td>\n",
       "      <td>../data/yearly/11-1/2016-11-01.csv</td>\n",
       "    </tr>\n",
       "    <tr>\n",
       "      <th>15</th>\n",
       "      <td>2017-11-01</td>\n",
       "      <td>2018-11-01</td>\n",
       "      <td>../data/yearly/11-1/2017-11-01.csv</td>\n",
       "    </tr>\n",
       "    <tr>\n",
       "      <th>16</th>\n",
       "      <td>2018-11-01</td>\n",
       "      <td>2019-11-01</td>\n",
       "      <td>../data/yearly/11-1/2018-11-01.csv</td>\n",
       "    </tr>\n",
       "  </tbody>\n",
       "</table>\n",
       "</div>"
      ],
      "text/plain": [
       "    start_date    end_date                            filepath\n",
       "0   2002-11-01  2003-11-03  ../data/yearly/11-1/2002-11-01.csv\n",
       "1   2003-11-03  2004-11-01  ../data/yearly/11-1/2003-11-03.csv\n",
       "2   2004-11-01  2005-11-01  ../data/yearly/11-1/2004-11-01.csv\n",
       "3   2005-11-01  2006-11-01  ../data/yearly/11-1/2005-11-01.csv\n",
       "4   2006-11-01  2007-11-01  ../data/yearly/11-1/2006-11-01.csv\n",
       "5   2007-11-01  2008-11-03  ../data/yearly/11-1/2007-11-01.csv\n",
       "6   2008-11-03  2009-11-02  ../data/yearly/11-1/2008-11-03.csv\n",
       "7   2009-11-02  2010-11-01  ../data/yearly/11-1/2009-11-02.csv\n",
       "8   2010-11-01  2011-11-01  ../data/yearly/11-1/2010-11-01.csv\n",
       "9   2011-11-01  2012-11-01  ../data/yearly/11-1/2011-11-01.csv\n",
       "10  2012-11-01  2013-11-01  ../data/yearly/11-1/2012-11-01.csv\n",
       "11  2013-11-01  2014-11-03  ../data/yearly/11-1/2013-11-01.csv\n",
       "12  2014-11-03  2015-11-02  ../data/yearly/11-1/2014-11-03.csv\n",
       "13  2015-11-02  2016-11-01  ../data/yearly/11-1/2015-11-02.csv\n",
       "14  2016-11-01  2017-11-01  ../data/yearly/11-1/2016-11-01.csv\n",
       "15  2017-11-01  2018-11-01  ../data/yearly/11-1/2017-11-01.csv\n",
       "16  2018-11-01  2019-11-01  ../data/yearly/11-1/2018-11-01.csv"
      ]
     },
     "execution_count": 10,
     "metadata": {},
     "output_type": "execute_result"
    }
   ],
   "source": [
    "df_account"
   ]
  },
  {
   "cell_type": "code",
   "execution_count": 11,
   "metadata": {},
   "outputs": [
    {
     "name": "stdout",
     "output_type": "stream",
     "text": [
      "------------------------------\n",
      "2002-11-01 ../data/yearly/11-1/2002-11-01.csv\n",
      "전체 1402\n",
      "지주사, 금융사 제외 1342\n",
      "국외주식 제외 1342\n",
      "가격정보 없는 기업 제외 964\n",
      "2002-11-01 선정 기업 수 30\n",
      "------------------------------\n",
      "2003-11-03 ../data/yearly/11-1/2003-11-03.csv\n",
      "전체 1491\n",
      "지주사, 금융사 제외 1430\n",
      "국외주식 제외 1430\n",
      "가격정보 없는 기업 제외 1021\n",
      "2003-11-03 선정 기업 수 30\n",
      "------------------------------\n",
      "2004-11-01 ../data/yearly/11-1/2004-11-01.csv\n",
      "전체 1540\n",
      "지주사, 금융사 제외 1477\n",
      "국외주식 제외 1477\n",
      "가격정보 없는 기업 제외 1071\n",
      "2004-11-01 선정 기업 수 30\n",
      "------------------------------\n",
      "2005-11-01 ../data/yearly/11-1/2005-11-01.csv\n",
      "전체 1630\n",
      "지주사, 금융사 제외 1566\n",
      "국외주식 제외 1565\n",
      "가격정보 없는 기업 제외 1138\n",
      "2005-11-01 선정 기업 수 30\n",
      "------------------------------\n",
      "2006-11-01 ../data/yearly/11-1/2006-11-01.csv\n",
      "전체 1682\n",
      "지주사, 금융사 제외 1616\n",
      "국외주식 제외 1615\n",
      "가격정보 없는 기업 제외 1193\n",
      "2006-11-01 선정 기업 수 30\n",
      "------------------------------\n",
      "2007-11-01 ../data/yearly/11-1/2007-11-01.csv\n",
      "전체 1765\n",
      "지주사, 금융사 제외 1696\n",
      "국외주식 제외 1691\n",
      "가격정보 없는 기업 제외 1273\n",
      "2007-11-01 선정 기업 수 30\n",
      "------------------------------\n",
      "2008-11-03 ../data/yearly/11-1/2008-11-03.csv\n",
      "전체 1850\n",
      "지주사, 금융사 제외 1776\n",
      "국외주식 제외 1767\n",
      "가격정보 없는 기업 제외 1331\n",
      "2008-11-03 선정 기업 수 30\n",
      "------------------------------\n",
      "2009-11-02 ../data/yearly/11-1/2009-11-02.csv\n",
      "전체 1894\n",
      "지주사, 금융사 제외 1817\n",
      "국외주식 제외 1802\n",
      "가격정보 없는 기업 제외 1381\n",
      "2009-11-02 선정 기업 수 30\n",
      "------------------------------\n",
      "2010-11-01 ../data/yearly/11-1/2010-11-01.csv\n",
      "전체 1948\n",
      "지주사, 금융사 제외 1868\n",
      "국외주식 제외 1853\n",
      "가격정보 없는 기업 제외 1450\n",
      "2010-11-01 선정 기업 수 30\n",
      "------------------------------\n",
      "2011-11-01 ../data/yearly/11-1/2011-11-01.csv\n",
      "전체 2016\n",
      "지주사, 금융사 제외 1935\n",
      "국외주식 제외 1918\n",
      "가격정보 없는 기업 제외 1528\n",
      "2011-11-01 선정 기업 수 30\n",
      "------------------------------\n",
      "2012-11-01 ../data/yearly/11-1/2012-11-01.csv\n",
      "전체 2079\n",
      "지주사, 금융사 제외 1998\n",
      "국외주식 제외 1981\n",
      "가격정보 없는 기업 제외 1553\n",
      "2012-11-01 선정 기업 수 30\n",
      "------------------------------\n",
      "2013-11-01 ../data/yearly/11-1/2013-11-01.csv\n",
      "전체 2128\n",
      "지주사, 금융사 제외 2045\n",
      "국외주식 제외 2028\n",
      "가격정보 없는 기업 제외 1575\n",
      "2013-11-01 선정 기업 수 30\n",
      "------------------------------\n",
      "2014-11-03 ../data/yearly/11-1/2014-11-03.csv\n",
      "전체 2155\n",
      "지주사, 금융사 제외 2071\n",
      "국외주식 제외 2055\n",
      "가격정보 없는 기업 제외 1620\n",
      "2014-11-03 선정 기업 수 30\n",
      "------------------------------\n",
      "2015-11-02 ../data/yearly/11-1/2015-11-02.csv\n",
      "전체 2231\n",
      "지주사, 금융사 제외 2146\n",
      "국외주식 제외 2128\n",
      "가격정보 없는 기업 제외 1724\n",
      "2015-11-02 선정 기업 수 30\n",
      "------------------------------\n",
      "2016-11-01 ../data/yearly/11-1/2016-11-01.csv\n",
      "전체 2291\n",
      "지주사, 금융사 제외 2201\n",
      "국외주식 제외 2180\n",
      "가격정보 없는 기업 제외 1841\n",
      "2016-11-01 선정 기업 수 30\n",
      "------------------------------\n",
      "2017-11-01 ../data/yearly/11-1/2017-11-01.csv\n",
      "전체 2306\n",
      "지주사, 금융사 제외 2216\n",
      "국외주식 제외 2194\n",
      "가격정보 없는 기업 제외 1915\n",
      "2017-11-01 선정 기업 수 30\n",
      "------------------------------\n",
      "2018-11-01 ../data/yearly/11-1/2018-11-01.csv\n",
      "전체 2322\n",
      "지주사, 금융사 제외 2233\n",
      "국외주식 제외 2210\n",
      "가격정보 없는 기업 제외 1965\n",
      "2018-11-01 선정 기업 수 30\n"
     ]
    }
   ],
   "source": [
    "# 연도별 종목을 구한다.\n",
    "df_account['stocks'] = df_account.apply(lambda x: \n",
    "                                        model.get_stocks(x.filepath, x.start_date,\n",
    "                                                         min_market_cap=0.0, max_market_cap=0.2,\n",
    "                                                         min_fund_rank=0.0, max_fund_rank=0.2, \n",
    "                                                         num_stocks=30, verbose=True), axis=1)"
   ]
  },
  {
   "cell_type": "code",
   "execution_count": 12,
   "metadata": {},
   "outputs": [
    {
     "name": "stdout",
     "output_type": "stream",
     "text": [
      "2002-11-01 ~ 2003-11-03 : 0.9573703306041056\n",
      "2003-11-03 ~ 2004-11-01 : 1.3565055805862567\n",
      "2004-11-01 ~ 2005-11-01 : 2.782700282054746\n",
      "2005-11-01 ~ 2006-11-01 : 1.1562540936217687\n",
      "2006-11-01 ~ 2007-11-01 : 2.2374474468875123\n",
      "2007-11-01 ~ 2008-11-03 : 0.5848314841783249\n",
      "2008-11-03 ~ 2009-11-02 : 2.155247106979319\n",
      "2009-11-02 ~ 2010-11-01 : 1.4222469987049235\n",
      "2010-11-01 ~ 2011-11-01 : 1.2180356432029433\n",
      "2011-11-01 ~ 2012-11-01 : 2.6845213791062217\n",
      "2012-11-01 ~ 2013-11-01 : 1.0726307287813364\n",
      "2013-11-01 ~ 2014-11-03 : 2.0258954668462614\n",
      "2014-11-03 ~ 2015-11-02 : 1.735469253381261\n",
      "2015-11-02 ~ 2016-11-01 : 1.275678861565896\n",
      "2016-11-01 ~ 2017-11-01 : 1.2458558539914804\n",
      "2017-11-01 ~ 2018-11-01 : 1.148950723520078\n",
      "2018-11-01 ~ 2019-11-01 : 1.6524067910300466\n"
     ]
    }
   ],
   "source": [
    "# 연도별 수익률을 구한다.\n",
    "df_account['yield'] = 0.0\n",
    "df_account['yields'] = 0.0\n",
    "df_account['yields'] = df_account['yields'].astype('object')\n",
    "df_account['delisted'] = 0\n",
    "df_account['delisted_stocks'] = df_account['yields'].astype('object')\n",
    "\n",
    "for i in range(len(filepaths)):\n",
    "    if i < len(filepaths) - 1: # exclude last item\n",
    "        start_date = df_account.iloc[i].start_date\n",
    "        end_date = df_account.iloc[i].end_date\n",
    "        \n",
    "        df_this_year = pd.read_csv(filepaths[i], dtype={\"기업코드\":\"string\", \"종목코드\":\"string\"})[['종목코드', '주가']]\n",
    "        df_next_year = pd.read_csv(filepaths[i + 1], dtype={\"기업코드\":\"string\", \"종목코드\":\"string\"})[['종목코드', '주가']]\n",
    "        \n",
    "        stocks = df_account.iloc[i].stocks   \n",
    "        yields = []\n",
    "        \n",
    "        # 종목별 수익률, 상장폐지 기업 수를 구한다.\n",
    "        delisted = 0 # 상장폐지 기업 수\n",
    "        delisted_stocks  = []\n",
    "        for stock in stocks:\n",
    "            start_price = df_this_year[df_this_year['종목코드'] == stock]['주가'].iloc[0]\n",
    "            end_price = df_next_year[df_next_year['종목코드'] == stock]['주가']\n",
    "            \n",
    "            if len(end_price) == 0:\n",
    "                end_price = 0\n",
    "            else:                    \n",
    "                end_price = end_price.fillna(0) \n",
    "                end_price = end_price.iloc[0]\n",
    "                \n",
    "            if end_price == 0: # 가격 정보가 없을 경우 상폐\n",
    "                delisted += 1\n",
    "                delisted_stocks.append(stock)\n",
    "            \n",
    "            # get yield\n",
    "            yields.append(end_price / start_price)\n",
    "\n",
    "        # stock 수익률들의 avg가 total 수익률이 된다. (동일 비중이기 때문에)\n",
    "        mean_yields = statistics.mean(yields)\n",
    "        df_account.at[i, 'yield'] = mean_yields\n",
    "        df_account.at[i, 'yields'] = yields\n",
    "        df_account.at[i, 'delisted'] = delisted\n",
    "        df_account.at[i, 'delisted_stocks'] = delisted_stocks\n",
    "        \n",
    "        print(start_date, '~', end_date, \":\", mean_yields)\n",
    "        \n",
    "        #break"
   ]
  },
  {
   "cell_type": "code",
   "execution_count": 13,
   "metadata": {},
   "outputs": [],
   "source": [
    "df_account['total'] = df_account['yield'].cumprod()"
   ]
  },
  {
   "cell_type": "code",
   "execution_count": 14,
   "metadata": {},
   "outputs": [],
   "source": [
    "df_account['cagr'] = 0.0\n",
    "for i, row in enumerate(df_account.iterrows()):\n",
    "    df_account.at[i, 'cagr'] = pow(row[1]['total'], 1/((i+1)/REBALANCE))"
   ]
  },
  {
   "cell_type": "code",
   "execution_count": 15,
   "metadata": {},
   "outputs": [],
   "source": [
    "def get_win_rate(yield_rates):\n",
    "    return sum([yield_rate > 1.0 for yield_rate in yield_rates]) / len(yield_rates)\n",
    "\n",
    "df_account['win_rate'] = df_account.apply(lambda x: get_win_rate(x['yields']), axis=1)"
   ]
  },
  {
   "cell_type": "code",
   "execution_count": 16,
   "metadata": {},
   "outputs": [],
   "source": [
    "df_account['best_corp'] = df_account.apply(lambda x: max(x['yields']), axis=1)\n",
    "df_account['worst_corp'] = df_account.apply(lambda x: min(x['yields']), axis=1)"
   ]
  },
  {
   "cell_type": "code",
   "execution_count": 17,
   "metadata": {},
   "outputs": [],
   "source": [
    "df_account['best_stock_code'] = df_account.apply(lambda x: x['stocks'][np.argmax(x['yields'])], axis=1)\n",
    "df_account['worst_stock_code'] = df_account.apply(lambda x: x['stocks'][np.argmin(x['yields'])], axis=1)"
   ]
  },
  {
   "cell_type": "code",
   "execution_count": 18,
   "metadata": {},
   "outputs": [
    {
     "data": {
      "image/png": "[encoded data removed]",
      "text/plain": [
       "<Figure size 432x288 with 1 Axes>"
      ]
     },
     "metadata": {
      "needs_background": "light"
     },
     "output_type": "display_data"
    }
   ],
   "source": [
    "fig, ax = plt.subplots()\n",
    "ax.plot_date(df_account['start_date'], df_account['total'], marker='', linestyle='-')\n",
    "fig.autofmt_xdate()\n",
    "plt.show()"
   ]
  },
  {
   "cell_type": "code",
   "execution_count": 19,
   "metadata": {},
   "outputs": [],
   "source": [
    "cagrs = df_account['cagr']\n",
    "rolling_cagrs = []\n",
    "ROLLING = 3\n",
    "for i in range(len(cagrs)):\n",
    "    if i - 3 < 0:\n",
    "        rolling_cagr = np.mean(cagrs[0:i])\n",
    "    else:\n",
    "        rolling_cagr = np.mean(cagrs[i - 3:i])\n",
    "    rolling_cagrs.append(rolling_cagr)"
   ]
  },
  {
   "cell_type": "code",
   "execution_count": 20,
   "metadata": {},
   "outputs": [
    {
     "data": {
      "image/png": "[encoded data removed]",
      "text/plain": [
       "<Figure size 432x288 with 1 Axes>"
      ]
     },
     "metadata": {
      "needs_background": "light"
     },
     "output_type": "display_data"
    }
   ],
   "source": [
    "fig, ax = plt.subplots()\n",
    "ax.plot_date(df_account['start_date'], rolling_cagrs, marker='', linestyle='-')\n",
    "fig.autofmt_xdate()\n",
    "plt.show()"
   ]
  },
  {
   "cell_type": "code",
   "execution_count": 21,
   "metadata": {},
   "outputs": [
    {
     "data": {
      "image/png": "[encoded data removed]",
      "text/plain": [
       "<Figure size 432x288 with 1 Axes>"
      ]
     },
     "metadata": {
      "needs_background": "light"
     },
     "output_type": "display_data"
    }
   ],
   "source": [
    "# fig, ax = plt.subplots()\n",
    "# ax.plot_date(df_account['start_date'], df_account['yield'])\n",
    "# fig.autofmt_xdate()\n",
    "\n",
    "plt.bar(df_account['start_date'], df_account['yield'], color='green')\n",
    "\n",
    "h_line = np.array([1.0 for i in range(len(df_account['start_date']))])\n",
    "plt.plot(df_account['start_date'], h_line, 'r--') \n",
    "\n",
    "plt.show()"
   ]
  },
  {
   "cell_type": "code",
   "execution_count": 22,
   "metadata": {},
   "outputs": [],
   "source": [
    "# 가격 정보가 없는 경우 상폐로 처리했음. 실제로 상폐까지는 아니고 거래정지인 경우가 있음\n",
    "delisted_stocks = sum(df_account['delisted'])"
   ]
  },
  {
   "cell_type": "code",
   "execution_count": 23,
   "metadata": {},
   "outputs": [],
   "source": [
    "cagr = pow(df_account['total'][len(df_account) - 1], 1/(len(df_account)/REBALANCE))"
   ]
  },
  {
   "cell_type": "code",
   "execution_count": 24,
   "metadata": {},
   "outputs": [],
   "source": [
    "# MDD, MDD duration 구하기\n",
    "max_yield = 1.0\n",
    "min_yield = 1.0\n",
    "mdd = 0.0\n",
    "mdd_duration = 0 \n",
    "\n",
    "dd = 0.0\n",
    "dd_duration = 0\n",
    "for val in df_account['total']:\n",
    "    if val > max_yield:\n",
    "        max_yield = val\n",
    "        min_yield = val\n",
    "        dd_duration = 0\n",
    "        continue\n",
    "    \n",
    "    if val < min_yield:\n",
    "        min_yield = val\n",
    "        dd = (1.0 - min_yield / max_yield) * 100.0\n",
    "        dd_duration += 1\n",
    "        \n",
    "        if dd > mdd:\n",
    "            mdd = dd\n",
    "        if dd_duration > mdd_duration:\n",
    "            mdd_duration = dd_duration\n",
    "            \n",
    "if REBALANCE == 2:\n",
    "    mdd_duration *= 6\n",
    "elif REBALANCE == 4:\n",
    "    mdd_duration *= 3"
   ]
  },
  {
   "cell_type": "code",
   "execution_count": 25,
   "metadata": {},
   "outputs": [],
   "source": [
    "# 수익률 표준편차 구하기\n",
    "filetered_yield = list(df_account['yield']).copy()\n",
    "\n",
    "# outlier 제거\n",
    "filetered_yield.remove(max(filetered_yield))\n",
    "filetered_yield.remove(min(filetered_yield))\n",
    "\n",
    "std_yield = statistics.stdev(filetered_yield)"
   ]
  },
  {
   "cell_type": "code",
   "execution_count": 26,
   "metadata": {},
   "outputs": [],
   "source": [
    "# 평균 승률 \n",
    "yields = []\n",
    "for i in range(len(df_account)):\n",
    "    yields.extend(df_account.iloc[i]['yields'])\n",
    "    \n",
    "win_rate = (sum([val > 1.0 for val in yields]) / len(yields)) * 100.0"
   ]
  },
  {
   "cell_type": "code",
   "execution_count": 27,
   "metadata": {},
   "outputs": [
    {
     "name": "stdout",
     "output_type": "stream",
     "text": [
      "+-----------+--------+--------+--------------+--------+----------+----------+------+\n",
      "| Rebalance |  CAGR  |  MDD   | MDD duration |  STD   | Delisted | Win rate | Note |\n",
      "+-----------+--------+--------+--------------+--------+----------+----------+------+\n",
      "|    11-1   | 46.02% | 41.52% |      1       | 0.5087 |    7     |  64.90%  |      |\n",
      "+-----------+--------+--------+--------------+--------+----------+----------+------+\n"
     ]
    }
   ],
   "source": [
    "t = PrettyTable(['Rebalance', 'CAGR', 'MDD', 'MDD duration', 'STD', 'Delisted', 'Win rate', 'Note'])\n",
    "t.add_row([os.path.basename(DATA_DIR),\n",
    "           \"%.2f%%\" % ((cagr - 1.0) * 100.0),\n",
    "           \"%.2f%%\" % (mdd),\n",
    "           mdd_duration,\n",
    "           \"%.4f\" % std_yield,\n",
    "           delisted_stocks,\n",
    "           \"%.2f%%\" % win_rate,\n",
    "           \"\"\n",
    "          ])\n",
    "print(t)"
   ]
  },
  {
   "cell_type": "code",
   "execution_count": 28,
   "metadata": {},
   "outputs": [
    {
     "data": {
      "text/plain": [
       "1.4455795332098045"
      ]
     },
     "execution_count": 28,
     "metadata": {},
     "output_type": "execute_result"
    }
   ],
   "source": [
    "# 수수료 고려\n",
    "df_account['fee_yield'] = df_account['yield'] * 0.99\n",
    "df_account['fee_total'] = df_account['fee_yield'].cumprod()\n",
    "pow(df_account['fee_total'][len(df_account) - 1], 1/(len(df_account)/REBALANCE))"
   ]
  },
  {
   "cell_type": "code",
   "execution_count": 29,
   "metadata": {},
   "outputs": [
    {
     "name": "stdout",
     "output_type": "stream",
     "text": [
      "0.53\n",
      "0.62\n",
      "0.73\n",
      "0.71\n",
      "1.00\n",
      "0.83\n",
      "1.00\n",
      "1.00\n",
      "1.00\n",
      "1.00\n",
      "1.00\n",
      "1.00\n",
      "1.00\n",
      "1.00\n",
      "1.00\n",
      "1.00\n"
     ]
    }
   ],
   "source": [
    "# N년 후 연평균 수익률 (CAGR)이 40%를 넘을 확률\n",
    "yearly_yields = df_account['yield'].tolist()\n",
    "cagr_threshold = 1.35\n",
    "\n",
    "for duration in range(1, 17):\n",
    "    cagrs = []\n",
    "    for i, yearly_yield in enumerate(yearly_yields[:len(yearly_yields)-duration+1]):\n",
    "        total_yield = np.prod(np.array(yearly_yields[i: i+duration]))\n",
    "        cagr = pow(total_yield, 1/duration)\n",
    "        cagrs.append(cagr)\n",
    "        \n",
    "    # N년 후 CAGR이 40%를 넘는 확률\n",
    "    prob = sum(np.array(cagrs) > cagr_threshold) / len(cagrs)\n",
    "    \n",
    "    print(\"{:.2f}\".format(prob))"
   ]
  },
  {
   "cell_type": "markdown",
   "metadata": {},
   "source": [
    "# 인버스 ETF로 MDD 줄이기"
   ]
  },
  {
   "cell_type": "code",
   "execution_count": 30,
   "metadata": {},
   "outputs": [],
   "source": [
    "import FinanceDataReader as fdr"
   ]
  },
  {
   "cell_type": "markdown",
   "metadata": {},
   "source": [
    "### inverse ETF \n",
    "\n",
    "- TIGER KODEX 인버스 200 (123310): 2010-03-29 ~ \n",
    "- ARIRANG KOSDAQ 150 인버스 (301410): 2018-07-11 ~"
   ]
  },
  {
   "cell_type": "code",
   "execution_count": 31,
   "metadata": {},
   "outputs": [],
   "source": [
    "df_inverse_etf = fdr.DataReader('069500')"
   ]
  },
  {
   "cell_type": "code",
   "execution_count": 32,
   "metadata": {},
   "outputs": [
    {
     "data": {
      "text/html": [
       "<div>\n",
       "<style scoped>\n",
       "    .dataframe tbody tr th:only-of-type {\n",
       "        vertical-align: middle;\n",
       "    }\n",
       "\n",
       "    .dataframe tbody tr th {\n",
       "        vertical-align: top;\n",
       "    }\n",
       "\n",
       "    .dataframe thead th {\n",
       "        text-align: right;\n",
       "    }\n",
       "</style>\n",
       "<table border=\"1\" class=\"dataframe\">\n",
       "  <thead>\n",
       "    <tr style=\"text-align: right;\">\n",
       "      <th></th>\n",
       "      <th>Open</th>\n",
       "      <th>High</th>\n",
       "      <th>Low</th>\n",
       "      <th>Close</th>\n",
       "      <th>Volume</th>\n",
       "      <th>Change</th>\n",
       "    </tr>\n",
       "    <tr>\n",
       "      <th>Date</th>\n",
       "      <th></th>\n",
       "      <th></th>\n",
       "      <th></th>\n",
       "      <th></th>\n",
       "      <th></th>\n",
       "      <th></th>\n",
       "    </tr>\n",
       "  </thead>\n",
       "  <tbody>\n",
       "    <tr>\n",
       "      <th>2002-10-14</th>\n",
       "      <td>5541</td>\n",
       "      <td>5683</td>\n",
       "      <td>5388</td>\n",
       "      <td>5518</td>\n",
       "      <td>2577230</td>\n",
       "      <td>NaN</td>\n",
       "    </tr>\n",
       "    <tr>\n",
       "      <th>2002-10-15</th>\n",
       "      <td>5578</td>\n",
       "      <td>5669</td>\n",
       "      <td>5469</td>\n",
       "      <td>5653</td>\n",
       "      <td>2288769</td>\n",
       "      <td>0.024465</td>\n",
       "    </tr>\n",
       "    <tr>\n",
       "      <th>2002-10-16</th>\n",
       "      <td>5713</td>\n",
       "      <td>5713</td>\n",
       "      <td>5619</td>\n",
       "      <td>5677</td>\n",
       "      <td>2039150</td>\n",
       "      <td>0.004246</td>\n",
       "    </tr>\n",
       "    <tr>\n",
       "      <th>2002-10-17</th>\n",
       "      <td>5669</td>\n",
       "      <td>5813</td>\n",
       "      <td>5592</td>\n",
       "      <td>5755</td>\n",
       "      <td>2091777</td>\n",
       "      <td>0.013740</td>\n",
       "    </tr>\n",
       "    <tr>\n",
       "      <th>2002-10-18</th>\n",
       "      <td>5898</td>\n",
       "      <td>6038</td>\n",
       "      <td>5861</td>\n",
       "      <td>6002</td>\n",
       "      <td>1321300</td>\n",
       "      <td>0.042919</td>\n",
       "    </tr>\n",
       "  </tbody>\n",
       "</table>\n",
       "</div>"
      ],
      "text/plain": [
       "            Open  High   Low  Close   Volume    Change\n",
       "Date                                                  \n",
       "2002-10-14  5541  5683  5388   5518  2577230       NaN\n",
       "2002-10-15  5578  5669  5469   5653  2288769  0.024465\n",
       "2002-10-16  5713  5713  5619   5677  2039150  0.004246\n",
       "2002-10-17  5669  5813  5592   5755  2091777  0.013740\n",
       "2002-10-18  5898  6038  5861   6002  1321300  0.042919"
      ]
     },
     "execution_count": 32,
     "metadata": {},
     "output_type": "execute_result"
    }
   ],
   "source": [
    "df_inverse_etf.head()"
   ]
  },
  {
   "cell_type": "code",
   "execution_count": 33,
   "metadata": {},
   "outputs": [],
   "source": [
    "def get_inverse_yield (x):\n",
    "    index_start_price = df_inverse_etf.loc[x['start_date']]['Open']\n",
    "    index_end_price = df_inverse_etf.loc[x['end_date']]['Close']\n",
    "    return 1.0 + (index_end_price - index_start_price) / index_start_price"
   ]
  },
  {
   "cell_type": "code",
   "execution_count": 34,
   "metadata": {},
   "outputs": [],
   "source": [
    "df_hedge = df_account[['start_date', 'end_date', 'yield']]"
   ]
  },
  {
   "cell_type": "code",
   "execution_count": 35,
   "metadata": {},
   "outputs": [
    {
     "name": "stderr",
     "output_type": "stream",
     "text": [
      "/usr/local/lib/python3.7/site-packages/ipykernel_launcher.py:1: SettingWithCopyWarning: \n",
      "A value is trying to be set on a copy of a slice from a DataFrame.\n",
      "Try using .loc[row_indexer,col_indexer] = value instead\n",
      "\n",
      "See the caveats in the documentation: https://pandas.pydata.org/pandas-docs/stable/user_guide/indexing.html#returning-a-view-versus-a-copy\n",
      "  \"\"\"Entry point for launching an IPython kernel.\n",
      "/usr/local/lib/python3.7/site-packages/ipykernel_launcher.py:2: SettingWithCopyWarning: \n",
      "A value is trying to be set on a copy of a slice from a DataFrame.\n",
      "Try using .loc[row_indexer,col_indexer] = value instead\n",
      "\n",
      "See the caveats in the documentation: https://pandas.pydata.org/pandas-docs/stable/user_guide/indexing.html#returning-a-view-versus-a-copy\n",
      "  \n"
     ]
    }
   ],
   "source": [
    "df_hedge['index_yield'] = df_hedge.apply(lambda x: get_inverse_yield(x), axis=1)\n",
    "df_hedge['index_inverse_yield'] = 1 / df_hedge['index_yield']"
   ]
  },
  {
   "cell_type": "code",
   "execution_count": 36,
   "metadata": {},
   "outputs": [
    {
     "name": "stderr",
     "output_type": "stream",
     "text": [
      "/usr/local/lib/python3.7/site-packages/ipykernel_launcher.py:1: SettingWithCopyWarning: \n",
      "A value is trying to be set on a copy of a slice from a DataFrame.\n",
      "Try using .loc[row_indexer,col_indexer] = value instead\n",
      "\n",
      "See the caveats in the documentation: https://pandas.pydata.org/pandas-docs/stable/user_guide/indexing.html#returning-a-view-versus-a-copy\n",
      "  \"\"\"Entry point for launching an IPython kernel.\n",
      "/usr/local/lib/python3.7/site-packages/ipykernel_launcher.py:2: SettingWithCopyWarning: \n",
      "A value is trying to be set on a copy of a slice from a DataFrame.\n",
      "Try using .loc[row_indexer,col_indexer] = value instead\n",
      "\n",
      "See the caveats in the documentation: https://pandas.pydata.org/pandas-docs/stable/user_guide/indexing.html#returning-a-view-versus-a-copy\n",
      "  \n"
     ]
    }
   ],
   "source": [
    "df_hedge['inverse_ratio'] = 0.25\n",
    "df_hedge['total_yield'] = df_hedge['yield'] * (1.0 - df_hedge['inverse_ratio']) + df_hedge['index_inverse_yield'] * df_hedge['inverse_ratio']"
   ]
  },
  {
   "cell_type": "code",
   "execution_count": 37,
   "metadata": {},
   "outputs": [
    {
     "name": "stderr",
     "output_type": "stream",
     "text": [
      "/usr/local/lib/python3.7/site-packages/ipykernel_launcher.py:2: SettingWithCopyWarning: \n",
      "A value is trying to be set on a copy of a slice from a DataFrame.\n",
      "Try using .loc[row_indexer,col_indexer] = value instead\n",
      "\n",
      "See the caveats in the documentation: https://pandas.pydata.org/pandas-docs/stable/user_guide/indexing.html#returning-a-view-versus-a-copy\n",
      "  \n",
      "/usr/local/lib/python3.7/site-packages/ipykernel_launcher.py:3: SettingWithCopyWarning: \n",
      "A value is trying to be set on a copy of a slice from a DataFrame.\n",
      "Try using .loc[row_indexer,col_indexer] = value instead\n",
      "\n",
      "See the caveats in the documentation: https://pandas.pydata.org/pandas-docs/stable/user_guide/indexing.html#returning-a-view-versus-a-copy\n",
      "  This is separate from the ipykernel package so we can avoid doing imports until\n"
     ]
    }
   ],
   "source": [
    "# 수수료 고려\n",
    "df_hedge['fee_yield'] = df_hedge['yield'] * 0.99\n",
    "df_hedge['fee_total'] = df_hedge['total_yield'] * 0.99"
   ]
  },
  {
   "cell_type": "code",
   "execution_count": 38,
   "metadata": {},
   "outputs": [
    {
     "data": {
      "text/plain": [
       "1.4455795332098045"
      ]
     },
     "execution_count": 38,
     "metadata": {},
     "output_type": "execute_result"
    }
   ],
   "source": [
    "pow(df_hedge['fee_yield'].cumprod().iloc[len(df_hedge) - 1], 1/(len(df_account)))"
   ]
  },
  {
   "cell_type": "code",
   "execution_count": 39,
   "metadata": {},
   "outputs": [
    {
     "data": {
      "text/plain": [
       "1.3411312272394238"
      ]
     },
     "execution_count": 39,
     "metadata": {},
     "output_type": "execute_result"
    }
   ],
   "source": [
    "pow(df_hedge['fee_total'].cumprod().iloc[len(df_hedge) - 1], 1/(len(df_account)))"
   ]
  },
  {
   "cell_type": "code",
   "execution_count": 40,
   "metadata": {},
   "outputs": [
    {
     "data": {
      "text/plain": [
       "13.801805778020238"
      ]
     },
     "execution_count": 40,
     "metadata": {},
     "output_type": "execute_result"
    }
   ],
   "source": [
    "# MDD\n",
    "max_yield = 1.0\n",
    "min_yield = 1.0\n",
    "mdd = 0.0\n",
    "mdd_duration = 0 \n",
    "\n",
    "dd = 0.0\n",
    "dd_duration = 0\n",
    "for val in df_hedge['fee_total'].cumprod():\n",
    "    if val > max_yield:\n",
    "        max_yield = val\n",
    "        min_yield = val\n",
    "        dd_duration = 0\n",
    "        continue\n",
    "    \n",
    "    if val < min_yield:\n",
    "        min_yield = val\n",
    "        dd = (1.0 - min_yield / max_yield) * 100.0\n",
    "        dd_duration += 1\n",
    "        \n",
    "        if dd > mdd:\n",
    "            mdd = dd\n",
    "        if dd_duration > mdd_duration:\n",
    "            mdd_duration = dd_duration\n",
    "mdd"
   ]
  },
  {
   "cell_type": "code",
   "execution_count": 41,
   "metadata": {},
   "outputs": [
    {
     "data": {
      "text/plain": [
       "0.37617390751415986"
      ]
     },
     "execution_count": 41,
     "metadata": {},
     "output_type": "execute_result"
    }
   ],
   "source": [
    "# 수익률 표준편차 구하기\n",
    "filetered_yield = list(df_hedge['fee_total']).copy()\n",
    "\n",
    "# outlier 제거\n",
    "filetered_yield.remove(max(filetered_yield))\n",
    "filetered_yield.remove(min(filetered_yield))\n",
    "\n",
    "statistics.stdev(filetered_yield)"
   ]
  },
  {
   "cell_type": "code",
   "execution_count": 42,
   "metadata": {},
   "outputs": [
    {
     "data": {
      "text/plain": [
       "88.23529411764706"
      ]
     },
     "execution_count": 42,
     "metadata": {},
     "output_type": "execute_result"
    }
   ],
   "source": [
    "# 평균 승률 \n",
    "yields = []\n",
    "for i in range(len(df_hedge)):\n",
    "    yields.append(df_hedge.iloc[i]['fee_total'])\n",
    "    \n",
    "(sum([val > 1.0 for val in yields]) / len(yields)) * 100.0"
   ]
  },
  {
   "cell_type": "code",
   "execution_count": 43,
   "metadata": {},
   "outputs": [
    {
     "data": {
      "text/html": [
       "<div>\n",
       "<style scoped>\n",
       "    .dataframe tbody tr th:only-of-type {\n",
       "        vertical-align: middle;\n",
       "    }\n",
       "\n",
       "    .dataframe tbody tr th {\n",
       "        vertical-align: top;\n",
       "    }\n",
       "\n",
       "    .dataframe thead th {\n",
       "        text-align: right;\n",
       "    }\n",
       "</style>\n",
       "<table border=\"1\" class=\"dataframe\">\n",
       "  <thead>\n",
       "    <tr style=\"text-align: right;\">\n",
       "      <th></th>\n",
       "      <th>start_date</th>\n",
       "      <th>end_date</th>\n",
       "      <th>yield</th>\n",
       "      <th>index_yield</th>\n",
       "      <th>index_inverse_yield</th>\n",
       "      <th>inverse_ratio</th>\n",
       "      <th>total_yield</th>\n",
       "      <th>fee_yield</th>\n",
       "      <th>fee_total</th>\n",
       "    </tr>\n",
       "  </thead>\n",
       "  <tbody>\n",
       "    <tr>\n",
       "      <th>0</th>\n",
       "      <td>2002-11-01</td>\n",
       "      <td>2003-11-03</td>\n",
       "      <td>0.957370</td>\n",
       "      <td>1.287977</td>\n",
       "      <td>0.776411</td>\n",
       "      <td>0.25</td>\n",
       "      <td>0.912131</td>\n",
       "      <td>0.947797</td>\n",
       "      <td>0.903009</td>\n",
       "    </tr>\n",
       "    <tr>\n",
       "      <th>1</th>\n",
       "      <td>2003-11-03</td>\n",
       "      <td>2004-11-01</td>\n",
       "      <td>1.356506</td>\n",
       "      <td>1.086587</td>\n",
       "      <td>0.920313</td>\n",
       "      <td>0.25</td>\n",
       "      <td>1.247458</td>\n",
       "      <td>1.342941</td>\n",
       "      <td>1.234983</td>\n",
       "    </tr>\n",
       "    <tr>\n",
       "      <th>2</th>\n",
       "      <td>2004-11-01</td>\n",
       "      <td>2005-11-01</td>\n",
       "      <td>2.782700</td>\n",
       "      <td>1.444957</td>\n",
       "      <td>0.692062</td>\n",
       "      <td>0.25</td>\n",
       "      <td>2.260041</td>\n",
       "      <td>2.754873</td>\n",
       "      <td>2.237440</td>\n",
       "    </tr>\n",
       "    <tr>\n",
       "      <th>3</th>\n",
       "      <td>2005-11-01</td>\n",
       "      <td>2006-11-01</td>\n",
       "      <td>1.156254</td>\n",
       "      <td>1.234690</td>\n",
       "      <td>0.809920</td>\n",
       "      <td>0.25</td>\n",
       "      <td>1.069671</td>\n",
       "      <td>1.144692</td>\n",
       "      <td>1.058974</td>\n",
       "    </tr>\n",
       "    <tr>\n",
       "      <th>4</th>\n",
       "      <td>2006-11-01</td>\n",
       "      <td>2007-11-01</td>\n",
       "      <td>2.237447</td>\n",
       "      <td>1.493500</td>\n",
       "      <td>0.669568</td>\n",
       "      <td>0.25</td>\n",
       "      <td>1.845478</td>\n",
       "      <td>2.215073</td>\n",
       "      <td>1.827023</td>\n",
       "    </tr>\n",
       "    <tr>\n",
       "      <th>5</th>\n",
       "      <td>2007-11-01</td>\n",
       "      <td>2008-11-03</td>\n",
       "      <td>0.584831</td>\n",
       "      <td>0.578616</td>\n",
       "      <td>1.728261</td>\n",
       "      <td>0.25</td>\n",
       "      <td>0.870689</td>\n",
       "      <td>0.578983</td>\n",
       "      <td>0.861982</td>\n",
       "    </tr>\n",
       "    <tr>\n",
       "      <th>6</th>\n",
       "      <td>2008-11-03</td>\n",
       "      <td>2009-11-02</td>\n",
       "      <td>2.155247</td>\n",
       "      <td>1.394899</td>\n",
       "      <td>0.716898</td>\n",
       "      <td>0.25</td>\n",
       "      <td>1.795660</td>\n",
       "      <td>2.133695</td>\n",
       "      <td>1.777703</td>\n",
       "    </tr>\n",
       "    <tr>\n",
       "      <th>7</th>\n",
       "      <td>2009-11-02</td>\n",
       "      <td>2010-11-01</td>\n",
       "      <td>1.422247</td>\n",
       "      <td>1.233089</td>\n",
       "      <td>0.810972</td>\n",
       "      <td>0.25</td>\n",
       "      <td>1.269428</td>\n",
       "      <td>1.408025</td>\n",
       "      <td>1.256734</td>\n",
       "    </tr>\n",
       "    <tr>\n",
       "      <th>8</th>\n",
       "      <td>2010-11-01</td>\n",
       "      <td>2011-11-01</td>\n",
       "      <td>1.218036</td>\n",
       "      <td>1.040471</td>\n",
       "      <td>0.961103</td>\n",
       "      <td>0.25</td>\n",
       "      <td>1.153803</td>\n",
       "      <td>1.205855</td>\n",
       "      <td>1.142265</td>\n",
       "    </tr>\n",
       "    <tr>\n",
       "      <th>9</th>\n",
       "      <td>2011-11-01</td>\n",
       "      <td>2012-11-01</td>\n",
       "      <td>2.684521</td>\n",
       "      <td>1.010380</td>\n",
       "      <td>0.989726</td>\n",
       "      <td>0.25</td>\n",
       "      <td>2.260823</td>\n",
       "      <td>2.657676</td>\n",
       "      <td>2.238214</td>\n",
       "    </tr>\n",
       "    <tr>\n",
       "      <th>10</th>\n",
       "      <td>2012-11-01</td>\n",
       "      <td>2013-11-01</td>\n",
       "      <td>1.072631</td>\n",
       "      <td>1.081522</td>\n",
       "      <td>0.924623</td>\n",
       "      <td>0.25</td>\n",
       "      <td>1.035629</td>\n",
       "      <td>1.061904</td>\n",
       "      <td>1.025273</td>\n",
       "    </tr>\n",
       "    <tr>\n",
       "      <th>11</th>\n",
       "      <td>2013-11-01</td>\n",
       "      <td>2014-11-03</td>\n",
       "      <td>2.025895</td>\n",
       "      <td>0.938270</td>\n",
       "      <td>1.065791</td>\n",
       "      <td>0.25</td>\n",
       "      <td>1.785869</td>\n",
       "      <td>2.005637</td>\n",
       "      <td>1.768011</td>\n",
       "    </tr>\n",
       "    <tr>\n",
       "      <th>12</th>\n",
       "      <td>2014-11-03</td>\n",
       "      <td>2015-11-02</td>\n",
       "      <td>1.735469</td>\n",
       "      <td>1.014561</td>\n",
       "      <td>0.985648</td>\n",
       "      <td>0.25</td>\n",
       "      <td>1.548014</td>\n",
       "      <td>1.718115</td>\n",
       "      <td>1.532534</td>\n",
       "    </tr>\n",
       "    <tr>\n",
       "      <th>13</th>\n",
       "      <td>2015-11-02</td>\n",
       "      <td>2016-11-01</td>\n",
       "      <td>1.275679</td>\n",
       "      <td>1.041349</td>\n",
       "      <td>0.960292</td>\n",
       "      <td>0.25</td>\n",
       "      <td>1.196832</td>\n",
       "      <td>1.262922</td>\n",
       "      <td>1.184864</td>\n",
       "    </tr>\n",
       "    <tr>\n",
       "      <th>14</th>\n",
       "      <td>2016-11-01</td>\n",
       "      <td>2017-11-01</td>\n",
       "      <td>1.245856</td>\n",
       "      <td>1.357220</td>\n",
       "      <td>0.736800</td>\n",
       "      <td>0.25</td>\n",
       "      <td>1.118592</td>\n",
       "      <td>1.233397</td>\n",
       "      <td>1.107406</td>\n",
       "    </tr>\n",
       "    <tr>\n",
       "      <th>15</th>\n",
       "      <td>2017-11-01</td>\n",
       "      <td>2018-11-01</td>\n",
       "      <td>1.148951</td>\n",
       "      <td>0.796257</td>\n",
       "      <td>1.255876</td>\n",
       "      <td>0.25</td>\n",
       "      <td>1.175682</td>\n",
       "      <td>1.137461</td>\n",
       "      <td>1.163925</td>\n",
       "    </tr>\n",
       "    <tr>\n",
       "      <th>16</th>\n",
       "      <td>2018-11-01</td>\n",
       "      <td>2019-11-01</td>\n",
       "      <td>1.652407</td>\n",
       "      <td>1.077019</td>\n",
       "      <td>0.928489</td>\n",
       "      <td>0.25</td>\n",
       "      <td>1.471427</td>\n",
       "      <td>1.635883</td>\n",
       "      <td>1.456713</td>\n",
       "    </tr>\n",
       "  </tbody>\n",
       "</table>\n",
       "</div>"
      ],
      "text/plain": [
       "    start_date    end_date     yield  index_yield  index_inverse_yield  \\\n",
       "0   2002-11-01  2003-11-03  0.957370     1.287977             0.776411   \n",
       "1   2003-11-03  2004-11-01  1.356506     1.086587             0.920313   \n",
       "2   2004-11-01  2005-11-01  2.782700     1.444957             0.692062   \n",
       "3   2005-11-01  2006-11-01  1.156254     1.234690             0.809920   \n",
       "4   2006-11-01  2007-11-01  2.237447     1.493500             0.669568   \n",
       "5   2007-11-01  2008-11-03  0.584831     0.578616             1.728261   \n",
       "6   2008-11-03  2009-11-02  2.155247     1.394899             0.716898   \n",
       "7   2009-11-02  2010-11-01  1.422247     1.233089             0.810972   \n",
       "8   2010-11-01  2011-11-01  1.218036     1.040471             0.961103   \n",
       "9   2011-11-01  2012-11-01  2.684521     1.010380             0.989726   \n",
       "10  2012-11-01  2013-11-01  1.072631     1.081522             0.924623   \n",
       "11  2013-11-01  2014-11-03  2.025895     0.938270             1.065791   \n",
       "12  2014-11-03  2015-11-02  1.735469     1.014561             0.985648   \n",
       "13  2015-11-02  2016-11-01  1.275679     1.041349             0.960292   \n",
       "14  2016-11-01  2017-11-01  1.245856     1.357220             0.736800   \n",
       "15  2017-11-01  2018-11-01  1.148951     0.796257             1.255876   \n",
       "16  2018-11-01  2019-11-01  1.652407     1.077019             0.928489   \n",
       "\n",
       "    inverse_ratio  total_yield  fee_yield  fee_total  \n",
       "0            0.25     0.912131   0.947797   0.903009  \n",
       "1            0.25     1.247458   1.342941   1.234983  \n",
       "2            0.25     2.260041   2.754873   2.237440  \n",
       "3            0.25     1.069671   1.144692   1.058974  \n",
       "4            0.25     1.845478   2.215073   1.827023  \n",
       "5            0.25     0.870689   0.578983   0.861982  \n",
       "6            0.25     1.795660   2.133695   1.777703  \n",
       "7            0.25     1.269428   1.408025   1.256734  \n",
       "8            0.25     1.153803   1.205855   1.142265  \n",
       "9            0.25     2.260823   2.657676   2.238214  \n",
       "10           0.25     1.035629   1.061904   1.025273  \n",
       "11           0.25     1.785869   2.005637   1.768011  \n",
       "12           0.25     1.548014   1.718115   1.532534  \n",
       "13           0.25     1.196832   1.262922   1.184864  \n",
       "14           0.25     1.118592   1.233397   1.107406  \n",
       "15           0.25     1.175682   1.137461   1.163925  \n",
       "16           0.25     1.471427   1.635883   1.456713  "
      ]
     },
     "execution_count": 43,
     "metadata": {},
     "output_type": "execute_result"
    }
   ],
   "source": [
    "df_hedge"
   ]
  },
  {
   "cell_type": "markdown",
   "metadata": {},
   "source": [
    "- 2002 ~ 2019\n",
    "- 매년 11/1 리밸런싱\n",
    "- 모델: (PBR + GP/A) + 지수 인버스\n",
    "- 인버스는 KODEX200 수익률의 역수로 가정 (지수 인버스 ETF들 중 가장 오래된 것이 2010년부터이기 떄문)\n",
    "\n",
    "| Inverse hedge ratio |  CAGR (거래비용 1%)  |  MDD    |  STD   | 수익이 난 해 (%) | Note |\n",
    "|-|-|-|-|-|-|\n",
    "|    0.0    | 44.56% | 42.10%        | 0.4330     |  88.23%  |      |\n",
    "|    0.2    | 36.38% | 19.46%        | 0.4013     |  88.23%  |      |\n",
    "|    0.25    | 34.11% | 13.80%        | 0.3761     |  88.23%  |      |\n",
    "|    0.3    | 31.75% | 10.59%        | 0.3459     |  88.23%  |      |\n",
    "|    0.4    | 26.81% | 12.38%        | 0.2804     |  94.11%  |      |\n",
    "|    0.5    | 21.57% | 14.17%        | 0.2213     |  76.47%  |      |\n",
    "|    0.6    | 16.03% | 15.96%        | 0.1748     |  76.47%  |      |\n",
    "|    0.7    | 10.18% | 17.76%        | 0.1532     |  70.58%  |      |\n",
    "|    0.8    | 3.97% | 25.28%        | 0.1383    |  52.94%  |      |\n",
    "|    1.0    | -9.81% | 80.29%        | 0.1481     |  17.64%  |      |"
   ]
  },
  {
   "cell_type": "code",
   "execution_count": null,
   "metadata": {},
   "outputs": [],
   "source": []
  }
 ],
 "metadata": {
  "kernelspec": {
   "display_name": "Python 3",
   "language": "python",
   "name": "python3"
  },
  "language_info": {
   "codemirror_mode": {
    "name": "ipython",
    "version": 3
   },
   "file_extension": ".py",
   "mimetype": "text/x-python",
   "name": "python",
   "nbconvert_exporter": "python",
   "pygments_lexer": "ipython3",
   "version": "3.7.6"
  }
 },
 "nbformat": 4,
 "nbformat_minor": 4
}
