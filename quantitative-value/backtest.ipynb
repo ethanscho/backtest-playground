{
 "cells": [
  {
   "cell_type": "code",
   "execution_count": 405,
   "metadata": {},
   "outputs": [],
   "source": [
    "import os\n",
    "import glob\n",
    "import datetime\n",
    "import importlib\n",
    "import statistics\n",
    "import numpy as np\n",
    "import pandas as pd\n",
    "from marcap import marcap_data\n",
    "import FinanceDataReader as fdr\n",
    "import matplotlib.pyplot as plt\n",
    "import matplotlib.ticker as ticker\n",
    "from prettytable import PrettyTable"
   ]
  },
  {
   "cell_type": "code",
   "execution_count": 428,
   "metadata": {},
   "outputs": [
    {
     "data": {
      "text/plain": [
       "<module 'models.gpa' from '/home/pi/Documents/stock-backtesting/backtest-playground/quantitative-value/models/gpa.py'>"
      ]
     },
     "execution_count": 428,
     "metadata": {},
     "output_type": "execute_result"
    }
   ],
   "source": [
    "import models.pbr_gpa as model # 1/PBR + GP/A\n",
    "import models.gpa as model\n",
    "#import models.ncav as model # NCAV\n",
    "#import models.super_value as model # PBR + PCR + PER + PSR\n",
    "#import models.super_quality as model\n",
    "#import models.lu_zhang as model\n",
    "#import models.pbr as model\n",
    "#import models.pcr as model\n",
    "#import models.per as model\n",
    "#import models.psr as model\n",
    "#import models.pbr_psr as model\n",
    "\n",
    "importlib.reload(model)"
   ]
  },
  {
   "cell_type": "code",
   "execution_count": 429,
   "metadata": {},
   "outputs": [],
   "source": [
    "#DATA_DIR = '../data/quarterly/2-5-8-11' # quarter\n",
    "# DATA_DIR = '../data/half-year/2-8' # half year\n",
    "DATA_DIR = '../data/yearly/8-1'\n",
    "REBALANCE = 1 # 1: yearly, 2: half-yearly 4: quarterly"
   ]
  },
  {
   "cell_type": "code",
   "execution_count": 430,
   "metadata": {},
   "outputs": [],
   "source": [
    "df_account = pd.DataFrame(columns=['start_date', 'end_date', 'filepath'])\n",
    "filepaths = glob.glob(DATA_DIR + \"/*.csv\")\n",
    "filepaths = sorted(filepaths)\n",
    "\n",
    "days = []\n",
    "for i in range(len(filepaths)):\n",
    "    if i < len(filepaths) - 1: # exclude last item\n",
    "        start_date =  os.path.basename(filepaths[i])[:-4]\n",
    "        end_date =  os.path.basename(filepaths[i + 1])[:-4]\n",
    "        \n",
    "        day = {'start_date':start_date, 'end_date':end_date, 'filepath':filepaths[i]}\n",
    "        days.append(day)\n",
    "\n",
    "df_account = df_account.append(days)"
   ]
  },
  {
   "cell_type": "code",
   "execution_count": 431,
   "metadata": {},
   "outputs": [],
   "source": [
    "# 연도별 종목을 구한다.\n",
    "df_account['stocks'] = df_account.apply(lambda x: model.get_stocks(x.filepath, x.start_date, False), axis=1)"
   ]
  },
  {
   "cell_type": "code",
   "execution_count": 432,
   "metadata": {},
   "outputs": [
    {
     "name": "stdout",
     "output_type": "stream",
     "text": [
      "2002-08-01 ~ 2003-08-01 : 0.8090077034135829\n",
      "2003-08-01 ~ 2004-08-02 : 1.1853713453445023\n",
      "2004-08-02 ~ 2005-08-01 : 3.3795547720451364\n",
      "2005-08-01 ~ 2006-08-01 : 1.699794242696467\n",
      "2006-08-01 ~ 2007-08-01 : 1.8859037870520357\n",
      "2007-08-01 ~ 2008-08-01 : 0.9609457414850461\n",
      "2008-08-01 ~ 2009-08-03 : 1.1482532022704268\n",
      "2009-08-03 ~ 2010-08-02 : 1.740984427732327\n",
      "2010-08-02 ~ 2011-08-01 : 2.160647613571599\n",
      "2011-08-01 ~ 2012-08-01 : 1.6686011700131136\n",
      "2012-08-01 ~ 2013-08-01 : 1.3628160870638117\n",
      "2013-08-01 ~ 2014-08-01 : 1.3843672277539023\n",
      "2014-08-01 ~ 2015-08-03 : 2.024076930647536\n",
      "2015-08-03 ~ 2016-08-01 : 1.0329295749420826\n",
      "2016-08-01 ~ 2017-08-01 : 0.8611010420753917\n",
      "2017-08-01 ~ 2018-08-01 : 1.5371818370092845\n",
      "2018-08-01 ~ 2019-08-01 : 1.3136322501567894\n"
     ]
    }
   ],
   "source": [
    "# 연도별 수익률을 구한다.\n",
    "df_account['yield'] = 0.0\n",
    "df_account['yields'] = 0.0\n",
    "df_account['yields'] = df_account['yields'].astype('object')\n",
    "df_account['delisted'] = 0\n",
    "df_account['delisted_stocks'] = df_account['yields'].astype('object')\n",
    "\n",
    "for i in range(len(filepaths)):\n",
    "    if i < len(filepaths) - 1: # exclude last item\n",
    "        start_date = df_account.iloc[i].start_date\n",
    "        end_date = df_account.iloc[i].end_date\n",
    "        \n",
    "        df_this_year = pd.read_csv(filepaths[i], dtype={\"기업코드\":\"string\", \"종목코드\":\"string\"})[['종목코드', '주가']]\n",
    "        df_next_year = pd.read_csv(filepaths[i + 1], dtype={\"기업코드\":\"string\", \"종목코드\":\"string\"})[['종목코드', '주가']]\n",
    "        \n",
    "        stocks = df_account.iloc[i].stocks   \n",
    "        yields = []\n",
    "        \n",
    "        # 종목별 수익률, 상장폐지 기업 수를 구한다.\n",
    "        delisted = 0 # 상장폐지 기업 수\n",
    "        delisted_stocks  = []\n",
    "        for stock in stocks:\n",
    "            start_price = df_this_year[df_this_year['종목코드'] == stock]['주가'].iloc[0]\n",
    "            end_price = df_next_year[df_next_year['종목코드'] == stock]['주가']\n",
    "            \n",
    "            if len(end_price) == 0:\n",
    "                end_price = 0\n",
    "            else:                    \n",
    "                end_price = end_price.fillna(0) \n",
    "                end_price = end_price.iloc[0]\n",
    "                \n",
    "            if end_price == 0: # 가격 정보가 없을 경우 상폐\n",
    "                delisted += 1\n",
    "                delisted_stocks.append(stock)\n",
    "            \n",
    "            # get yield\n",
    "            yields.append(end_price / start_price)\n",
    "\n",
    "        # stock 수익률들의 avg가 total 수익률이 된다. (동일 비중이기 때문에)\n",
    "        mean_yields = statistics.mean(yields)\n",
    "        df_account.at[i, 'yield'] = mean_yields\n",
    "        df_account.at[i, 'yields'] = yields\n",
    "        df_account.at[i, 'delisted'] = delisted\n",
    "        df_account.at[i, 'delisted_stocks'] = delisted_stocks\n",
    "        \n",
    "        print(start_date, '~', end_date, \":\", mean_yields)\n",
    "        \n",
    "        #break"
   ]
  },
  {
   "cell_type": "code",
   "execution_count": 433,
   "metadata": {},
   "outputs": [],
   "source": [
    "df_account['total'] = df_account['yield'].cumprod()"
   ]
  },
  {
   "cell_type": "code",
   "execution_count": 434,
   "metadata": {},
   "outputs": [],
   "source": [
    "df_account['cagr'] = 0.0\n",
    "for i, row in enumerate(df_account.iterrows()):\n",
    "    df_account.at[i, 'cagr'] = pow(row[1]['total'], 1/((i+1)/REBALANCE))"
   ]
  },
  {
   "cell_type": "code",
   "execution_count": 435,
   "metadata": {},
   "outputs": [],
   "source": [
    "def get_win_rate(yield_rates):\n",
    "    return sum([yield_rate > 1.0 for yield_rate in yield_rates]) / len(yield_rates)\n",
    "\n",
    "df_account['win_rate'] = df_account.apply(lambda x: get_win_rate(x['yields']), axis=1)"
   ]
  },
  {
   "cell_type": "code",
   "execution_count": 436,
   "metadata": {},
   "outputs": [],
   "source": [
    "df_account['best_corp'] = df_account.apply(lambda x: max(x['yields']), axis=1)\n",
    "df_account['worst_corp'] = df_account.apply(lambda x: min(x['yields']), axis=1)"
   ]
  },
  {
   "cell_type": "code",
   "execution_count": 437,
   "metadata": {},
   "outputs": [],
   "source": [
    "df_account['best_stock_code'] = df_account.apply(lambda x: x['stocks'][np.argmax(x['yields'])], axis=1)\n",
    "df_account['worst_stock_code'] = df_account.apply(lambda x: x['stocks'][np.argmin(x['yields'])], axis=1)"
   ]
  },
  {
   "cell_type": "code",
   "execution_count": 438,
   "metadata": {},
   "outputs": [
    {
     "name": "stderr",
     "output_type": "stream",
     "text": [
      "/usr/lib/python3/dist-packages/matplotlib/cbook/__init__.py:1377: FutureWarning: Support for multi-dimensional indexing (e.g. `obj[:, None]`) is deprecated and will be removed in a future version.  Convert to a numpy array before indexing instead.\n",
      "  x[:, None]\n",
      "/usr/lib/python3/dist-packages/matplotlib/axes/_base.py:237: FutureWarning: Support for multi-dimensional indexing (e.g. `obj[:, None]`) is deprecated and will be removed in a future version.  Convert to a numpy array before indexing instead.\n",
      "  x = x[:, np.newaxis]\n",
      "/usr/lib/python3/dist-packages/matplotlib/axes/_base.py:239: FutureWarning: Support for multi-dimensional indexing (e.g. `obj[:, None]`) is deprecated and will be removed in a future version.  Convert to a numpy array before indexing instead.\n",
      "  y = y[:, np.newaxis]\n"
     ]
    },
    {
     "data": {
      "image/png": "[encoded data removed]",
      "text/plain": [
       "<Figure size 432x288 with 1 Axes>"
      ]
     },
     "metadata": {
      "needs_background": "light"
     },
     "output_type": "display_data"
    }
   ],
   "source": [
    "fig, ax = plt.subplots()\n",
    "ax.plot_date(df_account['start_date'], df_account['total'], marker='', linestyle='-')\n",
    "fig.autofmt_xdate()\n",
    "plt.show()"
   ]
  },
  {
   "cell_type": "code",
   "execution_count": 439,
   "metadata": {},
   "outputs": [],
   "source": [
    "cagrs = df_account['cagr']\n",
    "rolling_cagrs = []\n",
    "ROLLING = 3\n",
    "for i in range(len(cagrs)):\n",
    "    if i - 3 < 0:\n",
    "        rolling_cagr = np.mean(cagrs[0:i])\n",
    "    else:\n",
    "        rolling_cagr = np.mean(cagrs[i - 3:i])\n",
    "    rolling_cagrs.append(rolling_cagr)"
   ]
  },
  {
   "cell_type": "code",
   "execution_count": 440,
   "metadata": {},
   "outputs": [
    {
     "data": {
      "image/png": "[encoded data removed]",
      "text/plain": [
       "<Figure size 432x288 with 1 Axes>"
      ]
     },
     "metadata": {
      "needs_background": "light"
     },
     "output_type": "display_data"
    }
   ],
   "source": [
    "fig, ax = plt.subplots()\n",
    "ax.plot_date(df_account['start_date'], rolling_cagrs, marker='', linestyle='-')\n",
    "fig.autofmt_xdate()\n",
    "plt.show()"
   ]
  },
  {
   "cell_type": "code",
   "execution_count": 441,
   "metadata": {},
   "outputs": [
    {
     "data": {
      "image/png": "[encoded data removed]",
      "text/plain": [
       "<Figure size 432x288 with 1 Axes>"
      ]
     },
     "metadata": {
      "needs_background": "light"
     },
     "output_type": "display_data"
    }
   ],
   "source": [
    "# fig, ax = plt.subplots()\n",
    "# ax.plot_date(df_account['start_date'], df_account['yield'])\n",
    "# fig.autofmt_xdate()\n",
    "\n",
    "plt.bar(df_account['start_date'], df_account['yield'], color='green')\n",
    "\n",
    "h_line = np.array([1.0 for i in range(len(df_account['start_date']))])\n",
    "plt.plot(df_account['start_date'], h_line, 'r--') \n",
    "\n",
    "plt.show()"
   ]
  },
  {
   "cell_type": "code",
   "execution_count": 442,
   "metadata": {},
   "outputs": [],
   "source": [
    "# 가격 정보가 없는 경우 상폐로 처리했음. 실제로 상폐까지는 아니고 거래정지인 경우가 있음\n",
    "delisted_stocks = sum(df_account['delisted'])"
   ]
  },
  {
   "cell_type": "code",
   "execution_count": 443,
   "metadata": {},
   "outputs": [],
   "source": [
    "cagr = pow(df_account['total'][len(df_account) - 1], 1/(len(df_account)/REBALANCE))"
   ]
  },
  {
   "cell_type": "code",
   "execution_count": 444,
   "metadata": {},
   "outputs": [],
   "source": [
    "# MDD, MDD duration 구하기\n",
    "max_yield = -100.0\n",
    "min_yield = 0.0\n",
    "mdd = 0.0\n",
    "mdd_duration = 0 \n",
    "\n",
    "dd = 0.0\n",
    "dd_duration = 0\n",
    "for val in df_account['total']:\n",
    "    if val > max_yield:\n",
    "        max_yield = val\n",
    "        min_yield = val\n",
    "        dd_duration = 0\n",
    "        continue\n",
    "    \n",
    "    if val < min_yield:\n",
    "        min_yield = val\n",
    "        dd = (1.0 - min_yield / max_yield) * 100.0\n",
    "        dd_duration += 1\n",
    "        \n",
    "        if dd > mdd:\n",
    "            mdd = dd\n",
    "        if dd_duration > mdd_duration:\n",
    "            mdd_duration = dd_duration\n",
    "            \n",
    "if REBALANCE == 2:\n",
    "    mdd_duration *= 6\n",
    "elif REBALANCE == 4:\n",
    "    mdd_duration *= 3"
   ]
  },
  {
   "cell_type": "code",
   "execution_count": 445,
   "metadata": {},
   "outputs": [],
   "source": [
    "# 수익률 표준편차 구하기\n",
    "filetered_yield = list(df_account['yield']).copy()\n",
    "\n",
    "# outlier 제거\n",
    "filetered_yield.remove(max(filetered_yield))\n",
    "filetered_yield.remove(min(filetered_yield))\n",
    "\n",
    "std_yield = statistics.stdev(filetered_yield)"
   ]
  },
  {
   "cell_type": "code",
   "execution_count": 446,
   "metadata": {},
   "outputs": [],
   "source": [
    "# 평균 승률 \n",
    "yields = []\n",
    "for i in range(len(df_account)):\n",
    "    yields.extend(df_account.iloc[i]['yields'])\n",
    "    \n",
    "win_rate = (sum([val > 1.0 for val in yields]) / len(yields)) * 100.0"
   ]
  },
  {
   "cell_type": "code",
   "execution_count": 447,
   "metadata": {},
   "outputs": [
    {
     "name": "stdout",
     "output_type": "stream",
     "text": [
      "+-----------+--------+--------+--------------+--------+----------+----------+------+\n",
      "| Rebalance |  CAGR  |  MDD   | MDD duration |  STD   | Delisted | Win rate | Note |\n",
      "+-----------+--------+--------+--------------+--------+----------+----------+------+\n",
      "|    8-1    | 44.02% | 13.89% |      1       | 0.3942 |    17    |  53.92%  |      |\n",
      "+-----------+--------+--------+--------------+--------+----------+----------+------+\n"
     ]
    }
   ],
   "source": [
    "t = PrettyTable(['Rebalance', 'CAGR', 'MDD', 'MDD duration', 'STD', 'Delisted', 'Win rate', 'Note'])\n",
    "t.add_row([os.path.basename(DATA_DIR),\n",
    "           \"%.2f%%\" % ((cagr - 1.0) * 100.0),\n",
    "           \"%.2f%%\" % (mdd),\n",
    "           mdd_duration,\n",
    "           \"%.4f\" % std_yield,\n",
    "           delisted_stocks,\n",
    "           \"%.2f%%\" % win_rate,\n",
    "           \"\"\n",
    "          ])\n",
    "print(t)"
   ]
  },
  {
   "cell_type": "code",
   "execution_count": 448,
   "metadata": {},
   "outputs": [
    {
     "data": {
      "text/plain": [
       "1.4258177174977706"
      ]
     },
     "execution_count": 448,
     "metadata": {},
     "output_type": "execute_result"
    }
   ],
   "source": [
    "# 수수료 고려\n",
    "df_account['fee_yield'] = df_account['yield'] * 0.99\n",
    "df_account['fee_total'] = df_account['fee_yield'].cumprod()\n",
    "pow(df_account['fee_total'][len(df_account) - 1], 1/(len(df_account)/REBALANCE))"
   ]
  },
  {
   "cell_type": "code",
   "execution_count": null,
   "metadata": {},
   "outputs": [],
   "source": []
  },
  {
   "cell_type": "code",
   "execution_count": 449,
   "metadata": {},
   "outputs": [
    {
     "data": {
      "text/plain": [
       "[0.8090077034135829,\n",
       " 1.1853713453445023,\n",
       " 3.3795547720451364,\n",
       " 1.699794242696467,\n",
       " 1.8859037870520357,\n",
       " 0.9609457414850461,\n",
       " 1.1482532022704268,\n",
       " 1.740984427732327,\n",
       " 2.160647613571599,\n",
       " 1.6686011700131136,\n",
       " 1.3628160870638117,\n",
       " 1.3843672277539023,\n",
       " 2.024076930647536,\n",
       " 1.0329295749420826,\n",
       " 0.8611010420753917,\n",
       " 1.5371818370092845,\n",
       " 1.3136322501567894]"
      ]
     },
     "execution_count": 449,
     "metadata": {},
     "output_type": "execute_result"
    }
   ],
   "source": [
    "df_account['yield'].tolist()"
   ]
  },
  {
   "cell_type": "code",
   "execution_count": null,
   "metadata": {},
   "outputs": [],
   "source": []
  },
  {
   "cell_type": "code",
   "execution_count": null,
   "metadata": {},
   "outputs": [],
   "source": []
  },
  {
   "cell_type": "code",
   "execution_count": null,
   "metadata": {},
   "outputs": [],
   "source": []
  }
 ],
 "metadata": {
  "kernelspec": {
   "display_name": "Python 3",
   "language": "python",
   "name": "python3"
  },
  "language_info": {
   "codemirror_mode": {
    "name": "ipython",
    "version": 3
   },
   "file_extension": ".py",
   "mimetype": "text/x-python",
   "name": "python",
   "nbconvert_exporter": "python",
   "pygments_lexer": "ipython3",
   "version": "3.7.3"
  }
 },
 "nbformat": 4,
 "nbformat_minor": 4
}
