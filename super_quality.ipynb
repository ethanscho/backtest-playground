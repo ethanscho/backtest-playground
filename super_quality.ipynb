{
 "cells": [
  {
   "cell_type": "code",
   "execution_count": 3,
   "metadata": {},
   "outputs": [
    {
     "name": "stdout",
     "output_type": "stream",
     "text": [
      "importing Jupyter notebook from common.ipynb\n"
     ]
    }
   ],
   "source": [
    "import pandas as pd\n",
    "import import_ipynb\n",
    "from common import *"
   ]
  },
  {
   "cell_type": "markdown",
   "metadata": {},
   "source": [
    "|종목 수|시가총액 하위(%)|기간|리밸런싱|CAGRR|IFRS|CFS|NOTE|\n",
    "|-----|-------|-------|-----|-----|----|---|-|\n",
    "| 30 | 20 | 2002 ~ 2019 |8/1| 1.224468 |1|0, 1| |\n",
    "| 30 | 20 | 2002 ~ 2019 |10/1| 1.217756 |1|0, 1| |"
   ]
  },
  {
   "cell_type": "code",
   "execution_count": 4,
   "metadata": {},
   "outputs": [],
   "source": [
    "NUM_STOCKS = 30\n",
    "MIN_MARKET_CAP = 0.0\n",
    "MAX_MARKET_CAP = 0.2"
   ]
  },
  {
   "cell_type": "code",
   "execution_count": 5,
   "metadata": {},
   "outputs": [],
   "source": [
    "def get_stocks(filepath, date):\n",
    "    print(\"------------------------------\")\n",
    "    print(date, filepath)\n",
    "    df = pd.read_csv(filepath, dtype={\"기업코드\":\"string\", \"종목코드\":\"string\"})\n",
    "\n",
    "    cols = ['종목코드', 'IFRS', 'CFS', '회사명', '시가총액', 'GP/A', '당기순이익', '증자', '영업활동으로인한현금흐름']\n",
    "    #cols.extend(past_income_cols)\n",
    "\n",
    "    df_qp = df[cols]\n",
    "    print('전체', len(df_qp))\n",
    "    \n",
    "    # 지주사, 금융사 제외\n",
    "    df_qp = exclude_holdings_and_finances(df_qp, '회사명')\n",
    "    print('지주사, 금융사 제외', len(df_qp))\n",
    "    \n",
    "    # 국외주식 제외\n",
    "    df_qp = exclude_foreign_corps(df_qp, '종목코드')\n",
    "    print('국외주식 제외', len(df_qp))\n",
    "    \n",
    "    # 전년도 증자 기업 제외\n",
    "    df_qp = df_qp[df_qp['증자'] == 0]\n",
    "    print('증자기업 제외', len(df_qp))\n",
    "\n",
    "    # 전년도 적자 기업 제외 \n",
    "    df_qp = df_qp[df_qp['당기순이익'] > 0]\n",
    "    print('당기순이익 적자 제외', len(df_qp))\n",
    "    \n",
    "    # 전년도 영업현금흐름 적자 기업 제외 \n",
    "    df_qp = df_qp[df_qp['영업활동으로인한현금흐름'] > 0]\n",
    "    print('영업활동으로인한현금흐름 적자 제외', len(df_qp))\n",
    "    \n",
    "    # 시가총액 하위 20% \n",
    "    df_qp = df_qp[df_qp['시가총액'] > 0] # 시가총액 data가 없는 row는 제거\n",
    "    df_qp = df_qp.sort_values(by=['시가총액'])\n",
    "    print('가격정보 없는 기업 제외', len(df_qp))\n",
    "    df_qp = df_qp[int(len(df_qp)*MIN_MARKET_CAP):int(len(df_qp)*MAX_MARKET_CAP)]\n",
    "    \n",
    "    # get ranks\n",
    "    df_qp['RANK'] = df_qp['GP/A'].rank(ascending=False)\n",
    "    df_qp = df_qp.sort_values(by=['RANK'])\n",
    "    \n",
    "    stocks = []\n",
    "    counter = 0\n",
    "    for i, row in df_qp.iterrows():\n",
    "        counter += 1\n",
    "        if counter > NUM_STOCKS:\n",
    "            break\n",
    "        \n",
    "        candidate = row['종목코드']\n",
    "        candidate_name = row['회사명']\n",
    "            \n",
    "        #print(candidate_name, row['TOTAL_RANK'])\n",
    "        stocks.append(candidate)\n",
    "    \n",
    "    print(\"선정 기업 수\", len(stocks))\n",
    "    return stocks"
   ]
  },
  {
   "cell_type": "code",
   "execution_count": 7,
   "metadata": {},
   "outputs": [],
   "source": [
    "#get_stocks('data/daily/8-1/2018-08-01.csv', '2018-08-01')"
   ]
  },
  {
   "cell_type": "code",
   "execution_count": null,
   "metadata": {},
   "outputs": [],
   "source": []
  },
  {
   "cell_type": "code",
   "execution_count": null,
   "metadata": {},
   "outputs": [],
   "source": []
  }
 ],
 "metadata": {
  "kernelspec": {
   "display_name": "Python 3",
   "language": "python",
   "name": "python3"
  },
  "language_info": {
   "codemirror_mode": {
    "name": "ipython",
    "version": 3
   },
   "file_extension": ".py",
   "mimetype": "text/x-python",
   "name": "python",
   "nbconvert_exporter": "python",
   "pygments_lexer": "ipython3",
   "version": "3.7.6"
  }
 },
 "nbformat": 4,
 "nbformat_minor": 4
}
