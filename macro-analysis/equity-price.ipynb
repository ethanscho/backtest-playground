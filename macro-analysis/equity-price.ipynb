{
 "cells": [
  {
   "cell_type": "code",
   "execution_count": 66,
   "id": "bibliographic-occasions",
   "metadata": {},
   "outputs": [],
   "source": [
    "import os\n",
    "import glob\n",
    "import datetime\n",
    "import importlib\n",
    "import statistics\n",
    "import numpy as np\n",
    "import pandas as pd\n",
    "import FinanceDataReader as fdr\n",
    "\n",
    "import matplotlib\n",
    "import matplotlib.pyplot as plt\n",
    "import matplotlib.ticker as ticker\n",
    "from prettytable import PrettyTable"
   ]
  },
  {
   "cell_type": "code",
   "execution_count": 36,
   "id": "opening-schema",
   "metadata": {},
   "outputs": [],
   "source": [
    "DATA_DIR = '../data/quarterly/2-5-8-11' # quarter\n",
    "# DATA_DIR = '../data/half-year/2-8' # half year\n",
    "#DATA_DIR = '../data/yearly/8-1'"
   ]
  },
  {
   "cell_type": "code",
   "execution_count": 37,
   "id": "figured-reverse",
   "metadata": {},
   "outputs": [],
   "source": [
    "df_account = pd.DataFrame(columns=['date', 'filepath'])\n",
    "filepaths = glob.glob(DATA_DIR + \"/*.csv\")\n",
    "filepaths = sorted(filepaths)\n",
    "\n",
    "days = []\n",
    "for i in range(len(filepaths)):\n",
    "    date =  os.path.basename(filepaths[i])[:-4]\n",
    "    day = {'date':date, 'filepath':filepaths[i]}\n",
    "    days.append(day)\n",
    "\n",
    "df_account = df_account.append(days)"
   ]
  },
  {
   "cell_type": "code",
   "execution_count": 38,
   "id": "funny-polls",
   "metadata": {},
   "outputs": [
    {
     "data": {
      "text/html": [
       "<div>\n",
       "<style scoped>\n",
       "    .dataframe tbody tr th:only-of-type {\n",
       "        vertical-align: middle;\n",
       "    }\n",
       "\n",
       "    .dataframe tbody tr th {\n",
       "        vertical-align: top;\n",
       "    }\n",
       "\n",
       "    .dataframe thead th {\n",
       "        text-align: right;\n",
       "    }\n",
       "</style>\n",
       "<table border=\"1\" class=\"dataframe\">\n",
       "  <thead>\n",
       "    <tr style=\"text-align: right;\">\n",
       "      <th></th>\n",
       "      <th>date</th>\n",
       "      <th>filepath</th>\n",
       "    </tr>\n",
       "  </thead>\n",
       "  <tbody>\n",
       "    <tr>\n",
       "      <th>0</th>\n",
       "      <td>2002-02-01</td>\n",
       "      <td>../data/quarterly/2-5-8-11/2002-02-01.csv</td>\n",
       "    </tr>\n",
       "    <tr>\n",
       "      <th>1</th>\n",
       "      <td>2002-05-01</td>\n",
       "      <td>../data/quarterly/2-5-8-11/2002-05-01.csv</td>\n",
       "    </tr>\n",
       "    <tr>\n",
       "      <th>2</th>\n",
       "      <td>2002-08-01</td>\n",
       "      <td>../data/quarterly/2-5-8-11/2002-08-01.csv</td>\n",
       "    </tr>\n",
       "    <tr>\n",
       "      <th>3</th>\n",
       "      <td>2002-11-01</td>\n",
       "      <td>../data/quarterly/2-5-8-11/2002-11-01.csv</td>\n",
       "    </tr>\n",
       "    <tr>\n",
       "      <th>4</th>\n",
       "      <td>2003-02-03</td>\n",
       "      <td>../data/quarterly/2-5-8-11/2003-02-03.csv</td>\n",
       "    </tr>\n",
       "    <tr>\n",
       "      <th>...</th>\n",
       "      <td>...</td>\n",
       "      <td>...</td>\n",
       "    </tr>\n",
       "    <tr>\n",
       "      <th>67</th>\n",
       "      <td>2018-11-01</td>\n",
       "      <td>../data/quarterly/2-5-8-11/2018-11-01.csv</td>\n",
       "    </tr>\n",
       "    <tr>\n",
       "      <th>68</th>\n",
       "      <td>2019-02-01</td>\n",
       "      <td>../data/quarterly/2-5-8-11/2019-02-01.csv</td>\n",
       "    </tr>\n",
       "    <tr>\n",
       "      <th>69</th>\n",
       "      <td>2019-05-01</td>\n",
       "      <td>../data/quarterly/2-5-8-11/2019-05-01.csv</td>\n",
       "    </tr>\n",
       "    <tr>\n",
       "      <th>70</th>\n",
       "      <td>2019-08-01</td>\n",
       "      <td>../data/quarterly/2-5-8-11/2019-08-01.csv</td>\n",
       "    </tr>\n",
       "    <tr>\n",
       "      <th>71</th>\n",
       "      <td>2019-11-01</td>\n",
       "      <td>../data/quarterly/2-5-8-11/2019-11-01.csv</td>\n",
       "    </tr>\n",
       "  </tbody>\n",
       "</table>\n",
       "<p>72 rows × 2 columns</p>\n",
       "</div>"
      ],
      "text/plain": [
       "          date                                   filepath\n",
       "0   2002-02-01  ../data/quarterly/2-5-8-11/2002-02-01.csv\n",
       "1   2002-05-01  ../data/quarterly/2-5-8-11/2002-05-01.csv\n",
       "2   2002-08-01  ../data/quarterly/2-5-8-11/2002-08-01.csv\n",
       "3   2002-11-01  ../data/quarterly/2-5-8-11/2002-11-01.csv\n",
       "4   2003-02-03  ../data/quarterly/2-5-8-11/2003-02-03.csv\n",
       "..         ...                                        ...\n",
       "67  2018-11-01  ../data/quarterly/2-5-8-11/2018-11-01.csv\n",
       "68  2019-02-01  ../data/quarterly/2-5-8-11/2019-02-01.csv\n",
       "69  2019-05-01  ../data/quarterly/2-5-8-11/2019-05-01.csv\n",
       "70  2019-08-01  ../data/quarterly/2-5-8-11/2019-08-01.csv\n",
       "71  2019-11-01  ../data/quarterly/2-5-8-11/2019-11-01.csv\n",
       "\n",
       "[72 rows x 2 columns]"
      ]
     },
     "execution_count": 38,
     "metadata": {},
     "output_type": "execute_result"
    }
   ],
   "source": [
    "df_account"
   ]
  },
  {
   "cell_type": "code",
   "execution_count": 39,
   "id": "adequate-dispute",
   "metadata": {},
   "outputs": [],
   "source": [
    "df_account['total_equity'] = 0.0\n",
    "df_account['total_price'] = 0.0"
   ]
  },
  {
   "cell_type": "code",
   "execution_count": 40,
   "id": "matched-pantyhose",
   "metadata": {},
   "outputs": [],
   "source": [
    "# day별로 모든 회사들의 자기자본의 합, 시총 합을 구한다. "
   ]
  },
  {
   "cell_type": "code",
   "execution_count": 41,
   "id": "popular-chinese",
   "metadata": {},
   "outputs": [
    {
     "name": "stdout",
     "output_type": "stream",
     "text": [
      "../data/quarterly/2-5-8-11/2002-02-01.csv 246834089999982.0 230304515789550.0\n",
      "../data/quarterly/2-5-8-11/2002-05-01.csv 267063389999986.0 270835012760810.0\n",
      "../data/quarterly/2-5-8-11/2002-08-01.csv 267063389999986.0 230370944405980.0\n",
      "../data/quarterly/2-5-8-11/2002-11-01.csv 267063389999986.0 218199731082460.0\n",
      "../data/quarterly/2-5-8-11/2003-02-03.csv 267063389999986.0 200779795885180.0\n",
      "../data/quarterly/2-5-8-11/2003-05-01.csv 286636099999978.0 216355565279370.0\n",
      "../data/quarterly/2-5-8-11/2003-08-01.csv 286636099999978.0 264173050129065.0\n",
      "../data/quarterly/2-5-8-11/2003-11-03.csv 286636099999978.0 287665690860020.0\n",
      "../data/quarterly/2-5-8-11/2004-02-02.csv 286636099999978.0 320614543559795.0\n",
      "../data/quarterly/2-5-8-11/2004-05-03.csv 334834529999975.0 326706078058285.0\n",
      "../data/quarterly/2-5-8-11/2004-08-02.csv 334834529999975.0 277270249130105.0\n",
      "../data/quarterly/2-5-8-11/2004-11-01.csv 334834529999975.0 321068542087765.0\n",
      "../data/quarterly/2-5-8-11/2005-02-01.csv 334834529999975.0 368212460330015.0\n",
      "../data/quarterly/2-5-8-11/2005-05-02.csv 389143069999970.0 369482428454750.0\n",
      "../data/quarterly/2-5-8-11/2005-08-01.csv 389143069999970.0 447530548369855.0\n",
      "../data/quarterly/2-5-8-11/2005-11-01.csv 389143069999970.0 470364438240410.0\n",
      "../data/quarterly/2-5-8-11/2006-02-01.csv 389143069999970.0 547911574109545.0\n",
      "../data/quarterly/2-5-8-11/2006-05-01.csv 447210679999974.0 573944884234745.0\n",
      "../data/quarterly/2-5-8-11/2006-08-01.csv 447210679999974.0 514058738546555.0\n",
      "../data/quarterly/2-5-8-11/2006-11-01.csv 447210679999974.0 558419988182880.0\n",
      "../data/quarterly/2-5-8-11/2007-02-01.csv 447210679999974.0 557597777499785.0\n",
      "../data/quarterly/2-5-8-11/2007-05-01.csv 497591689999963.0 639927478429135.0\n",
      "../data/quarterly/2-5-8-11/2007-08-01.csv 497591689999963.0 776562186418860.0\n",
      "../data/quarterly/2-5-8-11/2007-11-01.csv 497591689999963.0 880336268297855.0\n",
      "../data/quarterly/2-5-8-11/2008-02-01.csv 497591689999963.0 701656219449440.0\n",
      "../data/quarterly/2-5-8-11/2008-05-01.csv 574663579999968.0 806333022685715.0\n",
      "../data/quarterly/2-5-8-11/2008-08-01.csv 574663579999968.0 703178352010245.0\n",
      "../data/quarterly/2-5-8-11/2008-11-03.csv 574663579999968.0 507981489957575.0\n",
      "../data/quarterly/2-5-8-11/2009-02-02.csv 574663579999968.0 522462805885860.0\n",
      "../data/quarterly/2-5-8-11/2009-05-01.csv 663173249999955.0 637746814584580.0\n",
      "../data/quarterly/2-5-8-11/2009-08-03.csv 663173249999955.0 716809069526940.0\n",
      "../data/quarterly/2-5-8-11/2009-11-02.csv 663173249999955.0 717583502227335.0\n",
      "../data/quarterly/2-5-8-11/2010-02-01.csv 663173249999955.0 765401719366050.0\n",
      "../data/quarterly/2-5-8-11/2010-05-03.csv 741713309999940.0 826561818632885.0\n",
      "../data/quarterly/2-5-8-11/2010-08-02.csv 741713309999940.0 867847911226915.0\n",
      "../data/quarterly/2-5-8-11/2010-11-01.csv 741713309999940.0 959108752632133.0\n",
      "../data/quarterly/2-5-8-11/2011-02-01.csv 741713309999940.0 1037047893475553.0\n",
      "../data/quarterly/2-5-8-11/2011-05-02.csv 844815269999944.0 1138006119513460.0\n",
      "../data/quarterly/2-5-8-11/2011-08-01.csv 844815269999944.0 1122692163432319.0\n",
      "../data/quarterly/2-5-8-11/2011-11-01.csv 844815269999944.0 999062037876520.0\n",
      "../data/quarterly/2-5-8-11/2012-02-01.csv 844815269999944.0 1040166295203792.0\n",
      "../data/quarterly/2-5-8-11/2012-05-01.csv 891342459999916.0 1063648520247607.0\n",
      "../data/quarterly/2-5-8-11/2012-08-01.csv 891342459999916.0 1017383301551370.0\n",
      "../data/quarterly/2-5-8-11/2012-11-01.csv 891342459999916.0 1033224454890712.0\n",
      "../data/quarterly/2-5-8-11/2013-02-01.csv 891342459999916.0 1057361606243780.0\n",
      "../data/quarterly/2-5-8-11/2013-05-01.csv 963083199999913.0 1083413441564687.0\n",
      "../data/quarterly/2-5-8-11/2013-08-01.csv 963083199999913.0 1061037229776740.0\n",
      "../data/quarterly/2-5-8-11/2013-11-01.csv 963083199999913.0 1126617347436136.0\n",
      "../data/quarterly/2-5-8-11/2014-02-03.csv 963083199999913.0 1065879409506276.0\n",
      "../data/quarterly/2-5-8-11/2014-05-01.csv 1052238783987901.0 1110685571233659.0\n",
      "../data/quarterly/2-5-8-11/2014-08-01.csv 1052238783987901.0 1157212615756859.0\n",
      "../data/quarterly/2-5-8-11/2014-11-03.csv 1052238783987901.0 1099241702175284.0\n",
      "../data/quarterly/2-5-8-11/2015-02-02.csv 1052238783987901.0 1171882718828531.0\n",
      "../data/quarterly/2-5-8-11/2015-05-01.csv 1132725680185782.0 1259640261282151.0\n",
      "../data/quarterly/2-5-8-11/2015-08-03.csv 1132725680185782.0 1251797187825577.0\n",
      "../data/quarterly/2-5-8-11/2015-11-02.csv 1132725680185782.0 1266690439315643.0\n",
      "../data/quarterly/2-5-8-11/2016-02-01.csv 1132725680185782.0 1225730574779967.0\n",
      "../data/quarterly/2-5-8-11/2016-05-02.csv 1256326686918477.0 1265760433668583.0\n",
      "../data/quarterly/2-5-8-11/2016-08-01.csv 1256326686918477.0 1309054748272378.0\n",
      "../data/quarterly/2-5-8-11/2016-11-01.csv 1256326686918477.0 1269346532688620.0\n",
      "../data/quarterly/2-5-8-11/2017-02-01.csv 1256326686918477.0 1330128047528974.0\n",
      "../data/quarterly/2-5-8-11/2017-05-01.csv 1299324566944178.0 1389125184948204.0\n",
      "../data/quarterly/2-5-8-11/2017-08-01.csv 1299324566944178.0 1512437135080160.0\n",
      "../data/quarterly/2-5-8-11/2017-11-01.csv 1299324566944178.0 1627974398822746.0\n",
      "../data/quarterly/2-5-8-11/2018-02-01.csv 1299324566944178.0 1701342314383682.0\n",
      "../data/quarterly/2-5-8-11/2018-05-01.csv 1422977643270878.0 1712617220655575.0\n",
      "../data/quarterly/2-5-8-11/2018-08-01.csv 1422977643270878.0 1573006779885996.0\n",
      "../data/quarterly/2-5-8-11/2018-11-01.csv 1422977643270878.0 1367847075781252.0\n",
      "../data/quarterly/2-5-8-11/2019-02-01.csv 1422977643270878.0 1481350075807929.0\n",
      "../data/quarterly/2-5-8-11/2019-05-01.csv 1527723642700600.0 1505816602294117.0\n",
      "../data/quarterly/2-5-8-11/2019-08-01.csv 1527723642700600.0 1358508301290687.0\n",
      "../data/quarterly/2-5-8-11/2019-11-01.csv 1527723642700600.0 1442619390258394.0\n"
     ]
    }
   ],
   "source": [
    "for i in range(len(filepaths)):\n",
    "    df_day = pd.read_csv(filepaths[i], dtype={\"기업코드\":\"string\", \"종목코드\":\"string\"})\n",
    "    total_equity = df_day['자본총계'].sum()\n",
    "    total_price = df_day['시가총액'].sum()    \n",
    "    \n",
    "    df_account.at[i, 'total_equity'] = total_equity\n",
    "    df_account.at[i, 'total_price'] = total_price\n",
    "    \n",
    "    print (filepaths[i], total_equity, total_price)"
   ]
  },
  {
   "cell_type": "code",
   "execution_count": 42,
   "id": "temporal-quantity",
   "metadata": {},
   "outputs": [
    {
     "data": {
      "text/html": [
       "<div>\n",
       "<style scoped>\n",
       "    .dataframe tbody tr th:only-of-type {\n",
       "        vertical-align: middle;\n",
       "    }\n",
       "\n",
       "    .dataframe tbody tr th {\n",
       "        vertical-align: top;\n",
       "    }\n",
       "\n",
       "    .dataframe thead th {\n",
       "        text-align: right;\n",
       "    }\n",
       "</style>\n",
       "<table border=\"1\" class=\"dataframe\">\n",
       "  <thead>\n",
       "    <tr style=\"text-align: right;\">\n",
       "      <th></th>\n",
       "      <th>date</th>\n",
       "      <th>filepath</th>\n",
       "      <th>total_equity</th>\n",
       "      <th>total_price</th>\n",
       "    </tr>\n",
       "  </thead>\n",
       "  <tbody>\n",
       "    <tr>\n",
       "      <th>0</th>\n",
       "      <td>2002-02-01</td>\n",
       "      <td>../data/quarterly/2-5-8-11/2002-02-01.csv</td>\n",
       "      <td>2.468341e+14</td>\n",
       "      <td>2.303045e+14</td>\n",
       "    </tr>\n",
       "    <tr>\n",
       "      <th>1</th>\n",
       "      <td>2002-05-01</td>\n",
       "      <td>../data/quarterly/2-5-8-11/2002-05-01.csv</td>\n",
       "      <td>2.670634e+14</td>\n",
       "      <td>2.708350e+14</td>\n",
       "    </tr>\n",
       "    <tr>\n",
       "      <th>2</th>\n",
       "      <td>2002-08-01</td>\n",
       "      <td>../data/quarterly/2-5-8-11/2002-08-01.csv</td>\n",
       "      <td>2.670634e+14</td>\n",
       "      <td>2.303709e+14</td>\n",
       "    </tr>\n",
       "    <tr>\n",
       "      <th>3</th>\n",
       "      <td>2002-11-01</td>\n",
       "      <td>../data/quarterly/2-5-8-11/2002-11-01.csv</td>\n",
       "      <td>2.670634e+14</td>\n",
       "      <td>2.181997e+14</td>\n",
       "    </tr>\n",
       "    <tr>\n",
       "      <th>4</th>\n",
       "      <td>2003-02-03</td>\n",
       "      <td>../data/quarterly/2-5-8-11/2003-02-03.csv</td>\n",
       "      <td>2.670634e+14</td>\n",
       "      <td>2.007798e+14</td>\n",
       "    </tr>\n",
       "    <tr>\n",
       "      <th>...</th>\n",
       "      <td>...</td>\n",
       "      <td>...</td>\n",
       "      <td>...</td>\n",
       "      <td>...</td>\n",
       "    </tr>\n",
       "    <tr>\n",
       "      <th>67</th>\n",
       "      <td>2018-11-01</td>\n",
       "      <td>../data/quarterly/2-5-8-11/2018-11-01.csv</td>\n",
       "      <td>1.422978e+15</td>\n",
       "      <td>1.367847e+15</td>\n",
       "    </tr>\n",
       "    <tr>\n",
       "      <th>68</th>\n",
       "      <td>2019-02-01</td>\n",
       "      <td>../data/quarterly/2-5-8-11/2019-02-01.csv</td>\n",
       "      <td>1.422978e+15</td>\n",
       "      <td>1.481350e+15</td>\n",
       "    </tr>\n",
       "    <tr>\n",
       "      <th>69</th>\n",
       "      <td>2019-05-01</td>\n",
       "      <td>../data/quarterly/2-5-8-11/2019-05-01.csv</td>\n",
       "      <td>1.527724e+15</td>\n",
       "      <td>1.505817e+15</td>\n",
       "    </tr>\n",
       "    <tr>\n",
       "      <th>70</th>\n",
       "      <td>2019-08-01</td>\n",
       "      <td>../data/quarterly/2-5-8-11/2019-08-01.csv</td>\n",
       "      <td>1.527724e+15</td>\n",
       "      <td>1.358508e+15</td>\n",
       "    </tr>\n",
       "    <tr>\n",
       "      <th>71</th>\n",
       "      <td>2019-11-01</td>\n",
       "      <td>../data/quarterly/2-5-8-11/2019-11-01.csv</td>\n",
       "      <td>1.527724e+15</td>\n",
       "      <td>1.442619e+15</td>\n",
       "    </tr>\n",
       "  </tbody>\n",
       "</table>\n",
       "<p>72 rows × 4 columns</p>\n",
       "</div>"
      ],
      "text/plain": [
       "          date                                   filepath  total_equity  \\\n",
       "0   2002-02-01  ../data/quarterly/2-5-8-11/2002-02-01.csv  2.468341e+14   \n",
       "1   2002-05-01  ../data/quarterly/2-5-8-11/2002-05-01.csv  2.670634e+14   \n",
       "2   2002-08-01  ../data/quarterly/2-5-8-11/2002-08-01.csv  2.670634e+14   \n",
       "3   2002-11-01  ../data/quarterly/2-5-8-11/2002-11-01.csv  2.670634e+14   \n",
       "4   2003-02-03  ../data/quarterly/2-5-8-11/2003-02-03.csv  2.670634e+14   \n",
       "..         ...                                        ...           ...   \n",
       "67  2018-11-01  ../data/quarterly/2-5-8-11/2018-11-01.csv  1.422978e+15   \n",
       "68  2019-02-01  ../data/quarterly/2-5-8-11/2019-02-01.csv  1.422978e+15   \n",
       "69  2019-05-01  ../data/quarterly/2-5-8-11/2019-05-01.csv  1.527724e+15   \n",
       "70  2019-08-01  ../data/quarterly/2-5-8-11/2019-08-01.csv  1.527724e+15   \n",
       "71  2019-11-01  ../data/quarterly/2-5-8-11/2019-11-01.csv  1.527724e+15   \n",
       "\n",
       "     total_price  \n",
       "0   2.303045e+14  \n",
       "1   2.708350e+14  \n",
       "2   2.303709e+14  \n",
       "3   2.181997e+14  \n",
       "4   2.007798e+14  \n",
       "..           ...  \n",
       "67  1.367847e+15  \n",
       "68  1.481350e+15  \n",
       "69  1.505817e+15  \n",
       "70  1.358508e+15  \n",
       "71  1.442619e+15  \n",
       "\n",
       "[72 rows x 4 columns]"
      ]
     },
     "execution_count": 42,
     "metadata": {},
     "output_type": "execute_result"
    }
   ],
   "source": [
    "df_account"
   ]
  },
  {
   "cell_type": "code",
   "execution_count": 64,
   "id": "temporal-acting",
   "metadata": {},
   "outputs": [
    {
     "data": {
      "image/png": "[encoded data removed]",
      "text/plain": [
       "<Figure size 432x288 with 1 Axes>"
      ]
     },
     "metadata": {
      "needs_background": "light"
     },
     "output_type": "display_data"
    }
   ],
   "source": [
    "fig, ax = plt.subplots()\n",
    "ax.xaxis.set_major_locator(matplotlib.dates.YearLocator())\n",
    "ax.xaxis.set_major_formatter(matplotlib.dates.DateFormatter('%Y'))\n",
    "\n",
    "dates = [matplotlib.dates.date2num(datetime.datetime.strptime(d, '%Y-%m-%d')) for d in df_account['date'].tolist()]\n",
    "ax.plot(dates, df_account['total_equity'], marker='', linestyle='-')\n",
    "ax.plot(dates, df_account['total_price'], marker='', linestyle='-')\n",
    "fig.autofmt_xdate()\n",
    "plt.show()"
   ]
  },
  {
   "cell_type": "code",
   "execution_count": 46,
   "id": "static-wright",
   "metadata": {},
   "outputs": [],
   "source": [
    "num_years = len(df_account) / 4"
   ]
  },
  {
   "cell_type": "code",
   "execution_count": 51,
   "id": "after-rocket",
   "metadata": {},
   "outputs": [],
   "source": [
    "equity_growth = (df_account.iloc[len(df_account) - 1]['total_equity'] / df_account.iloc[0]['total_equity'] - 1.0)"
   ]
  },
  {
   "cell_type": "code",
   "execution_count": 53,
   "id": "rental-inquiry",
   "metadata": {},
   "outputs": [],
   "source": [
    "equity_cagr = pow(equity_growth, 1/num_years)"
   ]
  },
  {
   "cell_type": "code",
   "execution_count": 54,
   "id": "attached-navigation",
   "metadata": {},
   "outputs": [
    {
     "data": {
      "text/plain": [
       "1.0957920400071623"
      ]
     },
     "execution_count": 54,
     "metadata": {},
     "output_type": "execute_result"
    }
   ],
   "source": [
    "equity_cagr"
   ]
  },
  {
   "cell_type": "code",
   "execution_count": 55,
   "id": "flying-rochester",
   "metadata": {},
   "outputs": [],
   "source": [
    "price_growth = (df_account.iloc[len(df_account) - 1]['total_price'] / df_account.iloc[0]['total_price'] - 1.0)"
   ]
  },
  {
   "cell_type": "code",
   "execution_count": 56,
   "id": "spoken-suicide",
   "metadata": {},
   "outputs": [],
   "source": [
    "price_cagr = pow(price_growth, 1/num_years)"
   ]
  },
  {
   "cell_type": "code",
   "execution_count": 57,
   "id": "desperate-tanzania",
   "metadata": {},
   "outputs": [
    {
     "data": {
      "text/plain": [
       "1.0966623741641335"
      ]
     },
     "execution_count": 57,
     "metadata": {},
     "output_type": "execute_result"
    }
   ],
   "source": [
    "price_cagr"
   ]
  },
  {
   "cell_type": "code",
   "execution_count": null,
   "id": "alleged-therapist",
   "metadata": {},
   "outputs": [],
   "source": []
  }
 ],
 "metadata": {
  "kernelspec": {
   "display_name": "Python 3",
   "language": "python",
   "name": "python3"
  },
  "language_info": {
   "codemirror_mode": {
    "name": "ipython",
    "version": 3
   },
   "file_extension": ".py",
   "mimetype": "text/x-python",
   "name": "python",
   "nbconvert_exporter": "python",
   "pygments_lexer": "ipython3",
   "version": "3.7.3"
  }
 },
 "nbformat": 4,
 "nbformat_minor": 5
}
