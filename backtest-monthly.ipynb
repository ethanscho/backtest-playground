{
 "cells": [
  {
   "cell_type": "code",
   "execution_count": 34,
   "metadata": {},
   "outputs": [],
   "source": [
    "import os\n",
    "import glob\n",
    "import datetime\n",
    "import statistics\n",
    "import numpy as np\n",
    "import pandas as pd\n",
    "import import_ipynb\n",
    "from marcap import marcap_data\n",
    "import FinanceDataReader as fdr\n",
    "import matplotlib.pyplot as plt\n",
    "from prettytable import PrettyTable"
   ]
  },
  {
   "cell_type": "code",
   "execution_count": 35,
   "metadata": {},
   "outputs": [
    {
     "name": "stdout",
     "output_type": "stream",
     "text": [
      "importing Jupyter notebook from qp.ipynb\n"
     ]
    }
   ],
   "source": [
    "from qp import get_stocks # 1/PBR + GP/A\n",
    "#from ncav import get_stocks # NCAV\n",
    "#from super_value import get_stocks # PBR + PCR + PER + PSR\n",
    "#from super_quality import get_stocks"
   ]
  },
  {
   "cell_type": "code",
   "execution_count": 36,
   "metadata": {},
   "outputs": [],
   "source": [
    "MODEL_NAME = 'qp'\n",
    "DATA_DIR = 'data/daily/8-1'"
   ]
  },
  {
   "cell_type": "code",
   "execution_count": 37,
   "metadata": {},
   "outputs": [],
   "source": [
    "df_account = pd.DataFrame(columns=['start_date', 'end_date', 'filepath'])\n",
    "filepaths = glob.glob(DATA_DIR + \"/*.csv\")\n",
    "filepaths = sorted(filepaths)\n",
    "\n",
    "days = []\n",
    "for i in range(len(filepaths)):\n",
    "    if i < len(filepaths) - 1: # exclude last item\n",
    "        start_date =  os.path.basename(filepaths[i])[:-4]\n",
    "        end_date =  os.path.basename(filepaths[i + 1])[:-4]\n",
    "        \n",
    "        day = {'start_date':start_date, 'end_date':end_date, 'filepath':filepaths[i]}\n",
    "        days.append(day)\n",
    "\n",
    "df_account = df_account.append(days)"
   ]
  },
  {
   "cell_type": "code",
   "execution_count": 38,
   "metadata": {},
   "outputs": [
    {
     "data": {
      "text/html": [
       "<div>\n",
       "<style scoped>\n",
       "    .dataframe tbody tr th:only-of-type {\n",
       "        vertical-align: middle;\n",
       "    }\n",
       "\n",
       "    .dataframe tbody tr th {\n",
       "        vertical-align: top;\n",
       "    }\n",
       "\n",
       "    .dataframe thead th {\n",
       "        text-align: right;\n",
       "    }\n",
       "</style>\n",
       "<table border=\"1\" class=\"dataframe\">\n",
       "  <thead>\n",
       "    <tr style=\"text-align: right;\">\n",
       "      <th></th>\n",
       "      <th>start_date</th>\n",
       "      <th>end_date</th>\n",
       "      <th>filepath</th>\n",
       "    </tr>\n",
       "  </thead>\n",
       "  <tbody>\n",
       "    <tr>\n",
       "      <th>0</th>\n",
       "      <td>2002-08-01</td>\n",
       "      <td>2003-08-01</td>\n",
       "      <td>data/daily/8-1/2002-08-01.csv</td>\n",
       "    </tr>\n",
       "    <tr>\n",
       "      <th>1</th>\n",
       "      <td>2003-08-01</td>\n",
       "      <td>2004-08-02</td>\n",
       "      <td>data/daily/8-1/2003-08-01.csv</td>\n",
       "    </tr>\n",
       "    <tr>\n",
       "      <th>2</th>\n",
       "      <td>2004-08-02</td>\n",
       "      <td>2005-08-01</td>\n",
       "      <td>data/daily/8-1/2004-08-02.csv</td>\n",
       "    </tr>\n",
       "    <tr>\n",
       "      <th>3</th>\n",
       "      <td>2005-08-01</td>\n",
       "      <td>2006-08-01</td>\n",
       "      <td>data/daily/8-1/2005-08-01.csv</td>\n",
       "    </tr>\n",
       "    <tr>\n",
       "      <th>4</th>\n",
       "      <td>2006-08-01</td>\n",
       "      <td>2007-08-01</td>\n",
       "      <td>data/daily/8-1/2006-08-01.csv</td>\n",
       "    </tr>\n",
       "    <tr>\n",
       "      <th>5</th>\n",
       "      <td>2007-08-01</td>\n",
       "      <td>2008-08-01</td>\n",
       "      <td>data/daily/8-1/2007-08-01.csv</td>\n",
       "    </tr>\n",
       "    <tr>\n",
       "      <th>6</th>\n",
       "      <td>2008-08-01</td>\n",
       "      <td>2009-08-03</td>\n",
       "      <td>data/daily/8-1/2008-08-01.csv</td>\n",
       "    </tr>\n",
       "    <tr>\n",
       "      <th>7</th>\n",
       "      <td>2009-08-03</td>\n",
       "      <td>2010-08-02</td>\n",
       "      <td>data/daily/8-1/2009-08-03.csv</td>\n",
       "    </tr>\n",
       "    <tr>\n",
       "      <th>8</th>\n",
       "      <td>2010-08-02</td>\n",
       "      <td>2011-08-01</td>\n",
       "      <td>data/daily/8-1/2010-08-02.csv</td>\n",
       "    </tr>\n",
       "    <tr>\n",
       "      <th>9</th>\n",
       "      <td>2011-08-01</td>\n",
       "      <td>2012-08-01</td>\n",
       "      <td>data/daily/8-1/2011-08-01.csv</td>\n",
       "    </tr>\n",
       "    <tr>\n",
       "      <th>10</th>\n",
       "      <td>2012-08-01</td>\n",
       "      <td>2013-08-01</td>\n",
       "      <td>data/daily/8-1/2012-08-01.csv</td>\n",
       "    </tr>\n",
       "    <tr>\n",
       "      <th>11</th>\n",
       "      <td>2013-08-01</td>\n",
       "      <td>2014-08-01</td>\n",
       "      <td>data/daily/8-1/2013-08-01.csv</td>\n",
       "    </tr>\n",
       "    <tr>\n",
       "      <th>12</th>\n",
       "      <td>2014-08-01</td>\n",
       "      <td>2015-08-03</td>\n",
       "      <td>data/daily/8-1/2014-08-01.csv</td>\n",
       "    </tr>\n",
       "    <tr>\n",
       "      <th>13</th>\n",
       "      <td>2015-08-03</td>\n",
       "      <td>2016-08-01</td>\n",
       "      <td>data/daily/8-1/2015-08-03.csv</td>\n",
       "    </tr>\n",
       "    <tr>\n",
       "      <th>14</th>\n",
       "      <td>2016-08-01</td>\n",
       "      <td>2017-08-01</td>\n",
       "      <td>data/daily/8-1/2016-08-01.csv</td>\n",
       "    </tr>\n",
       "    <tr>\n",
       "      <th>15</th>\n",
       "      <td>2017-08-01</td>\n",
       "      <td>2018-08-01</td>\n",
       "      <td>data/daily/8-1/2017-08-01.csv</td>\n",
       "    </tr>\n",
       "    <tr>\n",
       "      <th>16</th>\n",
       "      <td>2018-08-01</td>\n",
       "      <td>2019-08-01</td>\n",
       "      <td>data/daily/8-1/2018-08-01.csv</td>\n",
       "    </tr>\n",
       "  </tbody>\n",
       "</table>\n",
       "</div>"
      ],
      "text/plain": [
       "    start_date    end_date                       filepath\n",
       "0   2002-08-01  2003-08-01  data/daily/8-1/2002-08-01.csv\n",
       "1   2003-08-01  2004-08-02  data/daily/8-1/2003-08-01.csv\n",
       "2   2004-08-02  2005-08-01  data/daily/8-1/2004-08-02.csv\n",
       "3   2005-08-01  2006-08-01  data/daily/8-1/2005-08-01.csv\n",
       "4   2006-08-01  2007-08-01  data/daily/8-1/2006-08-01.csv\n",
       "5   2007-08-01  2008-08-01  data/daily/8-1/2007-08-01.csv\n",
       "6   2008-08-01  2009-08-03  data/daily/8-1/2008-08-01.csv\n",
       "7   2009-08-03  2010-08-02  data/daily/8-1/2009-08-03.csv\n",
       "8   2010-08-02  2011-08-01  data/daily/8-1/2010-08-02.csv\n",
       "9   2011-08-01  2012-08-01  data/daily/8-1/2011-08-01.csv\n",
       "10  2012-08-01  2013-08-01  data/daily/8-1/2012-08-01.csv\n",
       "11  2013-08-01  2014-08-01  data/daily/8-1/2013-08-01.csv\n",
       "12  2014-08-01  2015-08-03  data/daily/8-1/2014-08-01.csv\n",
       "13  2015-08-03  2016-08-01  data/daily/8-1/2015-08-03.csv\n",
       "14  2016-08-01  2017-08-01  data/daily/8-1/2016-08-01.csv\n",
       "15  2017-08-01  2018-08-01  data/daily/8-1/2017-08-01.csv\n",
       "16  2018-08-01  2019-08-01  data/daily/8-1/2018-08-01.csv"
      ]
     },
     "execution_count": 38,
     "metadata": {},
     "output_type": "execute_result"
    }
   ],
   "source": [
    "df_account"
   ]
  },
  {
   "cell_type": "code",
   "execution_count": 39,
   "metadata": {},
   "outputs": [
    {
     "name": "stdout",
     "output_type": "stream",
     "text": [
      "2002-08-01 선정 기업 수 30\n",
      "2003-08-01 선정 기업 수 30\n",
      "2004-08-02 선정 기업 수 30\n",
      "2005-08-01 선정 기업 수 30\n",
      "2006-08-01 선정 기업 수 30\n",
      "2007-08-01 선정 기업 수 30\n",
      "2008-08-01 선정 기업 수 30\n",
      "2009-08-03 선정 기업 수 30\n",
      "2010-08-02 선정 기업 수 30\n",
      "2011-08-01 선정 기업 수 30\n",
      "2012-08-01 선정 기업 수 30\n",
      "2013-08-01 선정 기업 수 30\n",
      "2014-08-01 선정 기업 수 30\n",
      "2015-08-03 선정 기업 수 30\n",
      "2016-08-01 선정 기업 수 30\n",
      "2017-08-01 선정 기업 수 30\n",
      "2018-08-01 선정 기업 수 30\n"
     ]
    }
   ],
   "source": [
    "# 연도별 종목을 구한다.\n",
    "df_account['stocks'] = df_account.apply(lambda x: get_stocks(x.filepath, x.start_date, False), axis=1)"
   ]
  },
  {
   "cell_type": "code",
   "execution_count": 7,
   "metadata": {},
   "outputs": [],
   "source": [
    "# 백테스트 기간의 가격 정보를 가져온다.\n",
    "df_price = marcap_data(df_account.iloc[0].start_date, df_account.iloc[len(df_account) - 1].end_date)"
   ]
  },
  {
   "cell_type": "code",
   "execution_count": 40,
   "metadata": {},
   "outputs": [
    {
     "name": "stdout",
     "output_type": "stream",
     "text": [
      "2002-08-01 2003-08-01 0.8879762365508266\n",
      "2003-08-01 2004-08-02 1.2174977270235061\n",
      "2004-08-02 2005-08-01 2.2936425743972455\n",
      "2005-08-01 2006-08-01 1.268105499408986\n",
      "2006-08-01 2007-08-01 2.2381879759659493\n",
      "2007-08-01 2008-08-01 0.8907481533895385\n",
      "2008-08-01 2009-08-03 1.2321784138142307\n",
      "2009-08-03 2010-08-02 1.3592951695503814\n",
      "2010-08-02 2011-08-01 2.1934933207348766\n",
      "2011-08-01 2012-08-01 1.6594789671644778\n",
      "2012-08-01 2013-08-01 1.2730345221892523\n",
      "2013-08-01 2014-08-01 1.2297753151869577\n",
      "2014-08-01 2015-08-03 1.7807990654855028\n",
      "2015-08-03 2016-08-01 1.4684543344344183\n",
      "2016-08-01 2017-08-01 0.9461272689804289\n",
      "2017-08-01 2018-08-01 1.5619789451690653\n",
      "2018-08-01 2019-08-01 1.1979500657147306\n"
     ]
    }
   ],
   "source": [
    "# 연도별 / 월별 수익률을 구한다.\n",
    "df_account['monthly_yield'] = 0.0\n",
    "df_account['monthly_yield'] = df_account['monthly_yield'].astype('object')\n",
    "df_account['yearly_yield'] = 0.0\n",
    "\n",
    "for i in range(len(filepaths)):\n",
    "    if i < len(filepaths) - 1: # exclude last item\n",
    "        start_date = df_account.iloc[i].start_date\n",
    "        end_date = df_account.iloc[i].end_date\n",
    "\n",
    "        # 한 해의 가격 정보\n",
    "        df_yearly_price = df_price[(df_price.index >= start_date) & (df_price.index <= end_date)]\n",
    "        stocks = df_account.iloc[i].stocks\n",
    "\n",
    "        # 종목별 월별 수익률 저장\n",
    "        df_monthly_yield = pd.DataFrame()\n",
    "\n",
    "        # 종목별 연간 수익률 저장\n",
    "        #yearly_stock_yields = []\n",
    "        \n",
    "        # 종목별 수익률 구하기\n",
    "        for stock in stocks:\n",
    "            df_yearly_stock_price = df_yearly_price[df_yearly_price.Code == stock].reset_index()\n",
    "            if len(df_yearly_stock_price) == 0:\n",
    "                df_yield[stock] = [0] * 12\n",
    "                yearly_stock_yields.append(0)\n",
    "                continue\n",
    "\n",
    "            # 월별로 groupby\n",
    "            df_yearly_stock_price['year_month'] = df_yearly_stock_price.apply(lambda x: str(x.Date)[:7], axis=1)\n",
    "            df_yearly_stock_price = df_yearly_stock_price[:-1]\n",
    "            df_monthly_stock_yield = df_yearly_stock_price.groupby(\"year_month\").agg({'Open': 'first', 'Close': 'last'}).reset_index()\n",
    "\n",
    "            # 월별 수익률\n",
    "            df_monthly_stock_yield['yield'] = 1.0\n",
    "            for m, row in enumerate(df_monthly_stock_yield.iterrows()):\n",
    "                if m == len(df_monthly_stock_yield) - 1:\n",
    "                    df_monthly_stock_yield.at[row[0], 'yield'] = row[1]['Close'] / row[1]['Open']\n",
    "                else:\n",
    "                    df_monthly_stock_yield.at[row[0], 'yield'] = df_monthly_stock_yield.iloc[m + 1]['Open'] / row[1]['Open']\n",
    "            \n",
    "            monthly_yield = df_monthly_stock_yield['yield'].cumprod().tolist()\n",
    "\n",
    "            if len(monthly_yield) < 12: # 가격 정보가 1년 내내 없는 경우. 상폐로 가정\n",
    "                monthly_yield.extend([0] * (12 - len(monthly_yield)))\n",
    "                #yearly_stock_yields.append(0)\n",
    "            #else:\n",
    "            #yearly_stock_yields.append(df_monthly_stock_yield.iloc[len(df_monthly_stock_yield)-1]['Close'] / df_monthly_stock_yield.iloc[0]['Open'])\n",
    "\n",
    "            df_monthly_yield[stock] = monthly_yield\n",
    "            \n",
    "        df_monthly_yield['total'] = df_monthly_yield.mean(axis=1) \n",
    "        df_monthly_yield['prev_total'] = df_monthly_yield['total'].shift(1)\n",
    "        df_monthly_yield['prev_total'] = df_monthly_yield['prev_total'].fillna(1.0)\n",
    "        df_monthly_yield['monthly_yield'] = df_monthly_yield['total'] / df_monthly_yield['prev_total'] - 1.0\n",
    "        \n",
    "        # 월별 수익률\n",
    "        df_account.at[i, 'monthly_yield'] = df_monthly_yield['monthly_yield'].tolist()\n",
    "        # 연도별 수익률\n",
    "        yearly_yield = df_monthly_yield.iloc[len(df_monthly_yield) - 1]['total']\n",
    "        df_account.at[i, 'yearly_yield'] = yearly_yield\n",
    "\n",
    "        print(start_date, end_date, yearly_yield)"
   ]
  },
  {
   "cell_type": "code",
   "execution_count": 42,
   "metadata": {},
   "outputs": [],
   "source": [
    "# CAGR, 자산변화 구하기\n",
    "df_account['cum_yield'] = df_account['yearly_yield'].cumprod()\n",
    "\n",
    "df_account['cagr'] = 0.0\n",
    "for i, row in enumerate(df_account.iterrows()):\n",
    "    df_account.at[i, 'cagr'] = pow(row[1]['cum_yield'], 1/(i+1))\n",
    "cagr = df_account.iloc[len(df_account) - 1]['cagr']\n",
    "\n",
    "monthly_yields = []\n",
    "for i in range(len(df_account)):\n",
    "    monthly_yields.extend(df_account.iloc[i]['monthly_yield'])\n",
    "cum_monthly_yield = np.cumprod(np.array(monthly_yields) + 1)\n",
    "\n",
    "cagr_history = []\n",
    "for i, val in enumerate(cum_monthly_yield.tolist()):\n",
    "    year = (i + 1) / 12\n",
    "    cagr_history.append(pow(val, 1 / year))\n",
    "\n",
    "# 수익률 표준편차 구하기\n",
    "filetered_monthly_yield = monthly_yields.copy()\n",
    "\n",
    "# outlier 제거\n",
    "filetered_monthly_yield.remove(max(filetered_monthly_yield))\n",
    "filetered_monthly_yield.remove(min(filetered_monthly_yield))\n",
    "\n",
    "std_monthly_yield =  statistics.stdev(filetered_monthly_yield)"
   ]
  },
  {
   "cell_type": "code",
   "execution_count": 43,
   "metadata": {},
   "outputs": [],
   "source": [
    "# MDD, MDD duration 구하기\n",
    "max_yield = -100.0\n",
    "min_yield = 0.0\n",
    "mdd = 0.0\n",
    "mdd_duration = 0 \n",
    "\n",
    "for val in cum_monthly_yield:\n",
    "    if val > max_yield:\n",
    "        max_yield = val\n",
    "        min_yield = val\n",
    "        mdd_duration = 0\n",
    "        continue\n",
    "    \n",
    "    if val < min_yield:\n",
    "        min_yield = val\n",
    "        mdd = (1.0 - min_yield / max_yield) * 100.0\n",
    "        mdd_duration += 1"
   ]
  },
  {
   "cell_type": "code",
   "execution_count": 44,
   "metadata": {},
   "outputs": [
    {
     "data": {
      "image/png": "[encoded data removed]",
      "text/plain": [
       "<Figure size 432x288 with 1 Axes>"
      ]
     },
     "metadata": {
      "needs_background": "light"
     },
     "output_type": "display_data"
    }
   ],
   "source": [
    "fig, ax = plt.subplots()\n",
    "ax.plot(np.arange(len(cum_monthly_yield)), cum_monthly_yield)\n",
    "plt.title('Cumulative asset changes')\n",
    "plt.show()"
   ]
  },
  {
   "cell_type": "code",
   "execution_count": 45,
   "metadata": {},
   "outputs": [
    {
     "data": {
      "image/png": "[encoded data removed]",
      "text/plain": [
       "<Figure size 432x288 with 1 Axes>"
      ]
     },
     "metadata": {
      "needs_background": "light"
     },
     "output_type": "display_data"
    }
   ],
   "source": [
    "fig, ax = plt.subplots()\n",
    "ax.plot(np.arange(len(cagr_history)), cagr_history, marker='', linestyle='-')\n",
    "plt.title('Cumulative CAGR changes')\n",
    "plt.show()"
   ]
  },
  {
   "cell_type": "code",
   "execution_count": 46,
   "metadata": {},
   "outputs": [
    {
     "data": {
      "image/png": "[encoded data removed]",
      "text/plain": [
       "<Figure size 432x288 with 1 Axes>"
      ]
     },
     "metadata": {
      "needs_background": "light"
     },
     "output_type": "display_data"
    }
   ],
   "source": [
    "fig, ax = plt.subplots()\n",
    "plt.bar(np.arange(len(monthly_yields)), monthly_yields)\n",
    "plt.title(\"Monthly yields\")\n",
    "plt.show()"
   ]
  },
  {
   "cell_type": "code",
   "execution_count": 47,
   "metadata": {},
   "outputs": [
    {
     "name": "stdout",
     "output_type": "stream",
     "text": [
      "+-----------+--------+--------+--------------+--------+------+\n",
      "| Rebalance |  CAGR  |  MDD   | MDD duration |  STD   | Note |\n",
      "+-----------+--------+--------+--------------+--------+------+\n",
      "|    8-1    | 39.21% | 33.91% |      3       | 0.1072 |      |\n",
      "+-----------+--------+--------+--------------+--------+------+\n"
     ]
    }
   ],
   "source": [
    "t = PrettyTable(['Rebalance', 'CAGR', 'MDD', 'MDD duration', 'STD', 'Note'])\n",
    "t.add_row([os.path.basename(DATA_DIR),\n",
    "           \"%.2f%%\" % ((cagr - 1.0) * 100.0),\n",
    "           \"%.2f%%\" % (mdd),\n",
    "           mdd_duration,\n",
    "           \"%.4f\" % std_monthly_yield,\n",
    "           \"\"\n",
    "          ])\n",
    "print(t)"
   ]
  }
 ],
 "metadata": {
  "kernelspec": {
   "display_name": "Python 3",
   "language": "python",
   "name": "python3"
  },
  "language_info": {
   "codemirror_mode": {
    "name": "ipython",
    "version": 3
   },
   "file_extension": ".py",
   "mimetype": "text/x-python",
   "name": "python",
   "nbconvert_exporter": "python",
   "pygments_lexer": "ipython3",
   "version": "3.7.6"
  }
 },
 "nbformat": 4,
 "nbformat_minor": 4
}
