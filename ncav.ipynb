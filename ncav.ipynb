{
 "cells": [
  {
   "cell_type": "code",
   "execution_count": 5,
   "metadata": {},
   "outputs": [],
   "source": [
    "import pandas as pd\n",
    "import import_ipynb\n",
    "from common import *"
   ]
  },
  {
   "cell_type": "markdown",
   "metadata": {},
   "source": [
    "|최대 종목 수|NCAV|유동비율|기간|CAGR|IFRS|CFS|리밸런싱|\n",
    "|-----|-------|-|-------|-----|-----|----|---|\n",
    "| 30 | 1.0 |2.0| 2002 ~ 2019  | 1.197344 | 국제 | 연결 + 개별 |10/1|\n",
    "| 30 | 1.0 |2.0| 2002 ~ 2019  | 1.231293 | 국제 | 연결 + 개별 |8/1|"
   ]
  },
  {
   "cell_type": "code",
   "execution_count": 2,
   "metadata": {},
   "outputs": [],
   "source": [
    "NUM_STOCKS = 30\n",
    "NCAV = 1.0\n",
    "LIQUID = 2.0"
   ]
  },
  {
   "cell_type": "code",
   "execution_count": 3,
   "metadata": {},
   "outputs": [],
   "source": [
    "def get_stocks(filepath, date):\n",
    "    print(\"------------------------------\")\n",
    "    print(date, filepath)\n",
    "    df = pd.read_csv(filepath, dtype={\"기업코드\":\"string\", \"종목코드\":\"string\"})\n",
    "    \n",
    "    cols = ['종목코드', 'IFRS', 'CFS', '회사명', '시가총액', 'NCAV', '유동비율', '당기순이익', 'PER', 'PBR', 'GP/A']\n",
    "    \n",
    "    df_qp = df[cols]\n",
    "    df_qp = df_qp[df_qp['시가총액'] > 0] # 시가총액 data가 없는 row는 제거\n",
    "    df_qp = df_qp[df_qp['PBR'] > 0]\n",
    "    \n",
    "    # 지주사, 금융사 제외\n",
    "    df_qp = exclude_holdings_and_finances(df_qp, '회사명')\n",
    "    \n",
    "    # 국외주식 제외\n",
    "    df_qp = exclude_foreign_corps(df_qp, '종목코드')\n",
    "\n",
    "    # 청산비율 \n",
    "    df_qp = df_qp[df_qp['NCAV'] > NCAV]\n",
    "    df_qp = df_qp.sort_values(by=['NCAV'], ascending=False)\n",
    "\n",
    "    # 유동비율\n",
    "    df_qp = df_qp[df_qp['유동비율'] > LIQUID]\n",
    "    \n",
    "    # RANK\n",
    "    df_qp['RANK_1'] = df_qp['NCAV'].rank(ascending=False)\n",
    "    df_qp['TOTAL_RANK'] = df_qp['RANK_1'] #  + df_qp['RANK_2'] + df_qp['RANK_3']\n",
    "\n",
    "    stocks = []\n",
    "    counter = 0\n",
    "    for i, row in df_qp.iterrows():\n",
    "        counter += 1\n",
    "        if counter > NUM_STOCKS:\n",
    "            break\n",
    "        \n",
    "        candidate = row['종목코드']\n",
    "        candidate_name = row['회사명']\n",
    "            \n",
    "        #print(candidate, candidate_name)\n",
    "        stocks.append(candidate)\n",
    "    \n",
    "    print(len(stocks))\n",
    "    return stocks"
   ]
  },
  {
   "cell_type": "code",
   "execution_count": 6,
   "metadata": {},
   "outputs": [
    {
     "name": "stdout",
     "output_type": "stream",
     "text": [
      "------------------------------\n",
      "2018-08-01 data/daily/8-1/2018-08-01.csv\n",
      "42\n",
      "021820 세원정공\n",
      "041520 이라이콤\n",
      "123700 에스제이엠\n",
      "001080 만호제강\n",
      "043580 에임하이글로벌\n",
      "230240 에치에프알\n",
      "013120 동원개발\n",
      "004890 동일산업\n",
      "024070 WISCOM\n",
      "102280 쌍방울\n",
      "104700 한국철강\n",
      "079960 동양이엔피\n",
      "026940 부국철강\n",
      "002170 삼양통상\n",
      "003650 미창석유\n",
      "002920 유성기업\n",
      "038950 파인디지털\n",
      "029530 신도리코\n",
      "032080 아즈텍WB\n",
      "143160 아이디스\n",
      "088130 동아엘텍\n",
      "087600 픽셀플러스\n",
      "075180 새론오토모티브\n",
      "006660 삼성공조\n",
      "017480 삼현철강\n",
      "009140 경인전자\n",
      "007680 대원\n",
      "015230 대창단조\n",
      "033830 티비씨\n",
      "002290 삼일기업공사\n",
      "30\n"
     ]
    },
    {
     "data": {
      "text/plain": [
       "['021820',\n",
       " '041520',\n",
       " '123700',\n",
       " '001080',\n",
       " '043580',\n",
       " '230240',\n",
       " '013120',\n",
       " '004890',\n",
       " '024070',\n",
       " '102280',\n",
       " '104700',\n",
       " '079960',\n",
       " '026940',\n",
       " '002170',\n",
       " '003650',\n",
       " '002920',\n",
       " '038950',\n",
       " '029530',\n",
       " '032080',\n",
       " '143160',\n",
       " '088130',\n",
       " '087600',\n",
       " '075180',\n",
       " '006660',\n",
       " '017480',\n",
       " '009140',\n",
       " '007680',\n",
       " '015230',\n",
       " '033830',\n",
       " '002290']"
      ]
     },
     "execution_count": 6,
     "metadata": {},
     "output_type": "execute_result"
    }
   ],
   "source": [
    "# get_stocks('data/daily/8-1/2018-08-01.csv', '2018-08-01')"
   ]
  },
  {
   "cell_type": "code",
   "execution_count": null,
   "metadata": {},
   "outputs": [],
   "source": []
  }
 ],
 "metadata": {
  "kernelspec": {
   "display_name": "Python 3",
   "language": "python",
   "name": "python3"
  },
  "language_info": {
   "codemirror_mode": {
    "name": "ipython",
    "version": 3
   },
   "file_extension": ".py",
   "mimetype": "text/x-python",
   "name": "python",
   "nbconvert_exporter": "python",
   "pygments_lexer": "ipython3",
   "version": "3.7.6"
  }
 },
 "nbformat": 4,
 "nbformat_minor": 4
}
