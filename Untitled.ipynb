{
 "cells": [
  {
   "cell_type": "code",
   "execution_count": 9,
   "metadata": {},
   "outputs": [],
   "source": [
    "import os\n",
    "import ast\n",
    "import glob\n",
    "import datetime\n",
    "import statistics\n",
    "import numpy as np\n",
    "import pandas as pd\n",
    "import import_ipynb\n",
    "from marcap import marcap_data\n",
    "import FinanceDataReader as fdr\n",
    "import matplotlib.pyplot as plt"
   ]
  },
  {
   "cell_type": "code",
   "execution_count": 2,
   "metadata": {},
   "outputs": [],
   "source": [
    "df = pd.read_csv('log/8-1.csv')"
   ]
  },
  {
   "cell_type": "code",
   "execution_count": 13,
   "metadata": {},
   "outputs": [],
   "source": [
    "stocks = ast.literal_eval(df.iloc[len(df)-1].stocks)"
   ]
  },
  {
   "cell_type": "code",
   "execution_count": 10,
   "metadata": {},
   "outputs": [],
   "source": [
    "yields = ast.literal_eval(df.iloc[len(df)-1].yields)"
   ]
  },
  {
   "cell_type": "code",
   "execution_count": 21,
   "metadata": {},
   "outputs": [],
   "source": [
    "stock_code = stocks[np.argmax(yields)]"
   ]
  },
  {
   "cell_type": "code",
   "execution_count": 31,
   "metadata": {},
   "outputs": [
    {
     "data": {
      "text/plain": [
       "'189350'"
      ]
     },
     "execution_count": 31,
     "metadata": {},
     "output_type": "execute_result"
    }
   ],
   "source": [
    "stock_code"
   ]
  },
  {
   "cell_type": "code",
   "execution_count": 16,
   "metadata": {},
   "outputs": [],
   "source": [
    "def get_daily_yield(row):\n",
    "    threshold = row['Open'] + row['volatility'] * 0.5\n",
    "    if row['High'] > threshold:\n",
    "        return (row['Close'] / threshold) * 0.997\n",
    "    else:\n",
    "        return 1.0"
   ]
  },
  {
   "cell_type": "code",
   "execution_count": 17,
   "metadata": {},
   "outputs": [],
   "source": [
    "def get_stock_yield(df_price, stock_code, start_date, end_date):\n",
    "    \n",
    "    \n",
    "    return df_price['yield'].cumprod().tail(1).item()"
   ]
  },
  {
   "cell_type": "code",
   "execution_count": 18,
   "metadata": {},
   "outputs": [],
   "source": [
    "start_date = df.iloc[len(df)-1].start_date"
   ]
  },
  {
   "cell_type": "code",
   "execution_count": 20,
   "metadata": {},
   "outputs": [],
   "source": [
    "end_date = df.iloc[len(df)-1].end_date"
   ]
  },
  {
   "cell_type": "code",
   "execution_count": 22,
   "metadata": {},
   "outputs": [],
   "source": [
    "df_price = marcap_data(start_date, end_date, code=stock_code).reset_index()"
   ]
  },
  {
   "cell_type": "code",
   "execution_count": 24,
   "metadata": {},
   "outputs": [
    {
     "name": "stderr",
     "output_type": "stream",
     "text": [
      "/usr/local/lib/python3.7/site-packages/ipykernel_launcher.py:5: SettingWithCopyWarning: \n",
      "A value is trying to be set on a copy of a slice from a DataFrame.\n",
      "Try using .loc[row_indexer,col_indexer] = value instead\n",
      "\n",
      "See the caveats in the documentation: https://pandas.pydata.org/pandas-docs/stable/user_guide/indexing.html#returning-a-view-versus-a-copy\n",
      "  \"\"\"\n",
      "/usr/local/lib/python3.7/site-packages/ipykernel_launcher.py:6: SettingWithCopyWarning: \n",
      "A value is trying to be set on a copy of a slice from a DataFrame.\n",
      "Try using .loc[row_indexer,col_indexer] = value instead\n",
      "\n",
      "See the caveats in the documentation: https://pandas.pydata.org/pandas-docs/stable/user_guide/indexing.html#returning-a-view-versus-a-copy\n",
      "  \n",
      "/usr/local/lib/python3.7/site-packages/ipykernel_launcher.py:8: SettingWithCopyWarning: \n",
      "A value is trying to be set on a copy of a slice from a DataFrame.\n",
      "Try using .loc[row_indexer,col_indexer] = value instead\n",
      "\n",
      "See the caveats in the documentation: https://pandas.pydata.org/pandas-docs/stable/user_guide/indexing.html#returning-a-view-versus-a-copy\n",
      "  \n"
     ]
    }
   ],
   "source": [
    "#df_price = df_price[df_price['Code'] == stock_code]\n",
    "\n",
    "df_price = df_price[['Date', 'Open', 'Close', 'High', 'Low']]\n",
    "\n",
    "df_price['prev_high'] = df_price['High'].shift(1)\n",
    "df_price['prev_low'] = df_price['Low'].shift(1)\n",
    "\n",
    "df_price['volatility'] = df_price['prev_high'] - df_price['prev_low']\n",
    "df_price = df_price[1:]\n",
    "\n",
    "df_price['yield'] = df_price.apply(lambda x: get_daily_yield(x), axis=1)"
   ]
  },
  {
   "cell_type": "code",
   "execution_count": 25,
   "metadata": {},
   "outputs": [
    {
     "data": {
      "text/html": [
       "<div>\n",
       "<style scoped>\n",
       "    .dataframe tbody tr th:only-of-type {\n",
       "        vertical-align: middle;\n",
       "    }\n",
       "\n",
       "    .dataframe tbody tr th {\n",
       "        vertical-align: top;\n",
       "    }\n",
       "\n",
       "    .dataframe thead th {\n",
       "        text-align: right;\n",
       "    }\n",
       "</style>\n",
       "<table border=\"1\" class=\"dataframe\">\n",
       "  <thead>\n",
       "    <tr style=\"text-align: right;\">\n",
       "      <th></th>\n",
       "      <th>Date</th>\n",
       "      <th>Open</th>\n",
       "      <th>Close</th>\n",
       "      <th>High</th>\n",
       "      <th>Low</th>\n",
       "      <th>prev_high</th>\n",
       "      <th>prev_low</th>\n",
       "      <th>volatility</th>\n",
       "      <th>yield</th>\n",
       "    </tr>\n",
       "  </thead>\n",
       "  <tbody>\n",
       "    <tr>\n",
       "      <th>1</th>\n",
       "      <td>2018-08-02</td>\n",
       "      <td>1455.0</td>\n",
       "      <td>1540.0</td>\n",
       "      <td>1540.0</td>\n",
       "      <td>1455.0</td>\n",
       "      <td>1495.0</td>\n",
       "      <td>1495.0</td>\n",
       "      <td>0.0</td>\n",
       "      <td>1.055244</td>\n",
       "    </tr>\n",
       "    <tr>\n",
       "      <th>2</th>\n",
       "      <td>2018-08-03</td>\n",
       "      <td>1310.0</td>\n",
       "      <td>1380.0</td>\n",
       "      <td>1380.0</td>\n",
       "      <td>1310.0</td>\n",
       "      <td>1540.0</td>\n",
       "      <td>1455.0</td>\n",
       "      <td>85.0</td>\n",
       "      <td>1.017272</td>\n",
       "    </tr>\n",
       "    <tr>\n",
       "      <th>3</th>\n",
       "      <td>2018-08-06</td>\n",
       "      <td>1340.0</td>\n",
       "      <td>1205.0</td>\n",
       "      <td>1340.0</td>\n",
       "      <td>1205.0</td>\n",
       "      <td>1380.0</td>\n",
       "      <td>1310.0</td>\n",
       "      <td>70.0</td>\n",
       "      <td>1.000000</td>\n",
       "    </tr>\n",
       "    <tr>\n",
       "      <th>4</th>\n",
       "      <td>2018-08-07</td>\n",
       "      <td>1050.0</td>\n",
       "      <td>1380.0</td>\n",
       "      <td>1380.0</td>\n",
       "      <td>1050.0</td>\n",
       "      <td>1340.0</td>\n",
       "      <td>1205.0</td>\n",
       "      <td>135.0</td>\n",
       "      <td>1.231195</td>\n",
       "    </tr>\n",
       "    <tr>\n",
       "      <th>5</th>\n",
       "      <td>2018-08-08</td>\n",
       "      <td>1215.0</td>\n",
       "      <td>1580.0</td>\n",
       "      <td>1580.0</td>\n",
       "      <td>1215.0</td>\n",
       "      <td>1380.0</td>\n",
       "      <td>1050.0</td>\n",
       "      <td>330.0</td>\n",
       "      <td>1.141493</td>\n",
       "    </tr>\n",
       "    <tr>\n",
       "      <th>...</th>\n",
       "      <td>...</td>\n",
       "      <td>...</td>\n",
       "      <td>...</td>\n",
       "      <td>...</td>\n",
       "      <td>...</td>\n",
       "      <td>...</td>\n",
       "      <td>...</td>\n",
       "      <td>...</td>\n",
       "      <td>...</td>\n",
       "    </tr>\n",
       "    <tr>\n",
       "      <th>237</th>\n",
       "      <td>2019-07-26</td>\n",
       "      <td>1215.0</td>\n",
       "      <td>915.0</td>\n",
       "      <td>1215.0</td>\n",
       "      <td>915.0</td>\n",
       "      <td>1210.0</td>\n",
       "      <td>927.0</td>\n",
       "      <td>283.0</td>\n",
       "      <td>1.000000</td>\n",
       "    </tr>\n",
       "    <tr>\n",
       "      <th>238</th>\n",
       "      <td>2019-07-29</td>\n",
       "      <td>1050.0</td>\n",
       "      <td>835.0</td>\n",
       "      <td>1050.0</td>\n",
       "      <td>788.0</td>\n",
       "      <td>1215.0</td>\n",
       "      <td>915.0</td>\n",
       "      <td>300.0</td>\n",
       "      <td>1.000000</td>\n",
       "    </tr>\n",
       "    <tr>\n",
       "      <th>239</th>\n",
       "      <td>2019-07-30</td>\n",
       "      <td>740.0</td>\n",
       "      <td>960.0</td>\n",
       "      <td>960.0</td>\n",
       "      <td>740.0</td>\n",
       "      <td>1050.0</td>\n",
       "      <td>788.0</td>\n",
       "      <td>262.0</td>\n",
       "      <td>1.098875</td>\n",
       "    </tr>\n",
       "    <tr>\n",
       "      <th>240</th>\n",
       "      <td>2019-07-31</td>\n",
       "      <td>1100.0</td>\n",
       "      <td>830.0</td>\n",
       "      <td>1100.0</td>\n",
       "      <td>830.0</td>\n",
       "      <td>960.0</td>\n",
       "      <td>740.0</td>\n",
       "      <td>220.0</td>\n",
       "      <td>1.000000</td>\n",
       "    </tr>\n",
       "    <tr>\n",
       "      <th>241</th>\n",
       "      <td>2019-08-01</td>\n",
       "      <td>954.0</td>\n",
       "      <td>954.0</td>\n",
       "      <td>954.0</td>\n",
       "      <td>954.0</td>\n",
       "      <td>1100.0</td>\n",
       "      <td>830.0</td>\n",
       "      <td>270.0</td>\n",
       "      <td>1.000000</td>\n",
       "    </tr>\n",
       "  </tbody>\n",
       "</table>\n",
       "<p>241 rows × 9 columns</p>\n",
       "</div>"
      ],
      "text/plain": [
       "          Date    Open   Close    High     Low  prev_high  prev_low  \\\n",
       "1   2018-08-02  1455.0  1540.0  1540.0  1455.0     1495.0    1495.0   \n",
       "2   2018-08-03  1310.0  1380.0  1380.0  1310.0     1540.0    1455.0   \n",
       "3   2018-08-06  1340.0  1205.0  1340.0  1205.0     1380.0    1310.0   \n",
       "4   2018-08-07  1050.0  1380.0  1380.0  1050.0     1340.0    1205.0   \n",
       "5   2018-08-08  1215.0  1580.0  1580.0  1215.0     1380.0    1050.0   \n",
       "..         ...     ...     ...     ...     ...        ...       ...   \n",
       "237 2019-07-26  1215.0   915.0  1215.0   915.0     1210.0     927.0   \n",
       "238 2019-07-29  1050.0   835.0  1050.0   788.0     1215.0     915.0   \n",
       "239 2019-07-30   740.0   960.0   960.0   740.0     1050.0     788.0   \n",
       "240 2019-07-31  1100.0   830.0  1100.0   830.0      960.0     740.0   \n",
       "241 2019-08-01   954.0   954.0   954.0   954.0     1100.0     830.0   \n",
       "\n",
       "     volatility     yield  \n",
       "1           0.0  1.055244  \n",
       "2          85.0  1.017272  \n",
       "3          70.0  1.000000  \n",
       "4         135.0  1.231195  \n",
       "5         330.0  1.141493  \n",
       "..          ...       ...  \n",
       "237       283.0  1.000000  \n",
       "238       300.0  1.000000  \n",
       "239       262.0  1.098875  \n",
       "240       220.0  1.000000  \n",
       "241       270.0  1.000000  \n",
       "\n",
       "[241 rows x 9 columns]"
      ]
     },
     "execution_count": 25,
     "metadata": {},
     "output_type": "execute_result"
    }
   ],
   "source": [
    "df_price"
   ]
  },
  {
   "cell_type": "code",
   "execution_count": 28,
   "metadata": {},
   "outputs": [],
   "source": [
    "df_price['total'] = df_price['yield'].cumprod()"
   ]
  },
  {
   "cell_type": "code",
   "execution_count": 30,
   "metadata": {},
   "outputs": [
    {
     "data": {
      "image/png": "[encoded data removed]",
      "text/plain": [
       "<Figure size 432x288 with 1 Axes>"
      ]
     },
     "metadata": {
      "needs_background": "light"
     },
     "output_type": "display_data"
    }
   ],
   "source": [
    "fig, ax = plt.subplots()\n",
    "ax.plot_date(df_price['Date'], df_price['total'], marker='', linestyle='-')\n",
    "fig.autofmt_xdate()\n",
    "plt.show()"
   ]
  },
  {
   "cell_type": "code",
   "execution_count": null,
   "metadata": {},
   "outputs": [],
   "source": []
  }
 ],
 "metadata": {
  "kernelspec": {
   "display_name": "Python 3",
   "language": "python",
   "name": "python3"
  },
  "language_info": {
   "codemirror_mode": {
    "name": "ipython",
    "version": 3
   },
   "file_extension": ".py",
   "mimetype": "text/x-python",
   "name": "python",
   "nbconvert_exporter": "python",
   "pygments_lexer": "ipython3",
   "version": "3.7.6"
  }
 },
 "nbformat": 4,
 "nbformat_minor": 4
}
