{
 "cells": [
  {
   "cell_type": "code",
   "execution_count": 4,
   "metadata": {},
   "outputs": [],
   "source": [
    "import pandas as pd\n",
    "import import_ipynb\n",
    "from common import *"
   ]
  },
  {
   "cell_type": "markdown",
   "metadata": {},
   "source": [
    "| Rebalance |  CAGR  |  MDD   |    MDD duration   |  STD   | Note |\n",
    "|-|-|-|-|-|-|\n",
    "|    8-1    | 28.69% | 32.84% |      3       | 0.0923 |      |"
   ]
  },
  {
   "cell_type": "code",
   "execution_count": 5,
   "metadata": {},
   "outputs": [],
   "source": [
    "NUM_STOCKS = 30\n",
    "MIN_MARKET_CAP = 0.0\n",
    "MAX_MARKET_CAP = 0.2"
   ]
  },
  {
   "cell_type": "code",
   "execution_count": 1,
   "metadata": {},
   "outputs": [],
   "source": [
    "def get_stocks(filepath, date, verbose=True):\n",
    "    if verbose:\n",
    "        print(\"------------------------------\")\n",
    "        print(date, filepath)\n",
    "    df = pd.read_csv(filepath, dtype={\"기업코드\":\"string\", \"종목코드\":\"string\"})\n",
    "\n",
    "    cols = ['종목코드', 'IFRS', 'CFS', '회사명', '시가총액', 'PBR', 'PCR', 'PER', 'PSR', '유동비율']\n",
    "\n",
    "    df_qp = df[cols]\n",
    "    if verbose:\n",
    "        print('전체', len(df_qp))\n",
    "    \n",
    "    # 지주사, 금융사 제외\n",
    "    df_qp = exclude_holdings_and_finances(df_qp, '회사명')\n",
    "    if verbose:\n",
    "        print('지주사, 금융사 제외', len(df_qp))\n",
    "    \n",
    "    # 국외주식 제외\n",
    "    df_qp = exclude_foreign_corps(df_qp, '종목코드')\n",
    "    if verbose:\n",
    "        print('국외주식 제외', len(df_qp))\n",
    "    \n",
    "    # 유동비율 > 100%\n",
    "    df_qp = df_qp[df_qp['유동비율'] > 1.0]\n",
    "    if verbose:\n",
    "        print('유동비율 > 1', len(df_qp))\n",
    "    \n",
    "    # 시가총액 하위 20% \n",
    "    df_qp = df_qp[df_qp['시가총액'] > 0] # 시가총액 data가 없는 row는 제거\n",
    "    df_qp = df_qp.sort_values(by=['시가총액'])\n",
    "    if verbose:\n",
    "        print('가격정보 없는 기업 제외', len(df_qp))\n",
    "    df_qp = df_qp[int(len(df_qp)*MIN_MARKET_CAP):int(len(df_qp)*MAX_MARKET_CAP)]\n",
    "    \n",
    "    # get ranks\n",
    "    df_qp['1/PBR'] = 1 / df_qp['PBR']\n",
    "    df_qp['1/PCR'] = 1 / df_qp['PCR']\n",
    "    df_qp['1/PER'] = 1 / df_qp['PER']\n",
    "    df_qp['1/PSR'] = 1 / df_qp['PSR']\n",
    "    \n",
    "    df_qp['RANK_1'] = df_qp['1/PBR'].rank(ascending=False)\n",
    "    df_qp['RANK_2'] = df_qp['1/PCR'].rank(ascending=False)\n",
    "    df_qp['RANK_3'] = df_qp['1/PER'].rank(ascending=False)\n",
    "    df_qp['RANK_4'] = df_qp['1/PSR'].rank(ascending=False)\n",
    "    \n",
    "    df_qp['TOTAL_RANK'] = df_qp['RANK_1'] + df_qp['RANK_2'] + df_qp['RANK_3'] + df_qp['RANK_4']\n",
    "\n",
    "    df_qp = df_qp.sort_values(by=['TOTAL_RANK'])    \n",
    "    \n",
    "    stocks = []\n",
    "    counter = 0\n",
    "    for i, row in df_qp.iterrows():\n",
    "        counter += 1\n",
    "        if counter > NUM_STOCKS:\n",
    "            break\n",
    "        \n",
    "        candidate = row['종목코드']\n",
    "        candidate_name = row['회사명']\n",
    "            \n",
    "        #print(candidate_name, row['TOTAL_RANK'])\n",
    "        stocks.append(candidate)\n",
    "    \n",
    "    print(date, \"선정 기업 수\", len(stocks))\n",
    "    return stocks"
   ]
  },
  {
   "cell_type": "code",
   "execution_count": 10,
   "metadata": {},
   "outputs": [],
   "source": [
    "# get_stocks('data/daily/8-1/2018-08-01.csv', '2018-08-01')"
   ]
  },
  {
   "cell_type": "code",
   "execution_count": null,
   "metadata": {},
   "outputs": [],
   "source": []
  },
  {
   "cell_type": "code",
   "execution_count": null,
   "metadata": {},
   "outputs": [],
   "source": []
  }
 ],
 "metadata": {
  "kernelspec": {
   "display_name": "Python 3",
   "language": "python",
   "name": "python3"
  },
  "language_info": {
   "codemirror_mode": {
    "name": "ipython",
    "version": 3
   },
   "file_extension": ".py",
   "mimetype": "text/x-python",
   "name": "python",
   "nbconvert_exporter": "python",
   "pygments_lexer": "ipython3",
   "version": "3.7.6"
  }
 },
 "nbformat": 4,
 "nbformat_minor": 4
}
