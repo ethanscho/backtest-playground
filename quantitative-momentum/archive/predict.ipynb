{
 "cells": [
  {
   "cell_type": "code",
   "execution_count": null,
   "metadata": {},
   "outputs": [],
   "source": [
    "import pandas as pd\n",
    "import pandas_datareader as pdr\n",
    "from datetime import date, timedelta, datetime"
   ]
  },
  {
   "cell_type": "code",
   "execution_count": null,
   "metadata": {},
   "outputs": [],
   "source": [
    "# 종목 타입에 따라 download url이 다름. 종목코드 뒤에 .KS .KQ등이 입력되어야해서 Download Link 구분 필요\n",
    "stock_type = {\n",
    "    'kospi': 'stockMkt',\n",
    "    'kosdaq': 'kosdaqMkt'\n",
    "}\n",
    "\n",
    "# 회사명으로 주식 종목 코드를 획득할 수 있도록 하는 함수\n",
    "def get_code(df, name):\n",
    "    code = df.query(\"name=='{}'\".format(name))['code'].to_string(index=False)\n",
    "    # 위와같이 code명을 가져오면 앞에 공백이 붙어있는 상황이 발생하여 앞뒤로 sript() 하여 공백 제거\n",
    "    code = code.strip()\n",
    "    return code\n",
    "\n",
    "# download url 조합\n",
    "def get_download_stock(market_type=None):\n",
    "    market_type = stock_type[market_type]\n",
    "    download_link = 'http://kind.krx.co.kr/corpgeneral/corpList.do'\n",
    "    download_link = download_link + '?method=download'\n",
    "    download_link = download_link + '&marketType=' + market_type\n",
    "    df = pd.read_html(download_link, header=0)[0]\n",
    "    return df;\n",
    "\n",
    "# kospi 종목코드 목록 다운로드\n",
    "def get_download_kospi():\n",
    "    df = get_download_stock('kospi')\n",
    "    df.종목코드 = df.종목코드.map('{:06d}.KS'.format)\n",
    "    return df\n",
    "\n",
    "# kosdaq 종목코드 목록 다운로드\n",
    "def get_download_kosdaq():\n",
    "    df = get_download_stock('kosdaq')\n",
    "    df.종목코드 = df.종목코드.map('{:06d}.KQ'.format)\n",
    "    return df\n",
    "\n",
    "# kospi, kosdaq 종목코드 각각 다운로드\n",
    "kospi_df = get_download_kospi()\n",
    "kosdaq_df = get_download_kosdaq()\n",
    "# data frame merge\n",
    "code_df = pd.concat([kospi_df, kosdaq_df])\n",
    "# data frame정리\n",
    "code_df = code_df[['회사명', '종목코드']]\n",
    "# data frame title 변경 '회사명' = name, 종목코드 = 'code'\n",
    "code_df = code_df.rename(columns={'회사명': 'name', '종목코드': 'code'})"
   ]
  },
  {
   "cell_type": "code",
   "execution_count": null,
   "metadata": {},
   "outputs": [],
   "source": [
    "end_date_dt = date.today()\n",
    "start_date_dt = end_date_dt - timedelta(days=60)\n",
    "end_date = end_date_dt.strftime(\"%Y-%m-%d\")\n",
    "start_date = start_date_dt.strftime(\"%Y-%m-%d\")\n",
    "\n",
    "start_date, end_date"
   ]
  },
  {
   "cell_type": "code",
   "execution_count": null,
   "metadata": {},
   "outputs": [],
   "source": [
    "# # test\n",
    "code = get_code(code_df, '삼성전자')\n",
    "df_price = pdr.get_data_yahoo(code, start=start_date, end=end_date).reset_index()\n",
    "df_price"
   ]
  },
  {
   "cell_type": "code",
   "execution_count": null,
   "metadata": {},
   "outputs": [],
   "source": [
    "df_stock_yield = pd.DataFrame(columns=['stock_code', 'start_price', 'end_price', 'yield'])"
   ]
  },
  {
   "cell_type": "code",
   "execution_count": null,
   "metadata": {},
   "outputs": [],
   "source": [
    "stock_yields = []\n",
    "for i, row in enumerate(code_df.iterrows()):\n",
    "    if i < 86:\n",
    "        continue\n",
    "    #market = row[1].code[-2:]\n",
    "    #stock_code = row[1].code[:-3]\n",
    "    \n",
    "    try:\n",
    "        df_price = pdr.get_data_yahoo(row[1].code, start=start_date, end=end_date).reset_index()\n",
    "    except:\n",
    "        print(i, \"no price:\", row[1]['name'], row[1].code)\n",
    "        continue\n",
    "        \n",
    "    if len(df_price) == 0:\n",
    "        print(i, \"no price:\", row[1]['name'], row[1].code)\n",
    "        continue\n",
    "        \n",
    "    # 마지막 가격 날짜 확인\n",
    "    df_price_end_date = df_price.iloc[len(df_price) - 1].Date\n",
    "    df_price_end_date = datetime.strptime(str(df_price_end_date)[:10], '%Y-%m-%d').date()\n",
    "\n",
    "    if (end_date_dt - df_price_end_date).days >= 7: # 최근 일주일 내 거래되지 않았으면 제거\n",
    "        print(i, \"no recent price:\", row[1]['name'], df_price_end_date)\n",
    "        continue\n",
    "\n",
    "    start_price = df_price.iloc[0].Open\n",
    "    end_price = df_price.iloc[len(df_price) - 1].Close\n",
    "    stock_yield = end_price / start_price \n",
    "\n",
    "    stock_yields.append({'stock_code': row[1].code[:-3], 'start_price': start_price, 'end_price': end_price, 'yield': stock_yield})\n",
    "\n",
    "    print(i, len(stock_yields), row[1]['name'], row[1]['code'], stock_yield)"
   ]
  },
  {
   "cell_type": "code",
   "execution_count": null,
   "metadata": {},
   "outputs": [],
   "source": [
    "df_stock_yield = df_stock_yield.append(stock_yields)"
   ]
  },
  {
   "cell_type": "code",
   "execution_count": null,
   "metadata": {},
   "outputs": [],
   "source": [
    "df_stock_yield.to_csv(\"predict.csv\")"
   ]
  },
  {
   "cell_type": "markdown",
   "metadata": {},
   "source": []
  }
 ],
 "metadata": {
  "kernelspec": {
   "display_name": "Python 3",
   "language": "python",
   "name": "python3"
  },
  "language_info": {
   "codemirror_mode": {
    "name": "ipython",
    "version": 3
   },
   "file_extension": ".py",
   "mimetype": "text/x-python",
   "name": "python",
   "nbconvert_exporter": "python",
   "pygments_lexer": "ipython3",
   "version": "3.7.6"
  }
 },
 "nbformat": 4,
 "nbformat_minor": 4
}
