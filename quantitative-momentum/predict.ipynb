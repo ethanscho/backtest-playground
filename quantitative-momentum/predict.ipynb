{
 "cells": [
  {
   "cell_type": "code",
   "execution_count": null,
   "metadata": {},
   "outputs": [],
   "source": [
    "import sqlite3\n",
    "import requests\n",
    "import numpy as np\n",
    "import pandas as pd\n",
    "from bs4 import BeautifulSoup\n",
    "import FinanceDataReader as fdr\n",
    "from datetime import date, timedelta, datetime"
   ]
  },
  {
   "cell_type": "code",
   "execution_count": null,
   "metadata": {},
   "outputs": [],
   "source": [
    "end_date_dt = date.today()\n",
    "start_date_dt = end_date_dt - timedelta(days=60)\n",
    "end_date = end_date_dt.strftime(\"%Y-%m-%d\")\n",
    "start_date = start_date_dt.strftime(\"%Y-%m-%d\")\n",
    "\n",
    "start_date, end_date"
   ]
  },
  {
   "cell_type": "code",
   "execution_count": null,
   "metadata": {},
   "outputs": [],
   "source": [
    "# query financial statement data\n",
    "conn = sqlite3.connect('../../data/data_v3.1.db')\n",
    "cur = conn.cursor()\n",
    "\n",
    "if end_date_dt.month > 5:\n",
    "    sql = \"select * from fs where year=\" + str(int(end_date[:4]) - 1) # 작년도의 재무상태표, 손익계산서 데이터를 가져온다. \n",
    "else:\n",
    "    sql = \"select * from fs where year=\" + str(int(end_date[:4]) - 2) # 재작년도의 재무상태표, 손익계산서 데이터를 가져온다. \n",
    "    \n",
    "cur.execute(sql)\n",
    "rows = cur.fetchall()\n",
    "print(\"Querried rows:\", len(rows))\n",
    "\n",
    "# insert querried data into dataframe\n",
    "df_company = pd.DataFrame(columns=['날짜', '기업코드', '종목코드', '회사명', '유동자산', '유동부채', '자산총계'])\n",
    "\n",
    "companies = []\n",
    "for row in rows:\n",
    "    company = {}\n",
    "    company['날짜'] = end_date\n",
    "    company['기업코드'] = row[1] # corp code\n",
    "    company['종목코드'] = row[2] # stock code\n",
    "    company['회사명'] = row[3] # corp name\n",
    "    company[row[4]] = row[5] # amount\n",
    "    company['IFRS'] = row[6] # IFRS\n",
    "    company['CFS'] = row[7] # CFS\n",
    "    \n",
    "    companies.append(company)\n",
    "df_company = df_company.append(companies)"
   ]
  },
  {
   "cell_type": "code",
   "execution_count": null,
   "metadata": {},
   "outputs": [],
   "source": [
    "aggregation_functions = {'종목코드': 'first', '회사명': 'first', '유동자산': 'sum', '유동부채': 'sum', '자산총계': 'sum', '날짜': 'first'}"
   ]
  },
  {
   "cell_type": "code",
   "execution_count": null,
   "metadata": {},
   "outputs": [],
   "source": [
    "# 연결 재무제표 기업\n",
    "df_cfs = df_company[df_company.CFS == 1]\n",
    "df_cfs = df_cfs.groupby(['기업코드', 'IFRS', 'CFS']).aggregate(aggregation_functions).reset_index()\n",
    "df_cfs = df_cfs[df_cfs['자산총계'] > 0]\n",
    "len(df_cfs)"
   ]
  },
  {
   "cell_type": "code",
   "execution_count": null,
   "metadata": {},
   "outputs": [],
   "source": [
    "# 개별 재무제표 기업\n",
    "df_fs = df_company[df_company.CFS == 0]\n",
    "df_fs = df_fs.groupby(['기업코드', 'IFRS', 'CFS']).aggregate(aggregation_functions).reset_index()\n",
    "df_fs = df_fs[df_fs['자산총계'] > 0]\n",
    "len(df_fs)"
   ]
  },
  {
   "cell_type": "code",
   "execution_count": null,
   "metadata": {},
   "outputs": [],
   "source": [
    "# CFS가 있는 기업은 FS에서 삭제\n",
    "cfs_stock_codes = df_cfs['종목코드'].tolist()\n",
    "df_fs['CFS_EXISTS'] = df_fs.apply(lambda x: x['종목코드'] in cfs_stock_codes, axis=1)\n",
    "df_fs = df_fs[df_fs['CFS_EXISTS'] == False]\n",
    "df_fs = df_fs.drop(columns=['CFS_EXISTS'])\n",
    "\n",
    "# 합체\n",
    "df_company = pd.concat([df_cfs, df_fs]).reset_index().drop(columns=['index'])\n",
    "print(\"Number of companies:\", len(df_company))"
   ]
  },
  {
   "cell_type": "code",
   "execution_count": null,
   "metadata": {},
   "outputs": [],
   "source": [
    "df_company['유동비율'] = df_company['유동자산'] / df_company['유동부채']"
   ]
  },
  {
   "cell_type": "code",
   "execution_count": null,
   "metadata": {},
   "outputs": [],
   "source": [
    "df_company"
   ]
  },
  {
   "cell_type": "code",
   "execution_count": null,
   "metadata": {},
   "outputs": [],
   "source": [
    "def get_price_and_stocks(stock_code):\n",
    "    try:\n",
    "        url = \"https://finance.naver.com/item/main.nhn?code=\" + stock_code\n",
    "        response = requests.get(url)\n",
    "        html = BeautifulSoup(response.text, 'html.parser')\n",
    "        \n",
    "        # 관리종목 여부 확인\n",
    "        description = html.find(\"div\", {\"class\": \"description\"})\n",
    "        spans = description.find_all(\"span\")\n",
    "        for span in spans:\n",
    "            if span.text == '관리종목':\n",
    "                print(\"관리종목\")\n",
    "                return 0, 0\n",
    "\n",
    "        # 주식 수\n",
    "        aside = html.find(\"div\", {\"id\": \"aside\"})\n",
    "        table = aside.find(\"div\", {\"class\": \"first\"})\n",
    "        trs = table.find_all(\"tr\")\n",
    "\n",
    "        num_stocks = trs[2].find(\"td\").text\n",
    "        num_stocks = int(num_stocks.replace(\",\",\"\"))\n",
    "\n",
    "        # 가격\n",
    "        content = html.find(\"div\", {\"id\": \"content\"})\n",
    "        div_today = content.find(\"div\", {\"class\": \"today\"})\n",
    "        price = div_today.find(\"span\").text\n",
    "        price = int(price.replace(\",\",\"\"))\n",
    "\n",
    "        return price, num_stocks\n",
    "    except:\n",
    "        return 0, 0"
   ]
  },
  {
   "cell_type": "code",
   "execution_count": null,
   "metadata": {},
   "outputs": [],
   "source": [
    "# 과거 60일 가격 정보로 모멘텀 데이터 채우기\n",
    "df_company['주가'] = np.NaN\n",
    "df_company['주식수'] = np.NaN\n",
    "df_company['시가총액'] = np.NaN\n",
    "df_company['start_price'] = np.NaN\n",
    "df_company['end_price'] = np.NaN\n",
    "df_company['yield'] = np.NaN\n",
    "\n",
    "for i, row in enumerate(df_company.iterrows()):\n",
    "    company = row[1] # company = (corp code, ifrs, cfs, stock code, corp name, ...)\n",
    "    stock_code = company[3]\n",
    "    \n",
    "    # 시가총액\n",
    "    price, num_stocks = get_price_and_stocks(stock_code)\n",
    "    market_cap = price * num_stocks\n",
    "    \n",
    "    df_company.at[row[0], '주가'] = price\n",
    "    df_company.at[row[0], '주식수'] = num_stocks\n",
    "    df_company.at[row[0], '시가총액'] = market_cap\n",
    "    \n",
    "    if price == 0: # 네이버 금융에 가격정보가 없거나 현재 관리종목인 경우\n",
    "        print(i, \"no price NAVER:\", company[4], stock_code)\n",
    "        continue\n",
    "    else:\n",
    "        df_price = fdr.DataReader(stock_code, start_date, end_date).reset_index()\n",
    "        \n",
    "        if len(df_price) == 0:\n",
    "            print(i, \"no price FDR:\", company[4])\n",
    "            continue\n",
    "            \n",
    "        # 마지막 가격 날짜 확인\n",
    "        df_price_end_date = df_price.iloc[len(df_price) - 1].Date\n",
    "        df_price_end_date = datetime.strptime(str(df_price_end_date)[:10], '%Y-%m-%d').date()\n",
    "\n",
    "        if (end_date_dt - df_price_end_date).days >= 7: # 최근 일주일 내 거래되지 않았으면 제거\n",
    "            print(i, \"최근 거래 없음:\", company[4], df_price_end_date)\n",
    "            continue\n",
    "\n",
    "        start_price = df_price.iloc[0].Open\n",
    "        end_price = df_price.iloc[len(df_price) - 1].Close\n",
    "        stock_yield = end_price / start_price \n",
    "        \n",
    "        df_company.at[row[0], 'start_price'] = start_price\n",
    "        df_company.at[row[0], 'end_price'] = end_price\n",
    "        df_company.at[row[0], 'yield'] = stock_yield\n",
    "        \n",
    "        print(i, company[4], stock_code, market_cap, stock_yield)"
   ]
  },
  {
   "cell_type": "code",
   "execution_count": null,
   "metadata": {},
   "outputs": [],
   "source": []
  },
  {
   "cell_type": "code",
   "execution_count": null,
   "metadata": {},
   "outputs": [],
   "source": []
  },
  {
   "cell_type": "code",
   "execution_count": null,
   "metadata": {},
   "outputs": [],
   "source": []
  },
  {
   "cell_type": "code",
   "execution_count": null,
   "metadata": {},
   "outputs": [],
   "source": []
  },
  {
   "cell_type": "code",
   "execution_count": null,
   "metadata": {},
   "outputs": [],
   "source": []
  },
  {
   "cell_type": "code",
   "execution_count": null,
   "metadata": {},
   "outputs": [],
   "source": []
  },
  {
   "cell_type": "code",
   "execution_count": null,
   "metadata": {},
   "outputs": [],
   "source": [
    "# # test\n",
    "df_price = fdr.DataReader('084870', start_date, end_date).reset_index()\n",
    "df_price"
   ]
  },
  {
   "cell_type": "code",
   "execution_count": null,
   "metadata": {},
   "outputs": [],
   "source": []
  }
 ],
 "metadata": {
  "kernelspec": {
   "display_name": "Python 3",
   "language": "python",
   "name": "python3"
  },
  "language_info": {
   "codemirror_mode": {
    "name": "ipython",
    "version": 3
   },
   "file_extension": ".py",
   "mimetype": "text/x-python",
   "name": "python",
   "nbconvert_exporter": "python",
   "pygments_lexer": "ipython3",
   "version": "3.7.6"
  }
 },
 "nbformat": 4,
 "nbformat_minor": 4
}
