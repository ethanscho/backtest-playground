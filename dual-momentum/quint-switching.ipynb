{
 "cells": [
  {
   "cell_type": "code",
   "execution_count": 11,
   "metadata": {},
   "outputs": [],
   "source": [
    "from matplotlib import pyplot as plt\n",
    "from datetime import date, timedelta\n",
    "import yfinance as yf\n",
    "import pandas as pd"
   ]
  },
  {
   "cell_type": "markdown",
   "metadata": {},
   "source": [
    "# Download data"
   ]
  },
  {
   "cell_type": "code",
   "execution_count": 12,
   "metadata": {},
   "outputs": [],
   "source": [
    "symbols = ['IEF', 'SPY', 'QQQ', 'EFA', 'EEM', 'TLT']"
   ]
  },
  {
   "cell_type": "code",
   "execution_count": 13,
   "metadata": {},
   "outputs": [],
   "source": [
    "end_date = date.today()\n",
    "end_date = end_date.strftime(\"%Y-%m-%d\")\n",
    "\n",
    "start_date = date.today()- timedelta(days=90)\n",
    "start_date = start_date.strftime(\"%Y-%m-%d\")"
   ]
  },
  {
   "cell_type": "code",
   "execution_count": 14,
   "metadata": {},
   "outputs": [
    {
     "data": {
      "text/plain": [
       "('2020-12-19', '2021-03-19')"
      ]
     },
     "execution_count": 14,
     "metadata": {},
     "output_type": "execute_result"
    }
   ],
   "source": [
    "start_date, end_date"
   ]
  },
  {
   "cell_type": "code",
   "execution_count": 15,
   "metadata": {},
   "outputs": [
    {
     "name": "stdout",
     "output_type": "stream",
     "text": [
      "IEF appended\n",
      "SPY appended\n",
      "QQQ appended\n",
      "EFA appended\n",
      "EEM appended\n",
      "TLT appended\n"
     ]
    }
   ],
   "source": [
    "dfs = {}\n",
    "for symbol in symbols:\n",
    "    data = yf.Ticker(symbol)\n",
    "    df = data.history(period='1d', start=start_date, end=end_date)\n",
    "    \n",
    "    dfs[symbol] = df.reset_index()\n",
    "    print(symbol, \"appended\")"
   ]
  },
  {
   "cell_type": "markdown",
   "metadata": {},
   "source": [
    "# Preprocess data"
   ]
  },
  {
   "cell_type": "code",
   "execution_count": 16,
   "metadata": {},
   "outputs": [],
   "source": [
    "yields = {}"
   ]
  },
  {
   "cell_type": "code",
   "execution_count": 17,
   "metadata": {},
   "outputs": [],
   "source": [
    "# ETF별 과거 90일 수익률 구하기\n",
    "for symbol in symbols:\n",
    "    open_price = dfs[symbol].iloc[0]['Open']\n",
    "    close_price = dfs[symbol].iloc[len(dfs[symbol]) - 1]['Close']\n",
    "    yield_rate = close_price / open_price\n",
    "    yields[symbol] = yield_rate"
   ]
  },
  {
   "cell_type": "code",
   "execution_count": 18,
   "metadata": {},
   "outputs": [
    {
     "data": {
      "text/plain": [
       "{'IEF': 0.9453450078825656,\n",
       " 'SPY': 1.055287515697052,\n",
       " 'QQQ': 1.0030341250427675,\n",
       " 'EFA': 1.0441096057630566,\n",
       " 'EEM': 1.0484788492447386,\n",
       " 'TLT': 0.8543570575990299}"
      ]
     },
     "execution_count": 18,
     "metadata": {},
     "output_type": "execute_result"
    }
   ],
   "source": [
    "yields"
   ]
  },
  {
   "cell_type": "code",
   "execution_count": 19,
   "metadata": {},
   "outputs": [],
   "source": [
    "def get_max_symbol():\n",
    "    max_yield_rate = -1.0\n",
    "    for symbol, yield_rate in yields.items():\n",
    "        if symbol == 'IEF':\n",
    "            continue\n",
    "\n",
    "        if yield_rate < 1.0:\n",
    "            return 'IEF'\n",
    "\n",
    "        if yield_rate > max_yield_rate:\n",
    "            max_yield_rate = yield_rate\n",
    "            max_symbol = symbol\n",
    "\n",
    "    return max_symbol"
   ]
  },
  {
   "cell_type": "code",
   "execution_count": 20,
   "metadata": {},
   "outputs": [
    {
     "data": {
      "text/plain": [
       "'IEF'"
      ]
     },
     "execution_count": 20,
     "metadata": {},
     "output_type": "execute_result"
    }
   ],
   "source": [
    "get_max_symbol()"
   ]
  },
  {
   "cell_type": "code",
   "execution_count": null,
   "metadata": {},
   "outputs": [],
   "source": []
  }
 ],
 "metadata": {
  "kernelspec": {
   "display_name": "Python 3",
   "language": "python",
   "name": "python3"
  },
  "language_info": {
   "codemirror_mode": {
    "name": "ipython",
    "version": 3
   },
   "file_extension": ".py",
   "mimetype": "text/x-python",
   "name": "python",
   "nbconvert_exporter": "python",
   "pygments_lexer": "ipython3",
   "version": "3.7.3"
  }
 },
 "nbformat": 4,
 "nbformat_minor": 4
}
