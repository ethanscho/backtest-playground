{
 "cells": [
  {
   "cell_type": "markdown",
   "metadata": {},
   "source": [
    "## QP: PBR + GP/A"
   ]
  },
  {
   "cell_type": "markdown",
   "metadata": {},
   "source": [
    "| Rebalance |  CAGR  |  MDD   | MDD duration |  STD   | Delisted | Win rate | Note |\n",
    "|-|-|-|-|-|-|-|-|\n",
    "|    8-1   | 46.23% | 53.35% |      7       | 0.0959 |    11    |  62.25%  |  2002 ~ 2019    |\n",
    "|    8-1    | 46.33% | 50.57% |      7       | 0.1362 |    7     |  62.08%  |  1999 ~ 2019    |\n",
    "|    8-1    | 41.36% | 58.71% |      8       | 0.1291 |    6     |  60.00%  |  유동비율 > 100%   |\n",
    "|    8-1    | 26.13% | 55.30% |      8       | 0.0836 |    4     |  59.17%  |  주당배당금 > 0    |\n",
    "|    9-1    | 37.03% | 55.96% |      10      | 0.1098 |    12    |  58.33%  |  1999 ~ 2019    |\n",
    "|    10-1   | 46.13% | 53.35% |      7       | 0.0963 |    13    |      | 2002 ~ 2019 |\n",
    "|    10-1   | 41.26% | 56.33% |      8       | 0.1183 |    11    |  59.17%  |  1999 ~ 2019    |"
   ]
  },
  {
   "cell_type": "markdown",
   "metadata": {},
   "source": [
    "## Super value: PBR + PCR + PER + PSR"
   ]
  },
  {
   "cell_type": "markdown",
   "metadata": {},
   "source": [
    "| Rebalance |  CAGR  |  MDD   | MDD duration |  STD   | Delisted | Note |\n",
    "|-|-|-|-|-|-|-|\n",
    "|    8-1    | 32.96% | 62.28% |      7       | 0.0912 |    4     |      |"
   ]
  },
  {
   "cell_type": "markdown",
   "metadata": {},
   "source": [
    "## NCAV"
   ]
  },
  {
   "cell_type": "markdown",
   "metadata": {},
   "source": [
    "| Rebalance |  CAGR  |  MDD   | MDD duration |  STD   | Delisted | Note |\n",
    "|-|-|-|-|-|-|-|\n",
    "|    8-1    | 23.65% | 54.13% |      7       | 0.0793 |    4     |      |"
   ]
  },
  {
   "cell_type": "markdown",
   "metadata": {},
   "source": [
    "## Super quality: 증자 x, 당기순이익 +, 영업현금흐름 +, GP/A"
   ]
  },
  {
   "cell_type": "markdown",
   "metadata": {},
   "source": [
    "| Rebalance |  CAGR  |  MDD   | MDD duration |  STD   | Delisted | Note |\n",
    "|-|-|-|-|-|-|-|\n",
    "|    8-1    | 23.59% | 54.95% |      9       | 0.0764 |    11    |      |"
   ]
  }
 ],
 "metadata": {
  "kernelspec": {
   "display_name": "Python 3",
   "language": "python",
   "name": "python3"
  },
  "language_info": {
   "codemirror_mode": {
    "name": "ipython",
    "version": 3
   },
   "file_extension": ".py",
   "mimetype": "text/x-python",
   "name": "python",
   "nbconvert_exporter": "python",
   "pygments_lexer": "ipython3",
   "version": "3.7.6"
  }
 },
 "nbformat": 4,
 "nbformat_minor": 4
}
