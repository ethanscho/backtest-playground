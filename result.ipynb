{
 "cells": [
  {
   "cell_type": "markdown",
   "metadata": {},
   "source": [
    "## QP: PBR + GP/A"
   ]
  },
  {
   "cell_type": "markdown",
   "metadata": {},
   "source": [
    "| Rebalance |  CAGR  |  MDD   | MDD duration |  STD   | Delisted | Note |\n",
    "|-|-|-|-|-|-|-|\n",
    "|    8-1    | 47.05% | 52.19% |      7       | 0.1061 |    7     |      |\n",
    "|    10-1   | 46.13% | 53.35% |      7       | 0.0963 |    13    |      |"
   ]
  },
  {
   "cell_type": "markdown",
   "metadata": {},
   "source": [
    "## Super value: PBR + PCR + PER + PSR"
   ]
  },
  {
   "cell_type": "markdown",
   "metadata": {},
   "source": [
    "| Rebalance |  CAGR  |  MDD   | MDD duration |  STD   | Delisted | Note |\n",
    "|-|-|-|-|-|-|-|\n",
    "|    8-1    | 32.96% | 62.28% |      7       | 0.0912 |    4     |      |"
   ]
  },
  {
   "cell_type": "markdown",
   "metadata": {},
   "source": [
    "## NCAV"
   ]
  },
  {
   "cell_type": "markdown",
   "metadata": {},
   "source": [
    "| Rebalance |  CAGR  |  MDD   | MDD duration |  STD   | Delisted | Note |\n",
    "|-|-|-|-|-|-|-|\n",
    "|    8-1    | 23.65% | 54.13% |      7       | 0.0793 |    4     |      |"
   ]
  },
  {
   "cell_type": "markdown",
   "metadata": {},
   "source": [
    "## Super quality: 증자 x, 당기순이익 +, 영업현금흐름 +, GP/A"
   ]
  },
  {
   "cell_type": "markdown",
   "metadata": {},
   "source": [
    "| Rebalance |  CAGR  |  MDD   | MDD duration |  STD   | Delisted | Note |\n",
    "|-|-|-|-|-|-|-|\n",
    "|    8-1    | 23.59% | 54.95% |      9       | 0.0764 |    11    |      |"
   ]
  }
 ],
 "metadata": {
  "kernelspec": {
   "display_name": "Python 3",
   "language": "python",
   "name": "python3"
  },
  "language_info": {
   "codemirror_mode": {
    "name": "ipython",
    "version": 3
   },
   "file_extension": ".py",
   "mimetype": "text/x-python",
   "name": "python",
   "nbconvert_exporter": "python",
   "pygments_lexer": "ipython3",
   "version": "3.7.6"
  }
 },
 "nbformat": 4,
 "nbformat_minor": 4
}
