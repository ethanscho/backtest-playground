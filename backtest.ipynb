{
 "cells": [
  {
   "cell_type": "code",
   "execution_count": 24,
   "metadata": {},
   "outputs": [],
   "source": [
    "import os\n",
    "import glob\n",
    "import datetime\n",
    "import statistics\n",
    "import numpy as np\n",
    "import pandas as pd\n",
    "import import_ipynb\n",
    "from marcap import marcap_data\n",
    "import FinanceDataReader as fdr\n",
    "import matplotlib.pyplot as plt"
   ]
  },
  {
   "cell_type": "code",
   "execution_count": 25,
   "metadata": {},
   "outputs": [],
   "source": [
    "import models.qp as model\n",
    "#from ncav import get_stocks # NCAV\n",
    "#from super_value import get_stocks\n",
    "#from super_quality import get_stocks"
   ]
  },
  {
   "cell_type": "code",
   "execution_count": 26,
   "metadata": {},
   "outputs": [],
   "source": [
    "MODEL_NAME = 'qp'\n",
    "DATA_DIR = 'data/daily/8-1'"
   ]
  },
  {
   "cell_type": "code",
   "execution_count": 27,
   "metadata": {},
   "outputs": [],
   "source": [
    "df_account = pd.DataFrame(columns=['start_date', 'end_date', 'filepath'])\n",
    "filepaths = glob.glob(DATA_DIR + \"/*.csv\")\n",
    "filepaths = sorted(filepaths)\n",
    "\n",
    "days = []\n",
    "for i in range(len(filepaths)):\n",
    "    if i < len(filepaths) - 1: # exclude last item\n",
    "        start_date =  os.path.basename(filepaths[i])[:-4]\n",
    "        end_date =  os.path.basename(filepaths[i + 1])[:-4]\n",
    "        \n",
    "        day = {'start_date':start_date, 'end_date':end_date, 'filepath':filepaths[i]}\n",
    "        days.append(day)\n",
    "\n",
    "df_account = df_account.append(days)"
   ]
  },
  {
   "cell_type": "code",
   "execution_count": 28,
   "metadata": {},
   "outputs": [
    {
     "data": {
      "text/html": [
       "<div>\n",
       "<style scoped>\n",
       "    .dataframe tbody tr th:only-of-type {\n",
       "        vertical-align: middle;\n",
       "    }\n",
       "\n",
       "    .dataframe tbody tr th {\n",
       "        vertical-align: top;\n",
       "    }\n",
       "\n",
       "    .dataframe thead th {\n",
       "        text-align: right;\n",
       "    }\n",
       "</style>\n",
       "<table border=\"1\" class=\"dataframe\">\n",
       "  <thead>\n",
       "    <tr style=\"text-align: right;\">\n",
       "      <th></th>\n",
       "      <th>start_date</th>\n",
       "      <th>end_date</th>\n",
       "      <th>filepath</th>\n",
       "    </tr>\n",
       "  </thead>\n",
       "  <tbody>\n",
       "    <tr>\n",
       "      <th>0</th>\n",
       "      <td>2002-08-01</td>\n",
       "      <td>2003-08-01</td>\n",
       "      <td>data/daily/8-1/2002-08-01.csv</td>\n",
       "    </tr>\n",
       "  </tbody>\n",
       "</table>\n",
       "</div>"
      ],
      "text/plain": [
       "   start_date    end_date                       filepath\n",
       "0  2002-08-01  2003-08-01  data/daily/8-1/2002-08-01.csv"
      ]
     },
     "execution_count": 28,
     "metadata": {},
     "output_type": "execute_result"
    }
   ],
   "source": [
    "df_account"
   ]
  },
  {
   "cell_type": "code",
   "execution_count": 29,
   "metadata": {},
   "outputs": [
    {
     "name": "stdout",
     "output_type": "stream",
     "text": [
      "2002-08-01 선정 기업 수 30\n"
     ]
    }
   ],
   "source": [
    "# 연도별 종목을 구한다.\n",
    "df_account['stocks'] = df_account.apply(lambda x: model.get_stocks(x.filepath, x.start_date, False), axis=1)"
   ]
  },
  {
   "cell_type": "code",
   "execution_count": 30,
   "metadata": {},
   "outputs": [
    {
     "name": "stdout",
     "output_type": "stream",
     "text": [
      "2002-08-01 ~ 2003-08-01 : 0.8535899132381205\n"
     ]
    }
   ],
   "source": [
    "# 연도별 수익률을 구한다.\n",
    "df_account['yield'] = 0.0\n",
    "df_account['yields'] = 0.0\n",
    "df_account['yields'] = df_account['yields'].astype('object')\n",
    "df_account['delisted'] = 0\n",
    "df_account['delisted_stocks'] = df_account['yields'].astype('object')\n",
    "\n",
    "for i in range(len(filepaths)):\n",
    "    if i < len(filepaths) - 1: # exclude last item\n",
    "        start_date = df_account.iloc[i].start_date\n",
    "        end_date = df_account.iloc[i].end_date\n",
    "        \n",
    "        df_this_year = pd.read_csv(filepaths[i], dtype={\"기업코드\":\"string\", \"종목코드\":\"string\"})[['종목코드', '주가']]\n",
    "        df_next_year = pd.read_csv(filepaths[i + 1], dtype={\"기업코드\":\"string\", \"종목코드\":\"string\"})[['종목코드', '주가']]\n",
    "        \n",
    "        stocks = df_account.iloc[i].stocks   \n",
    "        yields = []\n",
    "        \n",
    "        # 종목별 수익률, 상장폐지 기업 수를 구한다.\n",
    "        delisted = 0 # 상장폐지 기업 수\n",
    "        delisted_stocks  = []\n",
    "        for stock in stocks:\n",
    "            start_price = df_this_year[df_this_year['종목코드'] == stock]['주가'].iloc[0]\n",
    "            end_price = df_next_year[df_next_year['종목코드'] == stock]['주가']\n",
    "            \n",
    "            if len(end_price) == 0:\n",
    "                end_price = 0\n",
    "            else:                    \n",
    "                end_price = end_price.fillna(0) \n",
    "                end_price = end_price.iloc[0]\n",
    "                \n",
    "            if end_price == 0: # 가격 정보가 없을 경우 상폐\n",
    "                delisted += 1\n",
    "                delisted_stocks.append(stock)\n",
    "            \n",
    "            # get yield\n",
    "            yields.append(end_price / start_price)\n",
    "\n",
    "        # stock 수익률들의 avg가 total 수익률이 된다. (동일 비중이기 때문에)\n",
    "        mean_yields = statistics.mean(yields)\n",
    "        df_account.at[i, 'yield'] = mean_yields\n",
    "        df_account.at[i, 'yields'] = yields\n",
    "        df_account.at[i, 'delisted'] = delisted\n",
    "        df_account.at[i, 'delisted_stocks'] = delisted_stocks\n",
    "        \n",
    "        print(start_date, '~', end_date, \":\", mean_yields)\n",
    "        \n",
    "        #break"
   ]
  },
  {
   "cell_type": "code",
   "execution_count": 12,
   "metadata": {},
   "outputs": [],
   "source": [
    "df_account['total'] = df_account['yield'].cumprod()"
   ]
  },
  {
   "cell_type": "code",
   "execution_count": 13,
   "metadata": {},
   "outputs": [],
   "source": [
    "df_account['cagr'] = 0.0\n",
    "for i, row in enumerate(df_account.iterrows()):\n",
    "    df_account.at[i, 'cagr'] = pow(row[1]['total'], 1/(i+1))"
   ]
  },
  {
   "cell_type": "code",
   "execution_count": 14,
   "metadata": {},
   "outputs": [],
   "source": [
    "def get_win_rate(yield_rates):\n",
    "    return sum([yield_rate > 1.0 for yield_rate in yield_rates]) / len(yield_rates)\n",
    "\n",
    "df_account['win_rate'] = df_account.apply(lambda x: get_win_rate(x['yields']), axis=1)"
   ]
  },
  {
   "cell_type": "code",
   "execution_count": 15,
   "metadata": {},
   "outputs": [],
   "source": [
    "df_account['best_corp'] = df_account.apply(lambda x: max(x['yields']), axis=1)\n",
    "df_account['worst_corp'] = df_account.apply(lambda x: min(x['yields']), axis=1)"
   ]
  },
  {
   "cell_type": "code",
   "execution_count": 16,
   "metadata": {},
   "outputs": [],
   "source": [
    "df_account['best_stock_code'] = df_account.apply(lambda x: x['stocks'][np.argmax(x['yields'])], axis=1)\n",
    "df_account['worst_stock_code'] = df_account.apply(lambda x: x['stocks'][np.argmin(x['yields'])], axis=1)"
   ]
  },
  {
   "cell_type": "code",
   "execution_count": 17,
   "metadata": {},
   "outputs": [
    {
     "data": {
      "image/png": "[encoded data removed]",
      "text/plain": [
       "<Figure size 432x288 with 1 Axes>"
      ]
     },
     "metadata": {
      "needs_background": "light"
     },
     "output_type": "display_data"
    }
   ],
   "source": [
    "fig, ax = plt.subplots()\n",
    "plt.bar(df_account['start_date'], df_account['yield'])\n",
    "fig.autofmt_xdate()\n",
    "plt.show()"
   ]
  },
  {
   "cell_type": "code",
   "execution_count": 18,
   "metadata": {},
   "outputs": [
    {
     "data": {
      "image/png": "[encoded data removed]",
      "text/plain": [
       "<Figure size 432x288 with 1 Axes>"
      ]
     },
     "metadata": {
      "needs_background": "light"
     },
     "output_type": "display_data"
    }
   ],
   "source": [
    "fig, ax = plt.subplots()\n",
    "ax.plot_date(df_account['start_date'], df_account['total'], marker='', linestyle='-')\n",
    "fig.autofmt_xdate()\n",
    "plt.show()"
   ]
  },
  {
   "cell_type": "code",
   "execution_count": 19,
   "metadata": {},
   "outputs": [
    {
     "data": {
      "image/png": "[encoded data removed]",
      "text/plain": [
       "<Figure size 432x288 with 1 Axes>"
      ]
     },
     "metadata": {
      "needs_background": "light"
     },
     "output_type": "display_data"
    }
   ],
   "source": [
    "fig, ax = plt.subplots()\n",
    "ax.plot_date(df_account['start_date'], df_account['cagr'], marker='', linestyle='-')\n",
    "fig.autofmt_xdate()\n",
    "plt.show()"
   ]
  },
  {
   "cell_type": "code",
   "execution_count": 20,
   "metadata": {},
   "outputs": [
    {
     "data": {
      "text/plain": [
       "0.3204363926453925"
      ]
     },
     "execution_count": 20,
     "metadata": {},
     "output_type": "execute_result"
    }
   ],
   "source": [
    "1 - min(df_account['yield'])"
   ]
  },
  {
   "cell_type": "code",
   "execution_count": 21,
   "metadata": {},
   "outputs": [
    {
     "data": {
      "text/plain": [
       "4.0286799618191695"
      ]
     },
     "execution_count": 21,
     "metadata": {},
     "output_type": "execute_result"
    }
   ],
   "source": [
    "max(df_account['yield'])"
   ]
  },
  {
   "cell_type": "code",
   "execution_count": 22,
   "metadata": {},
   "outputs": [
    {
     "data": {
      "text/plain": [
       "20"
      ]
     },
     "execution_count": 22,
     "metadata": {},
     "output_type": "execute_result"
    }
   ],
   "source": [
    "# 가격 정보가 없는 경우 상폐로 처리했음. 실제로 상폐까지는 아니고 거래정지인 경우가 있음\n",
    "sum(df_account['delisted'])"
   ]
  },
  {
   "cell_type": "code",
   "execution_count": 23,
   "metadata": {},
   "outputs": [
    {
     "data": {
      "text/html": [
       "<div>\n",
       "<style scoped>\n",
       "    .dataframe tbody tr th:only-of-type {\n",
       "        vertical-align: middle;\n",
       "    }\n",
       "\n",
       "    .dataframe tbody tr th {\n",
       "        vertical-align: top;\n",
       "    }\n",
       "\n",
       "    .dataframe thead th {\n",
       "        text-align: right;\n",
       "    }\n",
       "</style>\n",
       "<table border=\"1\" class=\"dataframe\">\n",
       "  <thead>\n",
       "    <tr style=\"text-align: right;\">\n",
       "      <th></th>\n",
       "      <th>start_date</th>\n",
       "      <th>end_date</th>\n",
       "      <th>filepath</th>\n",
       "      <th>stocks</th>\n",
       "      <th>yield</th>\n",
       "      <th>yields</th>\n",
       "      <th>delisted</th>\n",
       "      <th>delisted_stocks</th>\n",
       "      <th>total</th>\n",
       "      <th>cagr</th>\n",
       "      <th>win_rate</th>\n",
       "      <th>best_corp</th>\n",
       "      <th>worst_corp</th>\n",
       "      <th>best_stock_code</th>\n",
       "      <th>worst_stock_code</th>\n",
       "    </tr>\n",
       "  </thead>\n",
       "  <tbody>\n",
       "    <tr>\n",
       "      <th>0</th>\n",
       "      <td>2002-08-01</td>\n",
       "      <td>2003-08-01</td>\n",
       "      <td>data/daily/8-1/2002-08-01.csv</td>\n",
       "      <td>[003230, 000850, 004780, 004090, 021820, 05441...</td>\n",
       "      <td>0.759149</td>\n",
       "      <td>[0.5693215339233039, 0.8968903436988543, 0.895...</td>\n",
       "      <td>1</td>\n",
       "      <td>[003900]</td>\n",
       "      <td>0.759149</td>\n",
       "      <td>0.759149</td>\n",
       "      <td>0.200000</td>\n",
       "      <td>1.577933</td>\n",
       "      <td>0.000000</td>\n",
       "      <td>006070</td>\n",
       "      <td>003900</td>\n",
       "    </tr>\n",
       "    <tr>\n",
       "      <th>1</th>\n",
       "      <td>2003-08-01</td>\n",
       "      <td>2004-08-02</td>\n",
       "      <td>data/daily/8-1/2003-08-01.csv</td>\n",
       "      <td>[010600, 000850, 004780, 005320, 011300, 00089...</td>\n",
       "      <td>0.679564</td>\n",
       "      <td>[0.7766666666666666, 1.197080291970803, 1.0718...</td>\n",
       "      <td>7</td>\n",
       "      <td>[001490, 001590, 003020, 003590, 009790, 03197...</td>\n",
       "      <td>0.515890</td>\n",
       "      <td>0.718255</td>\n",
       "      <td>0.266667</td>\n",
       "      <td>1.843072</td>\n",
       "      <td>0.000000</td>\n",
       "      <td>014130</td>\n",
       "      <td>001490</td>\n",
       "    </tr>\n",
       "    <tr>\n",
       "      <th>2</th>\n",
       "      <td>2004-08-02</td>\n",
       "      <td>2005-08-01</td>\n",
       "      <td>data/daily/8-1/2004-08-02.csv</td>\n",
       "      <td>[010600, 004090, 004780, 021820, 011390, 03275...</td>\n",
       "      <td>4.028680</td>\n",
       "      <td>[1.6251788268955651, 3.1928480204342273, 1.539...</td>\n",
       "      <td>5</td>\n",
       "      <td>[048540, 036880, 036020, 037120, 037650]</td>\n",
       "      <td>2.078357</td>\n",
       "      <td>1.276165</td>\n",
       "      <td>0.833333</td>\n",
       "      <td>20.588235</td>\n",
       "      <td>0.000000</td>\n",
       "      <td>050050</td>\n",
       "      <td>048540</td>\n",
       "    </tr>\n",
       "    <tr>\n",
       "      <th>3</th>\n",
       "      <td>2005-08-01</td>\n",
       "      <td>2006-08-01</td>\n",
       "      <td>data/daily/8-1/2005-08-01.csv</td>\n",
       "      <td>[010600, 009470, 004780, 046310, 045060, 00532...</td>\n",
       "      <td>1.096139</td>\n",
       "      <td>[2.183098591549296, 1.2173913043478262, 1.0705...</td>\n",
       "      <td>3</td>\n",
       "      <td>[005320, 001580, 038980]</td>\n",
       "      <td>2.278168</td>\n",
       "      <td>1.228560</td>\n",
       "      <td>0.500000</td>\n",
       "      <td>2.494845</td>\n",
       "      <td>0.000000</td>\n",
       "      <td>004770</td>\n",
       "      <td>005320</td>\n",
       "    </tr>\n",
       "    <tr>\n",
       "      <th>4</th>\n",
       "      <td>2006-08-01</td>\n",
       "      <td>2007-08-01</td>\n",
       "      <td>data/daily/8-1/2006-08-01.csv</td>\n",
       "      <td>[068290, 008110, 009470, 004780, 004090, 03275...</td>\n",
       "      <td>2.522786</td>\n",
       "      <td>[2.0201729106628243, 1.4378238341968912, 1.678...</td>\n",
       "      <td>0</td>\n",
       "      <td>[]</td>\n",
       "      <td>5.747331</td>\n",
       "      <td>1.418709</td>\n",
       "      <td>0.966667</td>\n",
       "      <td>13.384615</td>\n",
       "      <td>0.988889</td>\n",
       "      <td>046390</td>\n",
       "      <td>010420</td>\n",
       "    </tr>\n",
       "    <tr>\n",
       "      <th>5</th>\n",
       "      <td>2007-08-01</td>\n",
       "      <td>2008-08-01</td>\n",
       "      <td>data/daily/8-1/2007-08-01.csv</td>\n",
       "      <td>[006060, 079650, 008110, 010600, 045060, 00947...</td>\n",
       "      <td>0.758714</td>\n",
       "      <td>[0.7112195121951219, 1.1064572425828971, 1.327...</td>\n",
       "      <td>0</td>\n",
       "      <td>[]</td>\n",
       "      <td>4.360581</td>\n",
       "      <td>1.278176</td>\n",
       "      <td>0.133333</td>\n",
       "      <td>2.293144</td>\n",
       "      <td>0.043750</td>\n",
       "      <td>009470</td>\n",
       "      <td>010600</td>\n",
       "    </tr>\n",
       "    <tr>\n",
       "      <th>6</th>\n",
       "      <td>2008-08-01</td>\n",
       "      <td>2009-08-03</td>\n",
       "      <td>data/daily/8-1/2008-08-01.csv</td>\n",
       "      <td>[006060, 005320, 061040, 079650, 016920, 04631...</td>\n",
       "      <td>1.322916</td>\n",
       "      <td>[1.6186556927297668, 0.9861111111111112, 2.0, ...</td>\n",
       "      <td>0</td>\n",
       "      <td>[]</td>\n",
       "      <td>5.768684</td>\n",
       "      <td>1.284474</td>\n",
       "      <td>0.500000</td>\n",
       "      <td>6.622222</td>\n",
       "      <td>0.185161</td>\n",
       "      <td>050760</td>\n",
       "      <td>004780</td>\n",
       "    </tr>\n",
       "    <tr>\n",
       "      <th>7</th>\n",
       "      <td>2009-08-03</td>\n",
       "      <td>2010-08-02</td>\n",
       "      <td>data/daily/8-1/2009-08-03.csv</td>\n",
       "      <td>[079650, 011300, 019180, 038680, 015260, 08355...</td>\n",
       "      <td>1.276466</td>\n",
       "      <td>[1.049403747870528, 0.18161434977578475, 0.941...</td>\n",
       "      <td>0</td>\n",
       "      <td>[]</td>\n",
       "      <td>7.363528</td>\n",
       "      <td>1.283470</td>\n",
       "      <td>0.700000</td>\n",
       "      <td>2.438095</td>\n",
       "      <td>0.181614</td>\n",
       "      <td>018500</td>\n",
       "      <td>011300</td>\n",
       "    </tr>\n",
       "    <tr>\n",
       "      <th>8</th>\n",
       "      <td>2010-08-02</td>\n",
       "      <td>2011-08-01</td>\n",
       "      <td>data/daily/8-1/2010-08-02.csv</td>\n",
       "      <td>[011090, 005360, 079650, 038680, 039830, 01526...</td>\n",
       "      <td>1.654986</td>\n",
       "      <td>[0.8471910112359551, 0.7877094972067039, 0.925...</td>\n",
       "      <td>0</td>\n",
       "      <td>[]</td>\n",
       "      <td>12.186537</td>\n",
       "      <td>1.320241</td>\n",
       "      <td>0.700000</td>\n",
       "      <td>10.800000</td>\n",
       "      <td>0.100941</td>\n",
       "      <td>046940</td>\n",
       "      <td>005670</td>\n",
       "    </tr>\n",
       "    <tr>\n",
       "      <th>9</th>\n",
       "      <td>2011-08-01</td>\n",
       "      <td>2012-08-01</td>\n",
       "      <td>data/daily/8-1/2011-08-01.csv</td>\n",
       "      <td>[002140, 005360, 011090, 031860, 057880, 00459...</td>\n",
       "      <td>1.531964</td>\n",
       "      <td>[1.0797872340425532, 3.049645390070922, 1.4801...</td>\n",
       "      <td>0</td>\n",
       "      <td>[]</td>\n",
       "      <td>18.669341</td>\n",
       "      <td>1.340025</td>\n",
       "      <td>0.600000</td>\n",
       "      <td>9.172414</td>\n",
       "      <td>0.671554</td>\n",
       "      <td>010600</td>\n",
       "      <td>031310</td>\n",
       "    </tr>\n",
       "    <tr>\n",
       "      <th>10</th>\n",
       "      <td>2012-08-01</td>\n",
       "      <td>2013-08-01</td>\n",
       "      <td>data/daily/8-1/2012-08-01.csv</td>\n",
       "      <td>[079650, 000520, 046310, 004590, 012600, 00409...</td>\n",
       "      <td>1.275210</td>\n",
       "      <td>[2.3214285714285716, 1.3238095238095238, 0.859...</td>\n",
       "      <td>0</td>\n",
       "      <td>[]</td>\n",
       "      <td>23.807331</td>\n",
       "      <td>1.333999</td>\n",
       "      <td>0.666667</td>\n",
       "      <td>3.587258</td>\n",
       "      <td>0.301724</td>\n",
       "      <td>122690</td>\n",
       "      <td>002140</td>\n",
       "    </tr>\n",
       "    <tr>\n",
       "      <th>11</th>\n",
       "      <td>2013-08-01</td>\n",
       "      <td>2014-08-01</td>\n",
       "      <td>data/daily/8-1/2013-08-01.csv</td>\n",
       "      <td>[035450, 046310, 008870, 012600, 079650, 01060...</td>\n",
       "      <td>1.258351</td>\n",
       "      <td>[0.0, 0.8734567901234568, 1.1283333333333334, ...</td>\n",
       "      <td>1</td>\n",
       "      <td>[035450]</td>\n",
       "      <td>29.957986</td>\n",
       "      <td>1.327525</td>\n",
       "      <td>0.800000</td>\n",
       "      <td>2.420635</td>\n",
       "      <td>0.000000</td>\n",
       "      <td>004740</td>\n",
       "      <td>035450</td>\n",
       "    </tr>\n",
       "    <tr>\n",
       "      <th>12</th>\n",
       "      <td>2014-08-01</td>\n",
       "      <td>2015-08-03</td>\n",
       "      <td>data/daily/8-1/2014-08-01.csv</td>\n",
       "      <td>[033340, 046310, 183410, 200130, 079650, 00052...</td>\n",
       "      <td>2.098901</td>\n",
       "      <td>[1.9877551020408164, 1.8869257950530036, 0.666...</td>\n",
       "      <td>1</td>\n",
       "      <td>[032420]</td>\n",
       "      <td>62.878833</td>\n",
       "      <td>1.375139</td>\n",
       "      <td>0.866667</td>\n",
       "      <td>9.191919</td>\n",
       "      <td>0.000000</td>\n",
       "      <td>036200</td>\n",
       "      <td>032420</td>\n",
       "    </tr>\n",
       "    <tr>\n",
       "      <th>13</th>\n",
       "      <td>2015-08-03</td>\n",
       "      <td>2016-08-01</td>\n",
       "      <td>data/daily/8-1/2015-08-03.csv</td>\n",
       "      <td>[183410, 218410, 198440, 208140, 104110, 03801...</td>\n",
       "      <td>1.590381</td>\n",
       "      <td>[0.58, 0.8525641025641025, 0.8755364806866953,...</td>\n",
       "      <td>0</td>\n",
       "      <td>[]</td>\n",
       "      <td>100.001295</td>\n",
       "      <td>1.389497</td>\n",
       "      <td>0.866667</td>\n",
       "      <td>4.275256</td>\n",
       "      <td>0.580000</td>\n",
       "      <td>206640</td>\n",
       "      <td>183410</td>\n",
       "    </tr>\n",
       "    <tr>\n",
       "      <th>14</th>\n",
       "      <td>2016-08-01</td>\n",
       "      <td>2017-08-01</td>\n",
       "      <td>data/daily/8-1/2016-08-01.csv</td>\n",
       "      <td>[183410, 215100, 215790, 208890, 198440, 13458...</td>\n",
       "      <td>1.126131</td>\n",
       "      <td>[0.9706896551724138, 0.0, 1.2275, 1.5652173913...</td>\n",
       "      <td>1</td>\n",
       "      <td>[215100]</td>\n",
       "      <td>112.614584</td>\n",
       "      <td>1.370165</td>\n",
       "      <td>0.566667</td>\n",
       "      <td>2.469185</td>\n",
       "      <td>0.000000</td>\n",
       "      <td>005620</td>\n",
       "      <td>215100</td>\n",
       "    </tr>\n",
       "    <tr>\n",
       "      <th>15</th>\n",
       "      <td>2017-08-01</td>\n",
       "      <td>2018-08-01</td>\n",
       "      <td>data/daily/8-1/2017-08-01.csv</td>\n",
       "      <td>[204620, 183410, 225590, 230240, 218410, 18935...</td>\n",
       "      <td>1.644391</td>\n",
       "      <td>[2.970212765957447, 2.0426287744227354, 1.0623...</td>\n",
       "      <td>1</td>\n",
       "      <td>[110660]</td>\n",
       "      <td>185.182395</td>\n",
       "      <td>1.385878</td>\n",
       "      <td>0.400000</td>\n",
       "      <td>13.936170</td>\n",
       "      <td>0.000000</td>\n",
       "      <td>218410</td>\n",
       "      <td>110660</td>\n",
       "    </tr>\n",
       "    <tr>\n",
       "      <th>16</th>\n",
       "      <td>2018-08-01</td>\n",
       "      <td>2019-08-01</td>\n",
       "      <td>data/daily/8-1/2018-08-01.csv</td>\n",
       "      <td>[002070, 277410, 256630, 208890, 227420, 03895...</td>\n",
       "      <td>1.385583</td>\n",
       "      <td>[5.687679083094556, 0.517799352750809, 1.33740...</td>\n",
       "      <td>0</td>\n",
       "      <td>[]</td>\n",
       "      <td>256.585588</td>\n",
       "      <td>1.385861</td>\n",
       "      <td>0.466667</td>\n",
       "      <td>9.082569</td>\n",
       "      <td>0.517799</td>\n",
       "      <td>230240</td>\n",
       "      <td>277410</td>\n",
       "    </tr>\n",
       "  </tbody>\n",
       "</table>\n",
       "</div>"
      ],
      "text/plain": [
       "    start_date    end_date                       filepath  \\\n",
       "0   2002-08-01  2003-08-01  data/daily/8-1/2002-08-01.csv   \n",
       "1   2003-08-01  2004-08-02  data/daily/8-1/2003-08-01.csv   \n",
       "2   2004-08-02  2005-08-01  data/daily/8-1/2004-08-02.csv   \n",
       "3   2005-08-01  2006-08-01  data/daily/8-1/2005-08-01.csv   \n",
       "4   2006-08-01  2007-08-01  data/daily/8-1/2006-08-01.csv   \n",
       "5   2007-08-01  2008-08-01  data/daily/8-1/2007-08-01.csv   \n",
       "6   2008-08-01  2009-08-03  data/daily/8-1/2008-08-01.csv   \n",
       "7   2009-08-03  2010-08-02  data/daily/8-1/2009-08-03.csv   \n",
       "8   2010-08-02  2011-08-01  data/daily/8-1/2010-08-02.csv   \n",
       "9   2011-08-01  2012-08-01  data/daily/8-1/2011-08-01.csv   \n",
       "10  2012-08-01  2013-08-01  data/daily/8-1/2012-08-01.csv   \n",
       "11  2013-08-01  2014-08-01  data/daily/8-1/2013-08-01.csv   \n",
       "12  2014-08-01  2015-08-03  data/daily/8-1/2014-08-01.csv   \n",
       "13  2015-08-03  2016-08-01  data/daily/8-1/2015-08-03.csv   \n",
       "14  2016-08-01  2017-08-01  data/daily/8-1/2016-08-01.csv   \n",
       "15  2017-08-01  2018-08-01  data/daily/8-1/2017-08-01.csv   \n",
       "16  2018-08-01  2019-08-01  data/daily/8-1/2018-08-01.csv   \n",
       "\n",
       "                                               stocks     yield  \\\n",
       "0   [003230, 000850, 004780, 004090, 021820, 05441...  0.759149   \n",
       "1   [010600, 000850, 004780, 005320, 011300, 00089...  0.679564   \n",
       "2   [010600, 004090, 004780, 021820, 011390, 03275...  4.028680   \n",
       "3   [010600, 009470, 004780, 046310, 045060, 00532...  1.096139   \n",
       "4   [068290, 008110, 009470, 004780, 004090, 03275...  2.522786   \n",
       "5   [006060, 079650, 008110, 010600, 045060, 00947...  0.758714   \n",
       "6   [006060, 005320, 061040, 079650, 016920, 04631...  1.322916   \n",
       "7   [079650, 011300, 019180, 038680, 015260, 08355...  1.276466   \n",
       "8   [011090, 005360, 079650, 038680, 039830, 01526...  1.654986   \n",
       "9   [002140, 005360, 011090, 031860, 057880, 00459...  1.531964   \n",
       "10  [079650, 000520, 046310, 004590, 012600, 00409...  1.275210   \n",
       "11  [035450, 046310, 008870, 012600, 079650, 01060...  1.258351   \n",
       "12  [033340, 046310, 183410, 200130, 079650, 00052...  2.098901   \n",
       "13  [183410, 218410, 198440, 208140, 104110, 03801...  1.590381   \n",
       "14  [183410, 215100, 215790, 208890, 198440, 13458...  1.126131   \n",
       "15  [204620, 183410, 225590, 230240, 218410, 18935...  1.644391   \n",
       "16  [002070, 277410, 256630, 208890, 227420, 03895...  1.385583   \n",
       "\n",
       "                                               yields  delisted  \\\n",
       "0   [0.5693215339233039, 0.8968903436988543, 0.895...         1   \n",
       "1   [0.7766666666666666, 1.197080291970803, 1.0718...         7   \n",
       "2   [1.6251788268955651, 3.1928480204342273, 1.539...         5   \n",
       "3   [2.183098591549296, 1.2173913043478262, 1.0705...         3   \n",
       "4   [2.0201729106628243, 1.4378238341968912, 1.678...         0   \n",
       "5   [0.7112195121951219, 1.1064572425828971, 1.327...         0   \n",
       "6   [1.6186556927297668, 0.9861111111111112, 2.0, ...         0   \n",
       "7   [1.049403747870528, 0.18161434977578475, 0.941...         0   \n",
       "8   [0.8471910112359551, 0.7877094972067039, 0.925...         0   \n",
       "9   [1.0797872340425532, 3.049645390070922, 1.4801...         0   \n",
       "10  [2.3214285714285716, 1.3238095238095238, 0.859...         0   \n",
       "11  [0.0, 0.8734567901234568, 1.1283333333333334, ...         1   \n",
       "12  [1.9877551020408164, 1.8869257950530036, 0.666...         1   \n",
       "13  [0.58, 0.8525641025641025, 0.8755364806866953,...         0   \n",
       "14  [0.9706896551724138, 0.0, 1.2275, 1.5652173913...         1   \n",
       "15  [2.970212765957447, 2.0426287744227354, 1.0623...         1   \n",
       "16  [5.687679083094556, 0.517799352750809, 1.33740...         0   \n",
       "\n",
       "                                      delisted_stocks       total      cagr  \\\n",
       "0                                            [003900]    0.759149  0.759149   \n",
       "1   [001490, 001590, 003020, 003590, 009790, 03197...    0.515890  0.718255   \n",
       "2            [048540, 036880, 036020, 037120, 037650]    2.078357  1.276165   \n",
       "3                            [005320, 001580, 038980]    2.278168  1.228560   \n",
       "4                                                  []    5.747331  1.418709   \n",
       "5                                                  []    4.360581  1.278176   \n",
       "6                                                  []    5.768684  1.284474   \n",
       "7                                                  []    7.363528  1.283470   \n",
       "8                                                  []   12.186537  1.320241   \n",
       "9                                                  []   18.669341  1.340025   \n",
       "10                                                 []   23.807331  1.333999   \n",
       "11                                           [035450]   29.957986  1.327525   \n",
       "12                                           [032420]   62.878833  1.375139   \n",
       "13                                                 []  100.001295  1.389497   \n",
       "14                                           [215100]  112.614584  1.370165   \n",
       "15                                           [110660]  185.182395  1.385878   \n",
       "16                                                 []  256.585588  1.385861   \n",
       "\n",
       "    win_rate  best_corp  worst_corp best_stock_code worst_stock_code  \n",
       "0   0.200000   1.577933    0.000000          006070           003900  \n",
       "1   0.266667   1.843072    0.000000          014130           001490  \n",
       "2   0.833333  20.588235    0.000000          050050           048540  \n",
       "3   0.500000   2.494845    0.000000          004770           005320  \n",
       "4   0.966667  13.384615    0.988889          046390           010420  \n",
       "5   0.133333   2.293144    0.043750          009470           010600  \n",
       "6   0.500000   6.622222    0.185161          050760           004780  \n",
       "7   0.700000   2.438095    0.181614          018500           011300  \n",
       "8   0.700000  10.800000    0.100941          046940           005670  \n",
       "9   0.600000   9.172414    0.671554          010600           031310  \n",
       "10  0.666667   3.587258    0.301724          122690           002140  \n",
       "11  0.800000   2.420635    0.000000          004740           035450  \n",
       "12  0.866667   9.191919    0.000000          036200           032420  \n",
       "13  0.866667   4.275256    0.580000          206640           183410  \n",
       "14  0.566667   2.469185    0.000000          005620           215100  \n",
       "15  0.400000  13.936170    0.000000          218410           110660  \n",
       "16  0.466667   9.082569    0.517799          230240           277410  "
      ]
     },
     "execution_count": 23,
     "metadata": {},
     "output_type": "execute_result"
    }
   ],
   "source": [
    "df_account"
   ]
  },
  {
   "cell_type": "code",
   "execution_count": null,
   "metadata": {},
   "outputs": [],
   "source": [
    "#df_account.to_csv('log/' + MODEL_NAME + '-' + os.path.basename(DATA_DIR) + '.csv', index=False)"
   ]
  },
  {
   "cell_type": "code",
   "execution_count": null,
   "metadata": {},
   "outputs": [],
   "source": []
  }
 ],
 "metadata": {
  "kernelspec": {
   "display_name": "Python 3",
   "language": "python",
   "name": "python3"
  },
  "language_info": {
   "codemirror_mode": {
    "name": "ipython",
    "version": 3
   },
   "file_extension": ".py",
   "mimetype": "text/x-python",
   "name": "python",
   "nbconvert_exporter": "python",
   "pygments_lexer": "ipython3",
   "version": "3.7.6"
  }
 },
 "nbformat": 4,
 "nbformat_minor": 4
}
